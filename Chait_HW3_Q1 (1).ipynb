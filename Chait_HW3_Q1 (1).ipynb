{
  "nbformat": 4,
  "nbformat_minor": 0,
  "metadata": {
    "colab": {
      "provenance": []
    },
    "kernelspec": {
      "name": "python3",
      "display_name": "Python 3"
    },
    "language_info": {
      "name": "python"
    }
  },
  "cells": [
    {
      "cell_type": "code",
      "execution_count": 1,
      "metadata": {
        "id": "F3wd5ub7mu0f"
      },
      "outputs": [],
      "source": [
        "import numpy as np\n",
        "import pandas as pd\n",
        "import scipy \n",
        "import sklearn\n",
        "from collections import Counter\n",
        "from sklearn.metrics import multilabel_confusion_matrix\n",
        "from scipy import spatial"
      ]
    },
    {
      "cell_type": "code",
      "source": [
        "data = pd.read_csv(r\"/content/data.csv\",header=None)"
      ],
      "metadata": {
        "id": "gLH0aticnC__"
      },
      "execution_count": null,
      "outputs": []
    },
    {
      "cell_type": "code",
      "source": [
        "labels = pd.read_csv(r\"/content/label.csv\",names=['label'],header=None)"
      ],
      "metadata": {
        "id": "WayM5UqtnNHh"
      },
      "execution_count": null,
      "outputs": []
    },
    {
      "cell_type": "code",
      "source": [
        "train_data = data.iloc[:8000]\n",
        "test_data = data.iloc[8000:]\n",
        "train_labels = labels.iloc[:8000]\n",
        "test_labels = labels.iloc[8000:]"
      ],
      "metadata": {
        "id": "vazKRWfSnOMK"
      },
      "execution_count": null,
      "outputs": []
    },
    {
      "cell_type": "code",
      "source": [
        "class KMeans:\n",
        "    \n",
        "    def calculate_SSE(self, centroid_value_dict, centroid_dict,data):\n",
        "        #centroid_value_dict - dictionary of centroids\n",
        "        #centroid_dict - dict of centroids keys and data points indexes\n",
        "        sse_data = 0\n",
        "        for i in centroid_dict:\n",
        "            sse_cluster = 0\n",
        "            # np.sum()\n",
        "            for j in centroid_dict[i]:\n",
        "                dp = list(data.iloc[int(j)])\n",
        "                for a,b in zip(centroid_value_dict[i],dp):\n",
        "                    sse_cluster += (a-b)**2\n",
        "            sse_data+=sse_cluster\n",
        "        return sse_data    \n",
        "    \n",
        "    def Initialize_Centroids(self,data,K):\n",
        "        m = data.shape[0]\n",
        "        centroid_value_dict={}\n",
        "        for i in range(K):\n",
        "            r = np.random.randint(0, m-1)\n",
        "            centroid_value_dict[i] = data.iloc[r]\n",
        "        return centroid_value_dict\n",
        "        #return centroid_list,centroid_dict\n",
        "    \n",
        "    def jaccard_similarity(self,centroid, dp):\n",
        "        intersection = len(list(set(centroid).intersection(dp)))\n",
        "        union = (len(set(centroid)) + len(set(dp))) - intersection\n",
        "        return float(intersection) / union\n",
        "\n",
        "    def train_Kmeans(self,data,K,max_iter=20,mode=1,tol=10):\n",
        "        #Mode = 1 => Euclidean np.linalg.norm(x-list(data.iloc[i,:]))\n",
        "        #Mode = 2 => Jaccard\n",
        "        #Mode = 3 => Cosine\n",
        "        centroid_value_dict = self.Initialize_Centroids(data,K)\n",
        "        new_centroid_value_dict = {}\n",
        "        count = 0\n",
        "        centroid_dict = {}\n",
        "        convergence = False\n",
        "        while((count<max_iter) and not convergence):\n",
        "            \n",
        "            for i in list(centroid_value_dict.keys()):\n",
        "                centroid_dict[i]=[]\n",
        "            for i in range(data.shape[0]):\n",
        "                x = data.iloc[i]\n",
        "                if mode==1 :\n",
        "                    distance_measure = [np.linalg.norm(x-centroid_value_dict[j])  for j in centroid_value_dict]\n",
        "                    idx = np.argmin(distance_measure)\n",
        "                    centroid_dict[idx].append(i)\n",
        "                elif mode==2 :\n",
        "                    distance_measure = [self.jaccard_similarity(list(x),centroid_value_dict[j]) for j in centroid_value_dict]\n",
        "                    idx = np.argmax(distance_measure)\n",
        "                    centroid_dict[idx].append(i)\n",
        "                elif mode==3 :\n",
        "                    distance_measure = [1-scipy.spatial.distance.cosine(x,list(centroid_value_dict[j]))  for j in centroid_value_dict]\n",
        "                    idx = np.argmax(distance_measure)\n",
        "                    centroid_dict[idx].append(i)\n",
        "                \n",
        "                prev_centroids=dict(centroid_value_dict)\n",
        "                \n",
        "            \n",
        "            for i in centroid_dict:\n",
        "                if len(centroid_dict[i]):\n",
        "                    # print(centroid_dict[i])\n",
        "                    dps_centroid = centroid_dict[i]\n",
        "                    centroid_value_dict[i] = np.average(data.iloc[dps_centroid],axis=0)\n",
        "                    #new_centroid = np.zeros(shape = (data.shape[1],))\n",
        "                    # for j in (temp_dict[i]).astype('int'):\n",
        "                    #     new_centroid = [new_centroid[i]+list(data.iloc[j,:])[i] for i in range(0,len(list(new_centroid)))]\n",
        "                    # new_centroid = [int(c/len(temp_dict[i])) for c in new_centroid]\n",
        "                    \n",
        "                # print(i)\n",
        "            \n",
        "            \n",
        "            current_tol=-1\n",
        "            for i in centroid_value_dict:\n",
        "                prev_centroid_point = prev_centroids[i]\n",
        "                new_centroid_point = centroid_value_dict[i]\n",
        "                change = np.sum(np.absolute(new_centroid_point-prev_centroid_point))\n",
        "                current_tol = max(change, current_tol)\n",
        "                \n",
        "            print(\"Iteration \",count,\": \",current_tol)\n",
        "                \n",
        "                # lst=[]\n",
        "                # for j in range(0,len(list(centroid_value_dict[i]))):\n",
        "                #     if centroid_value_dict[i][j]!=0:\n",
        "                #         # dummy = (centroid_value_dict[i])\n",
        "                #         lst.append((int(new_centroid_value_dict[i][j])-centroid_value_dict[i][j])/centroid_value_dict[i][j])*100\n",
        "                #     else:\n",
        "                #         lst.append(0)\n",
        "                # g += np.sum(lst)/len(new_centroid_value_dict[i])\n",
        "            # change = g/len(new_centroid_value_dict)\n",
        "            # if change<10:\n",
        "            #     break\n",
        "            # centroid_value_dict =  new_centroid_value_dict\n",
        "            \n",
        "            count+=1\n",
        "            if (current_tol<10):\n",
        "                convergence = True\n",
        "                break\n",
        "           # print(\"KMeans Iteration\",count)\n",
        "        return centroid_value_dict,centroid_dict\n",
        "    "
      ],
      "metadata": {
        "id": "oGnZFtrDnYzI"
      },
      "execution_count": null,
      "outputs": []
    },
    {
      "cell_type": "code",
      "source": [
        "def predict_cluster_labels(C, S, labels):\n",
        "    '''\n",
        "    Input : C -> Centroids\n",
        "            S -> Set of Indicies corresponding to Centroid C\n",
        "            data -> Data used to form clusters\n",
        "    Output : Returns an array of size K having labels based on majority voting in the cluster\n",
        "    '''\n",
        "    cluster_labels = np.zeros(10,dtype=int)\n",
        "    for c in C:\n",
        "        labels_of_points = []\n",
        "        for point in S[c]:\n",
        "            labels_of_points.extend(labels.iloc[point])\n",
        "        counter = Counter(labels_of_points)\n",
        "        try:\n",
        "            cluster_labels[c] = max(counter, key=counter.get)\n",
        "        except:\n",
        "            cluster_labels[c] = np.random.randint(0,9)\n",
        "    return cluster_labels"
      ],
      "metadata": {
        "id": "JsUtJRhZncbU"
      },
      "execution_count": null,
      "outputs": []
    },
    {
      "cell_type": "code",
      "source": [
        "def jaccard_similarity(centroid, dp):\n",
        "        intersection = len(list(set(centroid).intersection(dp)))\n",
        "        union = (len(set(centroid)) + len(set(dp))) - intersection\n",
        "        return float(intersection) / union"
      ],
      "metadata": {
        "id": "JrNaJmjzs7JQ"
      },
      "execution_count": null,
      "outputs": []
    },
    {
      "cell_type": "code",
      "source": [
        "def accuracy(centroids, centroid_Labels, test_data, true_labels, mode=1):\n",
        "    y_true = list(true_labels['label']);\n",
        "    y_pred = []\n",
        "    for index in range(test_data.shape[0]):\n",
        "        featureset = test_data.iloc[index]\n",
        "        if mode==1:\n",
        "            distances = [np.linalg.norm(featureset - centroids[centroid]) for centroid in centroids]\n",
        "            classification = distances.index(min(distances))\n",
        "            y_pred.append(centroid_Labels[classification])\n",
        "        elif mode==3:\n",
        "            similarity = [1 - spatial.distance.cosine(featureset, centroids[centroid]) for centroid in centroids]\n",
        "            classification = similarity.index(max(similarity))\n",
        "            y_pred.append(centroid_Labels[classification])\n",
        "        elif mode==2:\n",
        "            similarity = [jaccard_similarity(featureset, centroids[centroid]) for centroid in centroids]\n",
        "            classification = similarity.index(max(similarity))\n",
        "            y_pred.append(centroid_Labels[classification])\n",
        "    denominator = test_data.shape[0]\n",
        "    correctly_classified = 0\n",
        "    for i in range(0,len(y_pred)):\n",
        "        if y_true[i] == y_pred[i]:\n",
        "            correctly_classified += 1\n",
        "    accuracy = correctly_classified/denominator\n",
        "    return accuracy"
      ],
      "metadata": {
        "id": "NxVeKTtUs96G"
      },
      "execution_count": null,
      "outputs": []
    },
    {
      "cell_type": "code",
      "source": [
        "model1 = KMeans()\n",
        "centroids1,clusters1 = model1.train_Kmeans(data,10, max_iter=100,mode=1)\n",
        "Euclidean_SSE = model1.calculate_SSE(centroids1,clusters1,data)\n",
        "print(\"Euclidean SSE for the dataset is:\",Euclidean_SSE)"
      ],
      "metadata": {
        "colab": {
          "base_uri": "https://localhost:8080/"
        },
        "id": "yMvcab2ftAEr",
        "outputId": "a36e851f-68b3-403b-d9ee-55cfcae95ed4"
      },
      "execution_count": null,
      "outputs": [
        {
          "output_type": "stream",
          "name": "stdout",
          "text": [
            "Iteration  0 :  24641.337320574166\n",
            "Iteration  1 :  4766.558924118875\n",
            "Iteration  2 :  3294.5984037657036\n",
            "Iteration  3 :  2266.525141185276\n",
            "Iteration  4 :  1241.3651282942465\n",
            "Iteration  5 :  936.2173174048173\n",
            "Iteration  6 :  835.5084561909478\n",
            "Iteration  7 :  632.2531239838343\n",
            "Iteration  8 :  719.7078260163994\n",
            "Iteration  9 :  514.8514715094602\n",
            "Iteration  10 :  574.8490566037736\n",
            "Iteration  11 :  540.948343511569\n",
            "Iteration  12 :  564.4357898531288\n",
            "Iteration  13 :  650.0534373394698\n",
            "Iteration  14 :  514.4732588957786\n",
            "Iteration  15 :  503.75334889695375\n",
            "Iteration  16 :  399.7028197003806\n",
            "Iteration  17 :  397.87348490107615\n",
            "Iteration  18 :  312.9782992125985\n",
            "Iteration  19 :  213.2183915147771\n",
            "Iteration  20 :  170.7448421676362\n",
            "Iteration  21 :  183.62581173223657\n",
            "Iteration  22 :  126.38525461731297\n",
            "Iteration  23 :  94.66733870967757\n",
            "Iteration  24 :  79.85712743291494\n",
            "Iteration  25 :  83.64729345789766\n",
            "Iteration  26 :  102.07994129858963\n",
            "Iteration  27 :  137.85152838427953\n",
            "Iteration  28 :  120.7227264097209\n",
            "Iteration  29 :  155.85302152897785\n",
            "Iteration  30 :  258.7565806469156\n",
            "Iteration  31 :  320.6733488509956\n",
            "Iteration  32 :  372.98477961432513\n",
            "Iteration  33 :  310.8540544891143\n",
            "Iteration  34 :  442.79129364893356\n",
            "Iteration  35 :  513.8925839735323\n",
            "Iteration  36 :  433.83177623532197\n",
            "Iteration  37 :  285.89319070549067\n",
            "Iteration  38 :  400.99898754682596\n",
            "Iteration  39 :  551.7342639620705\n",
            "Iteration  40 :  484.1002847404816\n",
            "Iteration  41 :  636.9238756518249\n",
            "Iteration  42 :  661.0891565474236\n",
            "Iteration  43 :  613.9823247232472\n",
            "Iteration  44 :  560.6960640733813\n",
            "Iteration  45 :  429.72750339539834\n",
            "Iteration  46 :  400.1576695325021\n",
            "Iteration  47 :  313.21581752186125\n",
            "Iteration  48 :  319.4993953180578\n",
            "Iteration  49 :  266.18653321201094\n",
            "Iteration  50 :  189.45339288169072\n",
            "Iteration  51 :  218.35902492291882\n",
            "Iteration  52 :  213.2183763198065\n",
            "Iteration  53 :  290.2181656277828\n",
            "Iteration  54 :  160.84435478644124\n",
            "Iteration  55 :  169.06910497453975\n",
            "Iteration  56 :  167.01633472325454\n",
            "Iteration  57 :  176.13150452488685\n",
            "Iteration  58 :  118.19969908859203\n",
            "Iteration  59 :  87.86471251943695\n",
            "Iteration  60 :  103.32843426576329\n",
            "Iteration  61 :  87.68764635901547\n",
            "Iteration  62 :  78.92199814354638\n",
            "Iteration  63 :  100.95861753498538\n",
            "Iteration  64 :  69.63208300079803\n",
            "Iteration  65 :  126.85587084148725\n",
            "Iteration  66 :  99.73462912506838\n",
            "Iteration  67 :  85.33749999999992\n",
            "Iteration  68 :  77.53485240249952\n",
            "Iteration  69 :  69.01716308491476\n",
            "Iteration  70 :  86.63293955028374\n",
            "Iteration  71 :  101.93956995838298\n",
            "Iteration  72 :  89.88788644759867\n",
            "Iteration  73 :  55.146897258269135\n",
            "Iteration  74 :  80.87379576107884\n",
            "Iteration  75 :  58.688059701492335\n",
            "Iteration  76 :  42.43840000000007\n",
            "Iteration  77 :  28.72720032968744\n",
            "Iteration  78 :  26.697739134862847\n",
            "Iteration  79 :  0.0\n",
            "Euclidean SSE for the dataset is: 25437557941.059906\n"
          ]
        }
      ]
    },
    {
      "cell_type": "code",
      "source": [
        "cluster_labels1 = predict_cluster_labels(centroids1,clusters1,labels)\n",
        "cluster_labels1"
      ],
      "metadata": {
        "colab": {
          "base_uri": "https://localhost:8080/"
        },
        "id": "ktdAA4xDtTk1",
        "outputId": "3355e5e2-d541-483c-a75d-9807685e2510"
      },
      "execution_count": null,
      "outputs": [
        {
          "output_type": "execute_result",
          "data": {
            "text/plain": [
              "array([6, 8, 4, 0, 7, 1, 3, 2, 0, 9])"
            ]
          },
          "metadata": {},
          "execution_count": 13
        }
      ]
    },
    {
      "cell_type": "code",
      "source": [
        "Accuracy_Euclidean = accuracy(centroids1,cluster_labels1,test_data,test_labels)\n",
        "Accuracy_Euclidean"
      ],
      "metadata": {
        "colab": {
          "base_uri": "https://localhost:8080/"
        },
        "id": "MPsfkE0DtW2w",
        "outputId": "879efb65-ccc0-49d5-e5f1-5876f3ea8f74"
      },
      "execution_count": null,
      "outputs": [
        {
          "output_type": "execute_result",
          "data": {
            "text/plain": [
              "0.6395"
            ]
          },
          "metadata": {},
          "execution_count": 14
        }
      ]
    },
    {
      "cell_type": "code",
      "source": [
        "model2 = KMeans()\n",
        "centroids2,clusters2 = model2.train_Kmeans(data, 10, max_iter=100, mode=2)\n",
        "Jaccard_SSE = model2.calculate_SSE(centroids2, clusters2, data)\n",
        "print(\"Jacard SSE for the dataset is:\",Jaccard_SSE)"
      ],
      "metadata": {
        "colab": {
          "base_uri": "https://localhost:8080/"
        },
        "id": "26qBVdYstYrA",
        "outputId": "2f9556ae-d707-404e-ff9f-6454257efac2"
      },
      "execution_count": null,
      "outputs": [
        {
          "output_type": "stream",
          "name": "stdout",
          "text": [
            "Iteration  0 :  39569.61111111111\n",
            "Iteration  1 :  18777.948168195682\n",
            "Iteration  2 :  16098.532799999999\n",
            "Iteration  3 :  2972.331197041358\n",
            "Iteration  4 :  852.7300989045384\n",
            "Iteration  5 :  959.2396615664843\n",
            "Iteration  6 :  772.3924000000002\n",
            "Iteration  7 :  793.6394351313969\n",
            "Iteration  8 :  1485.8107099656359\n",
            "Iteration  9 :  795.7341245657572\n",
            "Iteration  10 :  960.3338175951601\n",
            "Iteration  11 :  867.0907951367781\n",
            "Iteration  12 :  650.1208528046678\n",
            "Iteration  13 :  0.0\n",
            "Jacard SSE for the dataset is: 34364573698.62264\n"
          ]
        }
      ]
    },
    {
      "cell_type": "code",
      "source": [
        "cluster_labels2 = predict_cluster_labels(centroids2,clusters2,labels)\n",
        "cluster_labels2"
      ],
      "metadata": {
        "colab": {
          "base_uri": "https://localhost:8080/"
        },
        "id": "hGnRAhestagn",
        "outputId": "5c76a570-7ddb-486a-c294-4b4f9bbaf779"
      },
      "execution_count": null,
      "outputs": [
        {
          "output_type": "execute_result",
          "data": {
            "text/plain": [
              "array([1, 3, 7, 5, 5, 1, 3, 3, 8, 7])"
            ]
          },
          "metadata": {},
          "execution_count": 15
        }
      ]
    },
    {
      "cell_type": "code",
      "source": [
        "Accuracy_Jaccard = accuracy(centroids2, cluster_labels2,test_data,test_labels)\n",
        "Accuracy_Jaccard"
      ],
      "metadata": {
        "colab": {
          "base_uri": "https://localhost:8080/"
        },
        "id": "4O_WkiPutcf6",
        "outputId": "b194b20f-a236-4fa5-b972-ae0e0e43c4a8"
      },
      "execution_count": null,
      "outputs": [
        {
          "output_type": "execute_result",
          "data": {
            "text/plain": [
              "0.115"
            ]
          },
          "metadata": {},
          "execution_count": 16
        }
      ]
    },
    {
      "cell_type": "code",
      "source": [
        "model3 = KMeans()\n",
        "centroids3,clusters3 = model3.train_Kmeans(data,10,max_iter = 100,mode=3)\n",
        "Cosine_SSE = model3.calculate_SSE(centroids3,clusters3,data)\n",
        "print(\"Cosine SSE for the dataset is:\",Cosine_SSE)"
      ],
      "metadata": {
        "colab": {
          "base_uri": "https://localhost:8080/"
        },
        "id": "WIDm8cErteIW",
        "outputId": "866aeb72-aa16-4f2d-d99a-3c5ae0b60dbc"
      },
      "execution_count": null,
      "outputs": [
        {
          "output_type": "stream",
          "name": "stdout",
          "text": [
            "Iteration  0 :  29641.134517766495\n",
            "Iteration  1 :  9576.53135764944\n",
            "Iteration  2 :  6785.850655693832\n",
            "Iteration  3 :  3276.140481711816\n",
            "Iteration  4 :  1966.9653830029345\n",
            "Iteration  5 :  1179.5775232159585\n",
            "Iteration  6 :  942.0550913568233\n",
            "Iteration  7 :  1332.5876751139838\n",
            "Iteration  8 :  1869.6141566642798\n",
            "Iteration  9 :  2227.5347987021887\n",
            "Iteration  10 :  1977.702185474166\n",
            "Iteration  11 :  1235.2881827043166\n",
            "Iteration  12 :  594.9379652809802\n",
            "Iteration  13 :  393.3571384142738\n",
            "Iteration  14 :  410.4846118217473\n",
            "Iteration  15 :  284.5759157980631\n",
            "Iteration  16 :  302.4935290948854\n",
            "Iteration  17 :  284.2165068852952\n",
            "Iteration  18 :  239.32770170381048\n",
            "Iteration  19 :  177.62312260509952\n",
            "Iteration  20 :  149.56044757689762\n",
            "Iteration  21 :  176.70778996712147\n",
            "Iteration  22 :  140.69894838817763\n",
            "Iteration  23 :  132.865204057561\n",
            "Iteration  24 :  91.23446492356513\n",
            "Iteration  25 :  59.193840260763835\n",
            "Iteration  26 :  96.07474170881108\n",
            "Iteration  27 :  92.10725552050488\n",
            "Iteration  28 :  35.29649547688583\n",
            "Iteration  29 :  25.941117936797895\n",
            "Iteration  30 :  51.426002120703586\n",
            "Iteration  31 :  32.663709817318136\n",
            "Iteration  32 :  25.82322124433372\n",
            "Iteration  33 :  0.0\n",
            "Cosine SSE for the dataset is: 25469264596.36734\n"
          ]
        }
      ]
    },
    {
      "cell_type": "code",
      "source": [
        "cluster_labels3 = predict_cluster_labels(centroids3,clusters3,labels)\n",
        "cluster_labels3"
      ],
      "metadata": {
        "colab": {
          "base_uri": "https://localhost:8080/"
        },
        "id": "GaKHnvDItjGH",
        "outputId": "20aba7c2-6916-4d68-f94e-c8f5b93653ae"
      },
      "execution_count": null,
      "outputs": [
        {
          "output_type": "execute_result",
          "data": {
            "text/plain": [
              "array([3, 6, 5, 4, 8, 0, 1, 2, 1, 7])"
            ]
          },
          "metadata": {},
          "execution_count": 17
        }
      ]
    },
    {
      "cell_type": "code",
      "source": [
        "Accuracy_Cosine = accuracy(centroids3, cluster_labels3,test_data,test_labels)\n",
        "Accuracy_Cosine"
      ],
      "metadata": {
        "colab": {
          "base_uri": "https://localhost:8080/"
        },
        "id": "HUecEVs_tkcY",
        "outputId": "32770f93-62e4-4272-b769-685742ac0f7a"
      },
      "execution_count": null,
      "outputs": [
        {
          "output_type": "execute_result",
          "data": {
            "text/plain": [
              "0.649"
            ]
          },
          "metadata": {},
          "execution_count": 18
        }
      ]
    },
    {
      "cell_type": "code",
      "source": [],
      "metadata": {
        "id": "wk_7VRNOEJP4"
      },
      "execution_count": null,
      "outputs": []
    }
  ]
}