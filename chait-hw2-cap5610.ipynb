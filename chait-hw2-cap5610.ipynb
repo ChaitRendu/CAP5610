{
 "cells": [
  {
   "cell_type": "code",
   "execution_count": 1,
   "id": "6b86f765",
   "metadata": {
    "execution": {
     "iopub.execute_input": "2022-10-18T02:59:32.201813Z",
     "iopub.status.busy": "2022-10-18T02:59:32.201130Z",
     "iopub.status.idle": "2022-10-18T02:59:33.551229Z",
     "shell.execute_reply": "2022-10-18T02:59:33.550088Z"
    },
    "id": "67f08f8f",
    "papermill": {
     "duration": 1.368443,
     "end_time": "2022-10-18T02:59:33.554106",
     "exception": false,
     "start_time": "2022-10-18T02:59:32.185663",
     "status": "completed"
    },
    "tags": []
   },
   "outputs": [],
   "source": [
    "import numpy as np\n",
    "import pandas as pd\n",
    "from sklearn.tree import DecisionTreeClassifier\n",
    "from sklearn.ensemble import RandomForestClassifier\n",
    "import matplotlib.pyplot as plt\n",
    "from sklearn import preprocessing as pre\n",
    "from sklearn.tree import DecisionTreeClassifier \n",
    "from sklearn import tree\n",
    "from six import StringIO\n",
    "import pydot\n",
    "from sklearn.model_selection import cross_val_score\n",
    "from sklearn.model_selection import train_test_split\n",
    "from sklearn.metrics import accuracy_score"
   ]
  },
  {
   "cell_type": "code",
   "execution_count": 2,
   "id": "639f2c76",
   "metadata": {
    "execution": {
     "iopub.execute_input": "2022-10-18T02:59:33.580045Z",
     "iopub.status.busy": "2022-10-18T02:59:33.579247Z",
     "iopub.status.idle": "2022-10-18T02:59:33.604368Z",
     "shell.execute_reply": "2022-10-18T02:59:33.603430Z"
    },
    "id": "193fbfe8",
    "outputId": "7c0a258a-297c-4e19-d0b0-5b8b484d82cc",
    "papermill": {
     "duration": 0.040974,
     "end_time": "2022-10-18T02:59:33.607056",
     "exception": false,
     "start_time": "2022-10-18T02:59:33.566082",
     "status": "completed"
    },
    "tags": []
   },
   "outputs": [],
   "source": [
    "titanic_data = pd.read_csv('../input/titanic/train.csv')"
   ]
  },
  {
   "cell_type": "code",
   "execution_count": 3,
   "id": "8bcd0866",
   "metadata": {
    "execution": {
     "iopub.execute_input": "2022-10-18T02:59:33.634549Z",
     "iopub.status.busy": "2022-10-18T02:59:33.634142Z",
     "iopub.status.idle": "2022-10-18T02:59:33.660315Z",
     "shell.execute_reply": "2022-10-18T02:59:33.658980Z"
    },
    "id": "106924dc",
    "outputId": "7c5bdaf5-fe27-4b7b-e5a0-2bdf52092a21",
    "papermill": {
     "duration": 0.042668,
     "end_time": "2022-10-18T02:59:33.663448",
     "exception": false,
     "start_time": "2022-10-18T02:59:33.620780",
     "status": "completed"
    },
    "tags": []
   },
   "outputs": [
    {
     "data": {
      "text/html": [
       "<div>\n",
       "<style scoped>\n",
       "    .dataframe tbody tr th:only-of-type {\n",
       "        vertical-align: middle;\n",
       "    }\n",
       "\n",
       "    .dataframe tbody tr th {\n",
       "        vertical-align: top;\n",
       "    }\n",
       "\n",
       "    .dataframe thead th {\n",
       "        text-align: right;\n",
       "    }\n",
       "</style>\n",
       "<table border=\"1\" class=\"dataframe\">\n",
       "  <thead>\n",
       "    <tr style=\"text-align: right;\">\n",
       "      <th></th>\n",
       "      <th>PassengerId</th>\n",
       "      <th>Survived</th>\n",
       "      <th>Pclass</th>\n",
       "      <th>Name</th>\n",
       "      <th>Sex</th>\n",
       "      <th>Age</th>\n",
       "      <th>SibSp</th>\n",
       "      <th>Parch</th>\n",
       "      <th>Ticket</th>\n",
       "      <th>Fare</th>\n",
       "      <th>Cabin</th>\n",
       "      <th>Embarked</th>\n",
       "    </tr>\n",
       "  </thead>\n",
       "  <tbody>\n",
       "    <tr>\n",
       "      <th>0</th>\n",
       "      <td>1</td>\n",
       "      <td>0</td>\n",
       "      <td>3</td>\n",
       "      <td>Braund, Mr. Owen Harris</td>\n",
       "      <td>male</td>\n",
       "      <td>22.0</td>\n",
       "      <td>1</td>\n",
       "      <td>0</td>\n",
       "      <td>A/5 21171</td>\n",
       "      <td>7.2500</td>\n",
       "      <td>NaN</td>\n",
       "      <td>S</td>\n",
       "    </tr>\n",
       "    <tr>\n",
       "      <th>1</th>\n",
       "      <td>2</td>\n",
       "      <td>1</td>\n",
       "      <td>1</td>\n",
       "      <td>Cumings, Mrs. John Bradley (Florence Briggs Th...</td>\n",
       "      <td>female</td>\n",
       "      <td>38.0</td>\n",
       "      <td>1</td>\n",
       "      <td>0</td>\n",
       "      <td>PC 17599</td>\n",
       "      <td>71.2833</td>\n",
       "      <td>C85</td>\n",
       "      <td>C</td>\n",
       "    </tr>\n",
       "    <tr>\n",
       "      <th>2</th>\n",
       "      <td>3</td>\n",
       "      <td>1</td>\n",
       "      <td>3</td>\n",
       "      <td>Heikkinen, Miss. Laina</td>\n",
       "      <td>female</td>\n",
       "      <td>26.0</td>\n",
       "      <td>0</td>\n",
       "      <td>0</td>\n",
       "      <td>STON/O2. 3101282</td>\n",
       "      <td>7.9250</td>\n",
       "      <td>NaN</td>\n",
       "      <td>S</td>\n",
       "    </tr>\n",
       "    <tr>\n",
       "      <th>3</th>\n",
       "      <td>4</td>\n",
       "      <td>1</td>\n",
       "      <td>1</td>\n",
       "      <td>Futrelle, Mrs. Jacques Heath (Lily May Peel)</td>\n",
       "      <td>female</td>\n",
       "      <td>35.0</td>\n",
       "      <td>1</td>\n",
       "      <td>0</td>\n",
       "      <td>113803</td>\n",
       "      <td>53.1000</td>\n",
       "      <td>C123</td>\n",
       "      <td>S</td>\n",
       "    </tr>\n",
       "    <tr>\n",
       "      <th>4</th>\n",
       "      <td>5</td>\n",
       "      <td>0</td>\n",
       "      <td>3</td>\n",
       "      <td>Allen, Mr. William Henry</td>\n",
       "      <td>male</td>\n",
       "      <td>35.0</td>\n",
       "      <td>0</td>\n",
       "      <td>0</td>\n",
       "      <td>373450</td>\n",
       "      <td>8.0500</td>\n",
       "      <td>NaN</td>\n",
       "      <td>S</td>\n",
       "    </tr>\n",
       "  </tbody>\n",
       "</table>\n",
       "</div>"
      ],
      "text/plain": [
       "   PassengerId  Survived  Pclass  \\\n",
       "0            1         0       3   \n",
       "1            2         1       1   \n",
       "2            3         1       3   \n",
       "3            4         1       1   \n",
       "4            5         0       3   \n",
       "\n",
       "                                                Name     Sex   Age  SibSp  \\\n",
       "0                            Braund, Mr. Owen Harris    male  22.0      1   \n",
       "1  Cumings, Mrs. John Bradley (Florence Briggs Th...  female  38.0      1   \n",
       "2                             Heikkinen, Miss. Laina  female  26.0      0   \n",
       "3       Futrelle, Mrs. Jacques Heath (Lily May Peel)  female  35.0      1   \n",
       "4                           Allen, Mr. William Henry    male  35.0      0   \n",
       "\n",
       "   Parch            Ticket     Fare Cabin Embarked  \n",
       "0      0         A/5 21171   7.2500   NaN        S  \n",
       "1      0          PC 17599  71.2833   C85        C  \n",
       "2      0  STON/O2. 3101282   7.9250   NaN        S  \n",
       "3      0            113803  53.1000  C123        S  \n",
       "4      0            373450   8.0500   NaN        S  "
      ]
     },
     "execution_count": 3,
     "metadata": {},
     "output_type": "execute_result"
    }
   ],
   "source": [
    "titanic_data.head()"
   ]
  },
  {
   "cell_type": "code",
   "execution_count": 4,
   "id": "789bd64a",
   "metadata": {
    "execution": {
     "iopub.execute_input": "2022-10-18T02:59:33.689489Z",
     "iopub.status.busy": "2022-10-18T02:59:33.689093Z",
     "iopub.status.idle": "2022-10-18T02:59:33.699389Z",
     "shell.execute_reply": "2022-10-18T02:59:33.698196Z"
    },
    "id": "da601073",
    "outputId": "3df441f9-faf2-467e-f0b3-7949fe4bdeec",
    "papermill": {
     "duration": 0.025943,
     "end_time": "2022-10-18T02:59:33.701574",
     "exception": false,
     "start_time": "2022-10-18T02:59:33.675631",
     "status": "completed"
    },
    "tags": []
   },
   "outputs": [
    {
     "data": {
      "text/plain": [
       "PassengerId    False\n",
       "Survived       False\n",
       "Pclass         False\n",
       "Name           False\n",
       "Sex            False\n",
       "Age             True\n",
       "SibSp          False\n",
       "Parch          False\n",
       "Ticket         False\n",
       "Fare           False\n",
       "Cabin           True\n",
       "Embarked        True\n",
       "dtype: bool"
      ]
     },
     "execution_count": 4,
     "metadata": {},
     "output_type": "execute_result"
    }
   ],
   "source": [
    "titanic_data.isnull().any()"
   ]
  },
  {
   "cell_type": "code",
   "execution_count": 5,
   "id": "8576a509",
   "metadata": {
    "execution": {
     "iopub.execute_input": "2022-10-18T02:59:33.728406Z",
     "iopub.status.busy": "2022-10-18T02:59:33.727538Z",
     "iopub.status.idle": "2022-10-18T02:59:33.737794Z",
     "shell.execute_reply": "2022-10-18T02:59:33.736564Z"
    },
    "id": "cb43e787",
    "outputId": "df4d99a8-c00c-43a0-d392-bb20237ce647",
    "papermill": {
     "duration": 0.026511,
     "end_time": "2022-10-18T02:59:33.740382",
     "exception": false,
     "start_time": "2022-10-18T02:59:33.713871",
     "status": "completed"
    },
    "tags": []
   },
   "outputs": [
    {
     "data": {
      "text/plain": [
       "PassengerId      0\n",
       "Survived         0\n",
       "Pclass           0\n",
       "Name             0\n",
       "Sex              0\n",
       "Age            177\n",
       "SibSp            0\n",
       "Parch            0\n",
       "Ticket           0\n",
       "Fare             0\n",
       "Cabin          687\n",
       "Embarked         2\n",
       "dtype: int64"
      ]
     },
     "execution_count": 5,
     "metadata": {},
     "output_type": "execute_result"
    }
   ],
   "source": [
    "titanic_data.isnull().sum()"
   ]
  },
  {
   "cell_type": "code",
   "execution_count": 6,
   "id": "0d183c29",
   "metadata": {
    "execution": {
     "iopub.execute_input": "2022-10-18T02:59:33.767249Z",
     "iopub.status.busy": "2022-10-18T02:59:33.766819Z",
     "iopub.status.idle": "2022-10-18T02:59:33.782591Z",
     "shell.execute_reply": "2022-10-18T02:59:33.781412Z"
    },
    "id": "c91daf66",
    "outputId": "1424b43c-b05c-4e1a-8781-812d9befc495",
    "papermill": {
     "duration": 0.03193,
     "end_time": "2022-10-18T02:59:33.784907",
     "exception": false,
     "start_time": "2022-10-18T02:59:33.752977",
     "status": "completed"
    },
    "tags": []
   },
   "outputs": [
    {
     "data": {
      "text/plain": [
       "array([22.  , 38.  , 26.  , 35.  ,   nan, 54.  ,  2.  , 27.  , 14.  ,\n",
       "        4.  , 58.  , 20.  , 39.  , 55.  , 31.  , 34.  , 15.  , 28.  ,\n",
       "        8.  , 19.  , 40.  , 66.  , 42.  , 21.  , 18.  ,  3.  ,  7.  ,\n",
       "       49.  , 29.  , 65.  , 28.5 ,  5.  , 11.  , 45.  , 17.  , 32.  ,\n",
       "       16.  , 25.  ,  0.83, 30.  , 33.  , 23.  , 24.  , 46.  , 59.  ,\n",
       "       71.  , 37.  , 47.  , 14.5 , 70.5 , 32.5 , 12.  ,  9.  , 36.5 ,\n",
       "       51.  , 55.5 , 40.5 , 44.  ,  1.  , 61.  , 56.  , 50.  , 36.  ,\n",
       "       45.5 , 20.5 , 62.  , 41.  , 52.  , 63.  , 23.5 ,  0.92, 43.  ,\n",
       "       60.  , 10.  , 64.  , 13.  , 48.  ,  0.75, 53.  , 57.  , 80.  ,\n",
       "       70.  , 24.5 ,  6.  ,  0.67, 30.5 ,  0.42, 34.5 , 74.  ])"
      ]
     },
     "execution_count": 6,
     "metadata": {},
     "output_type": "execute_result"
    }
   ],
   "source": [
    "titanic_data['Age'].unique()"
   ]
  },
  {
   "cell_type": "code",
   "execution_count": 7,
   "id": "678199c7",
   "metadata": {
    "execution": {
     "iopub.execute_input": "2022-10-18T02:59:33.812251Z",
     "iopub.status.busy": "2022-10-18T02:59:33.811787Z",
     "iopub.status.idle": "2022-10-18T02:59:33.819813Z",
     "shell.execute_reply": "2022-10-18T02:59:33.818838Z"
    },
    "id": "a9708766",
    "outputId": "8456f4dc-802b-4380-b287-5c1c59bc16a3",
    "papermill": {
     "duration": 0.024321,
     "end_time": "2022-10-18T02:59:33.821893",
     "exception": false,
     "start_time": "2022-10-18T02:59:33.797572",
     "status": "completed"
    },
    "tags": []
   },
   "outputs": [
    {
     "data": {
      "text/plain": [
       "array([nan, 'C85', 'C123', 'E46', 'G6', 'C103', 'D56', 'A6',\n",
       "       'C23 C25 C27', 'B78', 'D33', 'B30', 'C52', 'B28', 'C83', 'F33',\n",
       "       'F G73', 'E31', 'A5', 'D10 D12', 'D26', 'C110', 'B58 B60', 'E101',\n",
       "       'F E69', 'D47', 'B86', 'F2', 'C2', 'E33', 'B19', 'A7', 'C49', 'F4',\n",
       "       'A32', 'B4', 'B80', 'A31', 'D36', 'D15', 'C93', 'C78', 'D35',\n",
       "       'C87', 'B77', 'E67', 'B94', 'C125', 'C99', 'C118', 'D7', 'A19',\n",
       "       'B49', 'D', 'C22 C26', 'C106', 'C65', 'E36', 'C54',\n",
       "       'B57 B59 B63 B66', 'C7', 'E34', 'C32', 'B18', 'C124', 'C91', 'E40',\n",
       "       'T', 'C128', 'D37', 'B35', 'E50', 'C82', 'B96 B98', 'E10', 'E44',\n",
       "       'A34', 'C104', 'C111', 'C92', 'E38', 'D21', 'E12', 'E63', 'A14',\n",
       "       'B37', 'C30', 'D20', 'B79', 'E25', 'D46', 'B73', 'C95', 'B38',\n",
       "       'B39', 'B22', 'C86', 'C70', 'A16', 'C101', 'C68', 'A10', 'E68',\n",
       "       'B41', 'A20', 'D19', 'D50', 'D9', 'A23', 'B50', 'A26', 'D48',\n",
       "       'E58', 'C126', 'B71', 'B51 B53 B55', 'D49', 'B5', 'B20', 'F G63',\n",
       "       'C62 C64', 'E24', 'C90', 'C45', 'E8', 'B101', 'D45', 'C46', 'D30',\n",
       "       'E121', 'D11', 'E77', 'F38', 'B3', 'D6', 'B82 B84', 'D17', 'A36',\n",
       "       'B102', 'B69', 'E49', 'C47', 'D28', 'E17', 'A24', 'C50', 'B42',\n",
       "       'C148'], dtype=object)"
      ]
     },
     "execution_count": 7,
     "metadata": {},
     "output_type": "execute_result"
    }
   ],
   "source": [
    "titanic_data['Cabin'].unique()"
   ]
  },
  {
   "cell_type": "code",
   "execution_count": 8,
   "id": "c8e40a76",
   "metadata": {
    "execution": {
     "iopub.execute_input": "2022-10-18T02:59:33.849304Z",
     "iopub.status.busy": "2022-10-18T02:59:33.848877Z",
     "iopub.status.idle": "2022-10-18T02:59:33.855671Z",
     "shell.execute_reply": "2022-10-18T02:59:33.854622Z"
    },
    "id": "c0de30a7",
    "outputId": "f466197a-263f-495b-fceb-6ed2a49ebfbf",
    "papermill": {
     "duration": 0.023283,
     "end_time": "2022-10-18T02:59:33.857928",
     "exception": false,
     "start_time": "2022-10-18T02:59:33.834645",
     "status": "completed"
    },
    "tags": []
   },
   "outputs": [
    {
     "data": {
      "text/plain": [
       "array(['S', 'C', 'Q', nan], dtype=object)"
      ]
     },
     "execution_count": 8,
     "metadata": {},
     "output_type": "execute_result"
    }
   ],
   "source": [
    "titanic_data['Embarked'].unique()"
   ]
  },
  {
   "cell_type": "code",
   "execution_count": 9,
   "id": "7c26abb8",
   "metadata": {
    "execution": {
     "iopub.execute_input": "2022-10-18T02:59:33.885591Z",
     "iopub.status.busy": "2022-10-18T02:59:33.885139Z",
     "iopub.status.idle": "2022-10-18T02:59:33.894874Z",
     "shell.execute_reply": "2022-10-18T02:59:33.893861Z"
    },
    "id": "576c437e",
    "papermill": {
     "duration": 0.026347,
     "end_time": "2022-10-18T02:59:33.897321",
     "exception": false,
     "start_time": "2022-10-18T02:59:33.870974",
     "status": "completed"
    },
    "tags": []
   },
   "outputs": [],
   "source": [
    "titanic_data['Age'].fillna(titanic_data['Age'].mean(),inplace=True)\n",
    "titanic_data['Embarked'].fillna(titanic_data['Embarked'].mode()[0],inplace=True)"
   ]
  },
  {
   "cell_type": "code",
   "execution_count": 10,
   "id": "69cd1bd5",
   "metadata": {
    "execution": {
     "iopub.execute_input": "2022-10-18T02:59:33.925157Z",
     "iopub.status.busy": "2022-10-18T02:59:33.924098Z",
     "iopub.status.idle": "2022-10-18T02:59:33.934448Z",
     "shell.execute_reply": "2022-10-18T02:59:33.933358Z"
    },
    "id": "02b17b95",
    "outputId": "ffd4e5c5-a5fb-4652-8d81-c1f0d4a4824d",
    "papermill": {
     "duration": 0.026748,
     "end_time": "2022-10-18T02:59:33.936892",
     "exception": false,
     "start_time": "2022-10-18T02:59:33.910144",
     "status": "completed"
    },
    "tags": []
   },
   "outputs": [
    {
     "data": {
      "text/plain": [
       "PassengerId      0\n",
       "Survived         0\n",
       "Pclass           0\n",
       "Name             0\n",
       "Sex              0\n",
       "Age              0\n",
       "SibSp            0\n",
       "Parch            0\n",
       "Ticket           0\n",
       "Fare             0\n",
       "Cabin          687\n",
       "Embarked         0\n",
       "dtype: int64"
      ]
     },
     "execution_count": 10,
     "metadata": {},
     "output_type": "execute_result"
    }
   ],
   "source": [
    "titanic_data.isnull().sum()"
   ]
  },
  {
   "cell_type": "code",
   "execution_count": 11,
   "id": "9179c76b",
   "metadata": {
    "execution": {
     "iopub.execute_input": "2022-10-18T02:59:33.964601Z",
     "iopub.status.busy": "2022-10-18T02:59:33.964182Z",
     "iopub.status.idle": "2022-10-18T02:59:33.974243Z",
     "shell.execute_reply": "2022-10-18T02:59:33.973012Z"
    },
    "id": "2576cce3",
    "outputId": "d94b6ffa-2128-415f-c364-e80693f54bf1",
    "papermill": {
     "duration": 0.028414,
     "end_time": "2022-10-18T02:59:33.978345",
     "exception": false,
     "start_time": "2022-10-18T02:59:33.949931",
     "status": "completed"
    },
    "tags": []
   },
   "outputs": [
    {
     "data": {
      "text/plain": [
       "B96 B98        4\n",
       "G6             4\n",
       "C23 C25 C27    4\n",
       "C22 C26        3\n",
       "F33            3\n",
       "              ..\n",
       "E34            1\n",
       "C7             1\n",
       "C54            1\n",
       "E36            1\n",
       "C148           1\n",
       "Name: Cabin, Length: 147, dtype: int64"
      ]
     },
     "execution_count": 11,
     "metadata": {},
     "output_type": "execute_result"
    }
   ],
   "source": [
    "titanic_data['Cabin'].value_counts()"
   ]
  },
  {
   "cell_type": "code",
   "execution_count": 12,
   "id": "edf53d9a",
   "metadata": {
    "execution": {
     "iopub.execute_input": "2022-10-18T02:59:34.007978Z",
     "iopub.status.busy": "2022-10-18T02:59:34.007581Z",
     "iopub.status.idle": "2022-10-18T02:59:34.015757Z",
     "shell.execute_reply": "2022-10-18T02:59:34.014677Z"
    },
    "id": "966b52be",
    "outputId": "c7222826-ccde-40ab-9455-55d0ac903591",
    "papermill": {
     "duration": 0.0253,
     "end_time": "2022-10-18T02:59:34.018129",
     "exception": false,
     "start_time": "2022-10-18T02:59:33.992829",
     "status": "completed"
    },
    "tags": []
   },
   "outputs": [
    {
     "data": {
      "text/plain": [
       "0.7710437710437711"
      ]
     },
     "execution_count": 12,
     "metadata": {},
     "output_type": "execute_result"
    }
   ],
   "source": [
    "NanValues = titanic_data['Cabin'].isnull().sum()/titanic_data['Cabin'].isnull().count()\n",
    "NanValues"
   ]
  },
  {
   "cell_type": "code",
   "execution_count": 13,
   "id": "66dafdcc",
   "metadata": {
    "execution": {
     "iopub.execute_input": "2022-10-18T02:59:34.046325Z",
     "iopub.status.busy": "2022-10-18T02:59:34.045874Z",
     "iopub.status.idle": "2022-10-18T02:59:34.053691Z",
     "shell.execute_reply": "2022-10-18T02:59:34.052637Z"
    },
    "id": "d768cd69",
    "outputId": "9a835066-0df8-4edd-cd84-37224b54519d",
    "papermill": {
     "duration": 0.024388,
     "end_time": "2022-10-18T02:59:34.055762",
     "exception": false,
     "start_time": "2022-10-18T02:59:34.031374",
     "status": "completed"
    },
    "tags": []
   },
   "outputs": [
    {
     "data": {
      "text/plain": [
       "Index(['PassengerId', 'Survived', 'Pclass', 'Name', 'Sex', 'Age', 'SibSp',\n",
       "       'Parch', 'Ticket', 'Fare', 'Cabin', 'Embarked'],\n",
       "      dtype='object')"
      ]
     },
     "execution_count": 13,
     "metadata": {},
     "output_type": "execute_result"
    }
   ],
   "source": [
    "titanic_data.columns"
   ]
  },
  {
   "cell_type": "code",
   "execution_count": 14,
   "id": "1b4888dd",
   "metadata": {
    "execution": {
     "iopub.execute_input": "2022-10-18T02:59:34.084214Z",
     "iopub.status.busy": "2022-10-18T02:59:34.083791Z",
     "iopub.status.idle": "2022-10-18T02:59:34.095097Z",
     "shell.execute_reply": "2022-10-18T02:59:34.093928Z"
    },
    "id": "5acda14b",
    "outputId": "39f3a7ca-5ed5-4e6f-c42a-402ffcf35b3a",
    "papermill": {
     "duration": 0.0281,
     "end_time": "2022-10-18T02:59:34.097186",
     "exception": false,
     "start_time": "2022-10-18T02:59:34.069086",
     "status": "completed"
    },
    "tags": []
   },
   "outputs": [
    {
     "data": {
      "text/plain": [
       "array([  1,   2,   3,   4,   5,   6,   7,   8,   9,  10,  11,  12,  13,\n",
       "        14,  15,  16,  17,  18,  19,  20,  21,  22,  23,  24,  25,  26,\n",
       "        27,  28,  29,  30,  31,  32,  33,  34,  35,  36,  37,  38,  39,\n",
       "        40,  41,  42,  43,  44,  45,  46,  47,  48,  49,  50,  51,  52,\n",
       "        53,  54,  55,  56,  57,  58,  59,  60,  61,  62,  63,  64,  65,\n",
       "        66,  67,  68,  69,  70,  71,  72,  73,  74,  75,  76,  77,  78,\n",
       "        79,  80,  81,  82,  83,  84,  85,  86,  87,  88,  89,  90,  91,\n",
       "        92,  93,  94,  95,  96,  97,  98,  99, 100, 101, 102, 103, 104,\n",
       "       105, 106, 107, 108, 109, 110, 111, 112, 113, 114, 115, 116, 117,\n",
       "       118, 119, 120, 121, 122, 123, 124, 125, 126, 127, 128, 129, 130,\n",
       "       131, 132, 133, 134, 135, 136, 137, 138, 139, 140, 141, 142, 143,\n",
       "       144, 145, 146, 147, 148, 149, 150, 151, 152, 153, 154, 155, 156,\n",
       "       157, 158, 159, 160, 161, 162, 163, 164, 165, 166, 167, 168, 169,\n",
       "       170, 171, 172, 173, 174, 175, 176, 177, 178, 179, 180, 181, 182,\n",
       "       183, 184, 185, 186, 187, 188, 189, 190, 191, 192, 193, 194, 195,\n",
       "       196, 197, 198, 199, 200, 201, 202, 203, 204, 205, 206, 207, 208,\n",
       "       209, 210, 211, 212, 213, 214, 215, 216, 217, 218, 219, 220, 221,\n",
       "       222, 223, 224, 225, 226, 227, 228, 229, 230, 231, 232, 233, 234,\n",
       "       235, 236, 237, 238, 239, 240, 241, 242, 243, 244, 245, 246, 247,\n",
       "       248, 249, 250, 251, 252, 253, 254, 255, 256, 257, 258, 259, 260,\n",
       "       261, 262, 263, 264, 265, 266, 267, 268, 269, 270, 271, 272, 273,\n",
       "       274, 275, 276, 277, 278, 279, 280, 281, 282, 283, 284, 285, 286,\n",
       "       287, 288, 289, 290, 291, 292, 293, 294, 295, 296, 297, 298, 299,\n",
       "       300, 301, 302, 303, 304, 305, 306, 307, 308, 309, 310, 311, 312,\n",
       "       313, 314, 315, 316, 317, 318, 319, 320, 321, 322, 323, 324, 325,\n",
       "       326, 327, 328, 329, 330, 331, 332, 333, 334, 335, 336, 337, 338,\n",
       "       339, 340, 341, 342, 343, 344, 345, 346, 347, 348, 349, 350, 351,\n",
       "       352, 353, 354, 355, 356, 357, 358, 359, 360, 361, 362, 363, 364,\n",
       "       365, 366, 367, 368, 369, 370, 371, 372, 373, 374, 375, 376, 377,\n",
       "       378, 379, 380, 381, 382, 383, 384, 385, 386, 387, 388, 389, 390,\n",
       "       391, 392, 393, 394, 395, 396, 397, 398, 399, 400, 401, 402, 403,\n",
       "       404, 405, 406, 407, 408, 409, 410, 411, 412, 413, 414, 415, 416,\n",
       "       417, 418, 419, 420, 421, 422, 423, 424, 425, 426, 427, 428, 429,\n",
       "       430, 431, 432, 433, 434, 435, 436, 437, 438, 439, 440, 441, 442,\n",
       "       443, 444, 445, 446, 447, 448, 449, 450, 451, 452, 453, 454, 455,\n",
       "       456, 457, 458, 459, 460, 461, 462, 463, 464, 465, 466, 467, 468,\n",
       "       469, 470, 471, 472, 473, 474, 475, 476, 477, 478, 479, 480, 481,\n",
       "       482, 483, 484, 485, 486, 487, 488, 489, 490, 491, 492, 493, 494,\n",
       "       495, 496, 497, 498, 499, 500, 501, 502, 503, 504, 505, 506, 507,\n",
       "       508, 509, 510, 511, 512, 513, 514, 515, 516, 517, 518, 519, 520,\n",
       "       521, 522, 523, 524, 525, 526, 527, 528, 529, 530, 531, 532, 533,\n",
       "       534, 535, 536, 537, 538, 539, 540, 541, 542, 543, 544, 545, 546,\n",
       "       547, 548, 549, 550, 551, 552, 553, 554, 555, 556, 557, 558, 559,\n",
       "       560, 561, 562, 563, 564, 565, 566, 567, 568, 569, 570, 571, 572,\n",
       "       573, 574, 575, 576, 577, 578, 579, 580, 581, 582, 583, 584, 585,\n",
       "       586, 587, 588, 589, 590, 591, 592, 593, 594, 595, 596, 597, 598,\n",
       "       599, 600, 601, 602, 603, 604, 605, 606, 607, 608, 609, 610, 611,\n",
       "       612, 613, 614, 615, 616, 617, 618, 619, 620, 621, 622, 623, 624,\n",
       "       625, 626, 627, 628, 629, 630, 631, 632, 633, 634, 635, 636, 637,\n",
       "       638, 639, 640, 641, 642, 643, 644, 645, 646, 647, 648, 649, 650,\n",
       "       651, 652, 653, 654, 655, 656, 657, 658, 659, 660, 661, 662, 663,\n",
       "       664, 665, 666, 667, 668, 669, 670, 671, 672, 673, 674, 675, 676,\n",
       "       677, 678, 679, 680, 681, 682, 683, 684, 685, 686, 687, 688, 689,\n",
       "       690, 691, 692, 693, 694, 695, 696, 697, 698, 699, 700, 701, 702,\n",
       "       703, 704, 705, 706, 707, 708, 709, 710, 711, 712, 713, 714, 715,\n",
       "       716, 717, 718, 719, 720, 721, 722, 723, 724, 725, 726, 727, 728,\n",
       "       729, 730, 731, 732, 733, 734, 735, 736, 737, 738, 739, 740, 741,\n",
       "       742, 743, 744, 745, 746, 747, 748, 749, 750, 751, 752, 753, 754,\n",
       "       755, 756, 757, 758, 759, 760, 761, 762, 763, 764, 765, 766, 767,\n",
       "       768, 769, 770, 771, 772, 773, 774, 775, 776, 777, 778, 779, 780,\n",
       "       781, 782, 783, 784, 785, 786, 787, 788, 789, 790, 791, 792, 793,\n",
       "       794, 795, 796, 797, 798, 799, 800, 801, 802, 803, 804, 805, 806,\n",
       "       807, 808, 809, 810, 811, 812, 813, 814, 815, 816, 817, 818, 819,\n",
       "       820, 821, 822, 823, 824, 825, 826, 827, 828, 829, 830, 831, 832,\n",
       "       833, 834, 835, 836, 837, 838, 839, 840, 841, 842, 843, 844, 845,\n",
       "       846, 847, 848, 849, 850, 851, 852, 853, 854, 855, 856, 857, 858,\n",
       "       859, 860, 861, 862, 863, 864, 865, 866, 867, 868, 869, 870, 871,\n",
       "       872, 873, 874, 875, 876, 877, 878, 879, 880, 881, 882, 883, 884,\n",
       "       885, 886, 887, 888, 889, 890, 891])"
      ]
     },
     "execution_count": 14,
     "metadata": {},
     "output_type": "execute_result"
    }
   ],
   "source": [
    "titanic_data['PassengerId'].unique()"
   ]
  },
  {
   "cell_type": "code",
   "execution_count": 15,
   "id": "5887266f",
   "metadata": {
    "execution": {
     "iopub.execute_input": "2022-10-18T02:59:34.125826Z",
     "iopub.status.busy": "2022-10-18T02:59:34.125419Z",
     "iopub.status.idle": "2022-10-18T02:59:34.133125Z",
     "shell.execute_reply": "2022-10-18T02:59:34.131884Z"
    },
    "id": "cea5d6df",
    "outputId": "6ea6431b-39d1-4c10-fe7f-b1961527928e",
    "papermill": {
     "duration": 0.024795,
     "end_time": "2022-10-18T02:59:34.135331",
     "exception": false,
     "start_time": "2022-10-18T02:59:34.110536",
     "status": "completed"
    },
    "tags": []
   },
   "outputs": [
    {
     "data": {
      "text/plain": [
       "array([0, 1])"
      ]
     },
     "execution_count": 15,
     "metadata": {},
     "output_type": "execute_result"
    }
   ],
   "source": [
    "titanic_data['Survived'].unique()"
   ]
  },
  {
   "cell_type": "code",
   "execution_count": 16,
   "id": "e027bc16",
   "metadata": {
    "execution": {
     "iopub.execute_input": "2022-10-18T02:59:34.164286Z",
     "iopub.status.busy": "2022-10-18T02:59:34.163874Z",
     "iopub.status.idle": "2022-10-18T02:59:34.170959Z",
     "shell.execute_reply": "2022-10-18T02:59:34.169782Z"
    },
    "id": "b7818bdb",
    "outputId": "f38dddd2-fcc2-4aad-a730-d6e5441f756c",
    "papermill": {
     "duration": 0.024282,
     "end_time": "2022-10-18T02:59:34.173061",
     "exception": false,
     "start_time": "2022-10-18T02:59:34.148779",
     "status": "completed"
    },
    "tags": []
   },
   "outputs": [
    {
     "data": {
      "text/plain": [
       "array([3, 1, 2])"
      ]
     },
     "execution_count": 16,
     "metadata": {},
     "output_type": "execute_result"
    }
   ],
   "source": [
    "titanic_data['Pclass'].unique()"
   ]
  },
  {
   "cell_type": "code",
   "execution_count": 17,
   "id": "97170ac3",
   "metadata": {
    "execution": {
     "iopub.execute_input": "2022-10-18T02:59:34.201638Z",
     "iopub.status.busy": "2022-10-18T02:59:34.201199Z",
     "iopub.status.idle": "2022-10-18T02:59:34.214641Z",
     "shell.execute_reply": "2022-10-18T02:59:34.213548Z"
    },
    "id": "e93c4f6c",
    "outputId": "dc9ab540-8a3b-44d8-c809-9f3104552175",
    "papermill": {
     "duration": 0.030499,
     "end_time": "2022-10-18T02:59:34.216932",
     "exception": false,
     "start_time": "2022-10-18T02:59:34.186433",
     "status": "completed"
    },
    "tags": []
   },
   "outputs": [
    {
     "data": {
      "text/plain": [
       "array(['Braund, Mr. Owen Harris',\n",
       "       'Cumings, Mrs. John Bradley (Florence Briggs Thayer)',\n",
       "       'Heikkinen, Miss. Laina',\n",
       "       'Futrelle, Mrs. Jacques Heath (Lily May Peel)',\n",
       "       'Allen, Mr. William Henry', 'Moran, Mr. James',\n",
       "       'McCarthy, Mr. Timothy J', 'Palsson, Master. Gosta Leonard',\n",
       "       'Johnson, Mrs. Oscar W (Elisabeth Vilhelmina Berg)',\n",
       "       'Nasser, Mrs. Nicholas (Adele Achem)',\n",
       "       'Sandstrom, Miss. Marguerite Rut', 'Bonnell, Miss. Elizabeth',\n",
       "       'Saundercock, Mr. William Henry', 'Andersson, Mr. Anders Johan',\n",
       "       'Vestrom, Miss. Hulda Amanda Adolfina',\n",
       "       'Hewlett, Mrs. (Mary D Kingcome) ', 'Rice, Master. Eugene',\n",
       "       'Williams, Mr. Charles Eugene',\n",
       "       'Vander Planke, Mrs. Julius (Emelia Maria Vandemoortele)',\n",
       "       'Masselmani, Mrs. Fatima', 'Fynney, Mr. Joseph J',\n",
       "       'Beesley, Mr. Lawrence', 'McGowan, Miss. Anna \"Annie\"',\n",
       "       'Sloper, Mr. William Thompson', 'Palsson, Miss. Torborg Danira',\n",
       "       'Asplund, Mrs. Carl Oscar (Selma Augusta Emilia Johansson)',\n",
       "       'Emir, Mr. Farred Chehab', 'Fortune, Mr. Charles Alexander',\n",
       "       'O\\'Dwyer, Miss. Ellen \"Nellie\"', 'Todoroff, Mr. Lalio',\n",
       "       'Uruchurtu, Don. Manuel E',\n",
       "       'Spencer, Mrs. William Augustus (Marie Eugenie)',\n",
       "       'Glynn, Miss. Mary Agatha', 'Wheadon, Mr. Edward H',\n",
       "       'Meyer, Mr. Edgar Joseph', 'Holverson, Mr. Alexander Oskar',\n",
       "       'Mamee, Mr. Hanna', 'Cann, Mr. Ernest Charles',\n",
       "       'Vander Planke, Miss. Augusta Maria',\n",
       "       'Nicola-Yarred, Miss. Jamila',\n",
       "       'Ahlin, Mrs. Johan (Johanna Persdotter Larsson)',\n",
       "       'Turpin, Mrs. William John Robert (Dorothy Ann Wonnacott)',\n",
       "       'Kraeff, Mr. Theodor', 'Laroche, Miss. Simonne Marie Anne Andree',\n",
       "       'Devaney, Miss. Margaret Delia', 'Rogers, Mr. William John',\n",
       "       'Lennon, Mr. Denis', \"O'Driscoll, Miss. Bridget\",\n",
       "       'Samaan, Mr. Youssef',\n",
       "       'Arnold-Franchi, Mrs. Josef (Josefine Franchi)',\n",
       "       'Panula, Master. Juha Niilo', 'Nosworthy, Mr. Richard Cater',\n",
       "       'Harper, Mrs. Henry Sleeper (Myna Haxtun)',\n",
       "       'Faunthorpe, Mrs. Lizzie (Elizabeth Anne Wilkinson)',\n",
       "       'Ostby, Mr. Engelhart Cornelius', 'Woolner, Mr. Hugh',\n",
       "       'Rugg, Miss. Emily', 'Novel, Mr. Mansouer',\n",
       "       'West, Miss. Constance Mirium',\n",
       "       'Goodwin, Master. William Frederick', 'Sirayanian, Mr. Orsen',\n",
       "       'Icard, Miss. Amelie', 'Harris, Mr. Henry Birkhardt',\n",
       "       'Skoog, Master. Harald', 'Stewart, Mr. Albert A',\n",
       "       'Moubarek, Master. Gerios', 'Nye, Mrs. (Elizabeth Ramell)',\n",
       "       'Crease, Mr. Ernest James', 'Andersson, Miss. Erna Alexandra',\n",
       "       'Kink, Mr. Vincenz', 'Jenkin, Mr. Stephen Curnow',\n",
       "       'Goodwin, Miss. Lillian Amy', 'Hood, Mr. Ambrose Jr',\n",
       "       'Chronopoulos, Mr. Apostolos', 'Bing, Mr. Lee',\n",
       "       'Moen, Mr. Sigurd Hansen', 'Staneff, Mr. Ivan',\n",
       "       'Moutal, Mr. Rahamin Haim', 'Caldwell, Master. Alden Gates',\n",
       "       'Dowdell, Miss. Elizabeth', 'Waelens, Mr. Achille',\n",
       "       'Sheerlinck, Mr. Jan Baptist', 'McDermott, Miss. Brigdet Delia',\n",
       "       'Carrau, Mr. Francisco M', 'Ilett, Miss. Bertha',\n",
       "       'Backstrom, Mrs. Karl Alfred (Maria Mathilda Gustafsson)',\n",
       "       'Ford, Mr. William Neal', 'Slocovski, Mr. Selman Francis',\n",
       "       'Fortune, Miss. Mabel Helen', 'Celotti, Mr. Francesco',\n",
       "       'Christmann, Mr. Emil', 'Andreasson, Mr. Paul Edvin',\n",
       "       'Chaffee, Mr. Herbert Fuller', 'Dean, Mr. Bertram Frank',\n",
       "       'Coxon, Mr. Daniel', 'Shorney, Mr. Charles Joseph',\n",
       "       'Goldschmidt, Mr. George B', 'Greenfield, Mr. William Bertram',\n",
       "       'Doling, Mrs. John T (Ada Julia Bone)', 'Kantor, Mr. Sinai',\n",
       "       'Petranec, Miss. Matilda', 'Petroff, Mr. Pastcho (\"Pentcho\")',\n",
       "       'White, Mr. Richard Frasar', 'Johansson, Mr. Gustaf Joel',\n",
       "       'Gustafsson, Mr. Anders Vilhelm', 'Mionoff, Mr. Stoytcho',\n",
       "       'Salkjelsvik, Miss. Anna Kristine', 'Moss, Mr. Albert Johan',\n",
       "       'Rekic, Mr. Tido', 'Moran, Miss. Bertha',\n",
       "       'Porter, Mr. Walter Chamberlain', 'Zabour, Miss. Hileni',\n",
       "       'Barton, Mr. David John', 'Jussila, Miss. Katriina',\n",
       "       'Attalah, Miss. Malake', 'Pekoniemi, Mr. Edvard',\n",
       "       'Connors, Mr. Patrick', 'Turpin, Mr. William John Robert',\n",
       "       'Baxter, Mr. Quigg Edmond', 'Andersson, Miss. Ellis Anna Maria',\n",
       "       'Hickman, Mr. Stanley George', 'Moore, Mr. Leonard Charles',\n",
       "       'Nasser, Mr. Nicholas', 'Webber, Miss. Susan',\n",
       "       'White, Mr. Percival Wayland', 'Nicola-Yarred, Master. Elias',\n",
       "       'McMahon, Mr. Martin', 'Madsen, Mr. Fridtjof Arne',\n",
       "       'Peter, Miss. Anna', 'Ekstrom, Mr. Johan', 'Drazenoic, Mr. Jozef',\n",
       "       'Coelho, Mr. Domingos Fernandeo',\n",
       "       'Robins, Mrs. Alexander A (Grace Charity Laury)',\n",
       "       'Weisz, Mrs. Leopold (Mathilde Francoise Pede)',\n",
       "       'Sobey, Mr. Samuel James Hayden', 'Richard, Mr. Emile',\n",
       "       'Newsom, Miss. Helen Monypeny', 'Futrelle, Mr. Jacques Heath',\n",
       "       'Osen, Mr. Olaf Elon', 'Giglio, Mr. Victor',\n",
       "       'Boulos, Mrs. Joseph (Sultana)', 'Nysten, Miss. Anna Sofia',\n",
       "       'Hakkarainen, Mrs. Pekka Pietari (Elin Matilda Dolck)',\n",
       "       'Burke, Mr. Jeremiah', 'Andrew, Mr. Edgardo Samuel',\n",
       "       'Nicholls, Mr. Joseph Charles',\n",
       "       'Andersson, Mr. August Edvard (\"Wennerstrom\")',\n",
       "       'Ford, Miss. Robina Maggie \"Ruby\"',\n",
       "       'Navratil, Mr. Michel (\"Louis M Hoffman\")',\n",
       "       'Byles, Rev. Thomas Roussel Davids', 'Bateman, Rev. Robert James',\n",
       "       'Pears, Mrs. Thomas (Edith Wearne)', 'Meo, Mr. Alfonzo',\n",
       "       'van Billiard, Mr. Austin Blyler', 'Olsen, Mr. Ole Martin',\n",
       "       'Williams, Mr. Charles Duane', 'Gilnagh, Miss. Katherine \"Katie\"',\n",
       "       'Corn, Mr. Harry', 'Smiljanic, Mr. Mile',\n",
       "       'Sage, Master. Thomas Henry', 'Cribb, Mr. John Hatfield',\n",
       "       'Watt, Mrs. James (Elizabeth \"Bessie\" Inglis Milne)',\n",
       "       'Bengtsson, Mr. John Viktor', 'Calic, Mr. Jovo',\n",
       "       'Panula, Master. Eino Viljami',\n",
       "       'Goldsmith, Master. Frank John William \"Frankie\"',\n",
       "       'Chibnall, Mrs. (Edith Martha Bowerman)',\n",
       "       'Skoog, Mrs. William (Anna Bernhardina Karlsson)',\n",
       "       'Baumann, Mr. John D', 'Ling, Mr. Lee',\n",
       "       'Van der hoef, Mr. Wyckoff', 'Rice, Master. Arthur',\n",
       "       'Johnson, Miss. Eleanor Ileen', 'Sivola, Mr. Antti Wilhelm',\n",
       "       'Smith, Mr. James Clinch', 'Klasen, Mr. Klas Albin',\n",
       "       'Lefebre, Master. Henry Forbes', 'Isham, Miss. Ann Elizabeth',\n",
       "       'Hale, Mr. Reginald', 'Leonard, Mr. Lionel',\n",
       "       'Sage, Miss. Constance Gladys', 'Pernot, Mr. Rene',\n",
       "       'Asplund, Master. Clarence Gustaf Hugo',\n",
       "       'Becker, Master. Richard F', 'Kink-Heilmann, Miss. Luise Gretchen',\n",
       "       'Rood, Mr. Hugh Roscoe',\n",
       "       'O\\'Brien, Mrs. Thomas (Johanna \"Hannah\" Godfrey)',\n",
       "       'Romaine, Mr. Charles Hallace (\"Mr C Rolmane\")',\n",
       "       'Bourke, Mr. John', 'Turcin, Mr. Stjepan', 'Pinsky, Mrs. (Rosa)',\n",
       "       'Carbines, Mr. William',\n",
       "       'Andersen-Jensen, Miss. Carla Christine Nielsine',\n",
       "       'Navratil, Master. Michel M',\n",
       "       'Brown, Mrs. James Joseph (Margaret Tobin)',\n",
       "       'Lurette, Miss. Elise', 'Mernagh, Mr. Robert',\n",
       "       'Olsen, Mr. Karl Siegwart Andreas',\n",
       "       'Madigan, Miss. Margaret \"Maggie\"',\n",
       "       'Yrois, Miss. Henriette (\"Mrs Harbeck\")',\n",
       "       'Vande Walle, Mr. Nestor Cyriel', 'Sage, Mr. Frederick',\n",
       "       'Johanson, Mr. Jakob Alfred', 'Youseff, Mr. Gerious',\n",
       "       'Cohen, Mr. Gurshon \"Gus\"', 'Strom, Miss. Telma Matilda',\n",
       "       'Backstrom, Mr. Karl Alfred', 'Albimona, Mr. Nassef Cassem',\n",
       "       'Carr, Miss. Helen \"Ellen\"', 'Blank, Mr. Henry', 'Ali, Mr. Ahmed',\n",
       "       'Cameron, Miss. Clear Annie', 'Perkin, Mr. John Henry',\n",
       "       'Givard, Mr. Hans Kristensen', 'Kiernan, Mr. Philip',\n",
       "       'Newell, Miss. Madeleine', 'Honkanen, Miss. Eliina',\n",
       "       'Jacobsohn, Mr. Sidney Samuel', 'Bazzani, Miss. Albina',\n",
       "       'Harris, Mr. Walter', 'Sunderland, Mr. Victor Francis',\n",
       "       'Bracken, Mr. James H', 'Green, Mr. George Henry',\n",
       "       'Nenkoff, Mr. Christo', 'Hoyt, Mr. Frederick Maxfield',\n",
       "       'Berglund, Mr. Karl Ivar Sven', 'Mellors, Mr. William John',\n",
       "       'Lovell, Mr. John Hall (\"Henry\")', 'Fahlstrom, Mr. Arne Jonas',\n",
       "       'Lefebre, Miss. Mathilde',\n",
       "       'Harris, Mrs. Henry Birkhardt (Irene Wallach)',\n",
       "       'Larsson, Mr. Bengt Edvin', 'Sjostedt, Mr. Ernst Adolf',\n",
       "       'Asplund, Miss. Lillian Gertrud',\n",
       "       'Leyson, Mr. Robert William Norman',\n",
       "       'Harknett, Miss. Alice Phoebe', 'Hold, Mr. Stephen',\n",
       "       'Collyer, Miss. Marjorie \"Lottie\"',\n",
       "       'Pengelly, Mr. Frederick William', 'Hunt, Mr. George Henry',\n",
       "       'Zabour, Miss. Thamine', 'Murphy, Miss. Katherine \"Kate\"',\n",
       "       'Coleridge, Mr. Reginald Charles', 'Maenpaa, Mr. Matti Alexanteri',\n",
       "       'Attalah, Mr. Sleiman', 'Minahan, Dr. William Edward',\n",
       "       'Lindahl, Miss. Agda Thorilda Viktoria',\n",
       "       'Hamalainen, Mrs. William (Anna)', 'Beckwith, Mr. Richard Leonard',\n",
       "       'Carter, Rev. Ernest Courtenay', 'Reed, Mr. James George',\n",
       "       'Strom, Mrs. Wilhelm (Elna Matilda Persson)',\n",
       "       'Stead, Mr. William Thomas', 'Lobb, Mr. William Arthur',\n",
       "       'Rosblom, Mrs. Viktor (Helena Wilhelmina)',\n",
       "       'Touma, Mrs. Darwis (Hanne Youssef Razi)',\n",
       "       'Thorne, Mrs. Gertrude Maybelle', 'Cherry, Miss. Gladys',\n",
       "       'Ward, Miss. Anna', 'Parrish, Mrs. (Lutie Davis)',\n",
       "       'Smith, Mr. Thomas', 'Asplund, Master. Edvin Rojj Felix',\n",
       "       'Taussig, Mr. Emil', 'Harrison, Mr. William', 'Henry, Miss. Delia',\n",
       "       'Reeves, Mr. David', 'Panula, Mr. Ernesti Arvid',\n",
       "       'Persson, Mr. Ernst Ulrik',\n",
       "       'Graham, Mrs. William Thompson (Edith Junkins)',\n",
       "       'Bissette, Miss. Amelia', 'Cairns, Mr. Alexander',\n",
       "       'Tornquist, Mr. William Henry',\n",
       "       'Mellinger, Mrs. (Elizabeth Anne Maidment)',\n",
       "       'Natsch, Mr. Charles H', 'Healy, Miss. Hanora \"Nora\"',\n",
       "       'Andrews, Miss. Kornelia Theodosia',\n",
       "       'Lindblom, Miss. Augusta Charlotta', 'Parkes, Mr. Francis \"Frank\"',\n",
       "       'Rice, Master. Eric', 'Abbott, Mrs. Stanton (Rosa Hunt)',\n",
       "       'Duane, Mr. Frank', 'Olsson, Mr. Nils Johan Goransson',\n",
       "       'de Pelsmaeker, Mr. Alfons', 'Dorking, Mr. Edward Arthur',\n",
       "       'Smith, Mr. Richard William', 'Stankovic, Mr. Ivan',\n",
       "       'de Mulder, Mr. Theodore', 'Naidenoff, Mr. Penko',\n",
       "       'Hosono, Mr. Masabumi', 'Connolly, Miss. Kate',\n",
       "       'Barber, Miss. Ellen \"Nellie\"',\n",
       "       'Bishop, Mrs. Dickinson H (Helen Walton)',\n",
       "       'Levy, Mr. Rene Jacques', 'Haas, Miss. Aloisia',\n",
       "       'Mineff, Mr. Ivan', 'Lewy, Mr. Ervin G', 'Hanna, Mr. Mansour',\n",
       "       'Allison, Miss. Helen Loraine', 'Saalfeld, Mr. Adolphe',\n",
       "       'Baxter, Mrs. James (Helene DeLaudeniere Chaput)',\n",
       "       'Kelly, Miss. Anna Katherine \"Annie Kate\"', 'McCoy, Mr. Bernard',\n",
       "       'Johnson, Mr. William Cahoone Jr', 'Keane, Miss. Nora A',\n",
       "       'Williams, Mr. Howard Hugh \"Harry\"',\n",
       "       'Allison, Master. Hudson Trevor', 'Fleming, Miss. Margaret',\n",
       "       'Penasco y Castellana, Mrs. Victor de Satode (Maria Josefa Perez de Soto y Vallejo)',\n",
       "       'Abelson, Mr. Samuel', 'Francatelli, Miss. Laura Mabel',\n",
       "       'Hays, Miss. Margaret Bechstein', 'Ryerson, Miss. Emily Borie',\n",
       "       'Lahtinen, Mrs. William (Anna Sylfven)', 'Hendekovic, Mr. Ignjac',\n",
       "       'Hart, Mr. Benjamin', 'Nilsson, Miss. Helmina Josefina',\n",
       "       'Kantor, Mrs. Sinai (Miriam Sternin)', 'Moraweck, Dr. Ernest',\n",
       "       'Wick, Miss. Mary Natalie',\n",
       "       'Spedden, Mrs. Frederic Oakley (Margaretta Corning Stone)',\n",
       "       'Dennis, Mr. Samuel', 'Danoff, Mr. Yoto',\n",
       "       'Slayter, Miss. Hilda Mary',\n",
       "       'Caldwell, Mrs. Albert Francis (Sylvia Mae Harbaugh)',\n",
       "       'Sage, Mr. George John Jr', 'Young, Miss. Marie Grice',\n",
       "       'Nysveen, Mr. Johan Hansen', 'Ball, Mrs. (Ada E Hall)',\n",
       "       'Goldsmith, Mrs. Frank John (Emily Alice Brown)',\n",
       "       'Hippach, Miss. Jean Gertrude', 'McCoy, Miss. Agnes',\n",
       "       'Partner, Mr. Austen', 'Graham, Mr. George Edward',\n",
       "       'Vander Planke, Mr. Leo Edmondus',\n",
       "       'Frauenthal, Mrs. Henry William (Clara Heinsheimer)',\n",
       "       'Denkoff, Mr. Mitto', 'Pears, Mr. Thomas Clinton',\n",
       "       'Burns, Miss. Elizabeth Margaret', 'Dahl, Mr. Karl Edwart',\n",
       "       'Blackwell, Mr. Stephen Weart', 'Navratil, Master. Edmond Roger',\n",
       "       'Fortune, Miss. Alice Elizabeth', 'Collander, Mr. Erik Gustaf',\n",
       "       'Sedgwick, Mr. Charles Frederick Waddington',\n",
       "       'Fox, Mr. Stanley Hubert', 'Brown, Miss. Amelia \"Mildred\"',\n",
       "       'Smith, Miss. Marion Elsie',\n",
       "       'Davison, Mrs. Thomas Henry (Mary E Finck)',\n",
       "       'Coutts, Master. William Loch \"William\"', 'Dimic, Mr. Jovan',\n",
       "       'Odahl, Mr. Nils Martin', 'Williams-Lambert, Mr. Fletcher Fellows',\n",
       "       'Elias, Mr. Tannous', 'Arnold-Franchi, Mr. Josef',\n",
       "       'Yousif, Mr. Wazli', 'Vanden Steen, Mr. Leo Peter',\n",
       "       'Bowerman, Miss. Elsie Edith', 'Funk, Miss. Annie Clemmer',\n",
       "       'McGovern, Miss. Mary', 'Mockler, Miss. Helen Mary \"Ellie\"',\n",
       "       'Skoog, Mr. Wilhelm', 'del Carlo, Mr. Sebastiano',\n",
       "       'Barbara, Mrs. (Catherine David)', 'Asim, Mr. Adola',\n",
       "       \"O'Brien, Mr. Thomas\", 'Adahl, Mr. Mauritz Nils Martin',\n",
       "       'Warren, Mrs. Frank Manley (Anna Sophia Atkinson)',\n",
       "       'Moussa, Mrs. (Mantoura Boulos)', 'Jermyn, Miss. Annie',\n",
       "       'Aubart, Mme. Leontine Pauline', 'Harder, Mr. George Achilles',\n",
       "       'Wiklund, Mr. Jakob Alfred', 'Beavan, Mr. William Thomas',\n",
       "       'Ringhini, Mr. Sante', 'Palsson, Miss. Stina Viola',\n",
       "       'Meyer, Mrs. Edgar Joseph (Leila Saks)',\n",
       "       'Landergren, Miss. Aurora Adelia', 'Widener, Mr. Harry Elkins',\n",
       "       'Betros, Mr. Tannous', 'Gustafsson, Mr. Karl Gideon',\n",
       "       'Bidois, Miss. Rosalie', 'Nakid, Miss. Maria (\"Mary\")',\n",
       "       'Tikkanen, Mr. Juho',\n",
       "       'Holverson, Mrs. Alexander Oskar (Mary Aline Towner)',\n",
       "       'Plotcharsky, Mr. Vasil', 'Davies, Mr. Charles Henry',\n",
       "       'Goodwin, Master. Sidney Leonard', 'Buss, Miss. Kate',\n",
       "       'Sadlier, Mr. Matthew', 'Lehmann, Miss. Bertha',\n",
       "       'Carter, Mr. William Ernest', 'Jansson, Mr. Carl Olof',\n",
       "       'Gustafsson, Mr. Johan Birger', 'Newell, Miss. Marjorie',\n",
       "       'Sandstrom, Mrs. Hjalmar (Agnes Charlotta Bengtsson)',\n",
       "       'Johansson, Mr. Erik', 'Olsson, Miss. Elina',\n",
       "       'McKane, Mr. Peter David', 'Pain, Dr. Alfred',\n",
       "       'Trout, Mrs. William H (Jessie L)', 'Niskanen, Mr. Juha',\n",
       "       'Adams, Mr. John', 'Jussila, Miss. Mari Aina',\n",
       "       'Hakkarainen, Mr. Pekka Pietari', 'Oreskovic, Miss. Marija',\n",
       "       'Gale, Mr. Shadrach', 'Widegren, Mr. Carl/Charles Peter',\n",
       "       'Richards, Master. William Rowe',\n",
       "       'Birkeland, Mr. Hans Martin Monsen', 'Lefebre, Miss. Ida',\n",
       "       'Sdycoff, Mr. Todor', 'Hart, Mr. Henry', 'Minahan, Miss. Daisy E',\n",
       "       'Cunningham, Mr. Alfred Fleming', 'Sundman, Mr. Johan Julian',\n",
       "       'Meek, Mrs. Thomas (Annie Louise Rowley)',\n",
       "       'Drew, Mrs. James Vivian (Lulu Thorne Christian)',\n",
       "       'Silven, Miss. Lyyli Karoliina', 'Matthews, Mr. William John',\n",
       "       'Van Impe, Miss. Catharina', 'Gheorgheff, Mr. Stanio',\n",
       "       'Charters, Mr. David', 'Zimmerman, Mr. Leo',\n",
       "       'Danbom, Mrs. Ernst Gilbert (Anna Sigrid Maria Brogren)',\n",
       "       'Rosblom, Mr. Viktor Richard', 'Wiseman, Mr. Phillippe',\n",
       "       'Clarke, Mrs. Charles V (Ada Maria Winfield)',\n",
       "       'Phillips, Miss. Kate Florence (\"Mrs Kate Louise Phillips Marshall\")',\n",
       "       'Flynn, Mr. James', 'Pickard, Mr. Berk (Berk Trembisky)',\n",
       "       'Bjornstrom-Steffansson, Mr. Mauritz Hakan',\n",
       "       'Thorneycroft, Mrs. Percival (Florence Kate White)',\n",
       "       'Louch, Mrs. Charles Alexander (Alice Adelaide Slow)',\n",
       "       'Kallio, Mr. Nikolai Erland', 'Silvey, Mr. William Baird',\n",
       "       'Carter, Miss. Lucile Polk',\n",
       "       'Ford, Miss. Doolina Margaret \"Daisy\"',\n",
       "       'Richards, Mrs. Sidney (Emily Hocking)', 'Fortune, Mr. Mark',\n",
       "       'Kvillner, Mr. Johan Henrik Johannesson',\n",
       "       'Hart, Mrs. Benjamin (Esther Ada Bloomfield)', 'Hampe, Mr. Leon',\n",
       "       'Petterson, Mr. Johan Emil', 'Reynaldo, Ms. Encarnacion',\n",
       "       'Johannesen-Bratthammer, Mr. Bernt', 'Dodge, Master. Washington',\n",
       "       'Mellinger, Miss. Madeleine Violet', 'Seward, Mr. Frederic Kimber',\n",
       "       'Baclini, Miss. Marie Catherine', 'Peuchen, Major. Arthur Godfrey',\n",
       "       'West, Mr. Edwy Arthur', 'Hagland, Mr. Ingvald Olai Olsen',\n",
       "       'Foreman, Mr. Benjamin Laventall', 'Goldenberg, Mr. Samuel L',\n",
       "       'Peduzzi, Mr. Joseph', 'Jalsevac, Mr. Ivan',\n",
       "       'Millet, Mr. Francis Davis', 'Kenyon, Mrs. Frederick R (Marion)',\n",
       "       'Toomey, Miss. Ellen', \"O'Connor, Mr. Maurice\",\n",
       "       'Anderson, Mr. Harry', 'Morley, Mr. William', 'Gee, Mr. Arthur H',\n",
       "       'Milling, Mr. Jacob Christian', 'Maisner, Mr. Simon',\n",
       "       'Goncalves, Mr. Manuel Estanslas', 'Campbell, Mr. William',\n",
       "       'Smart, Mr. John Montgomery', 'Scanlan, Mr. James',\n",
       "       'Baclini, Miss. Helene Barbara', 'Keefe, Mr. Arthur',\n",
       "       'Cacic, Mr. Luka', 'West, Mrs. Edwy Arthur (Ada Mary Worth)',\n",
       "       'Jerwan, Mrs. Amin S (Marie Marthe Thuillard)',\n",
       "       'Strandberg, Miss. Ida Sofia', 'Clifford, Mr. George Quincy',\n",
       "       'Renouf, Mr. Peter Henry', 'Braund, Mr. Lewis Richard',\n",
       "       'Karlsson, Mr. Nils August', 'Hirvonen, Miss. Hildur E',\n",
       "       'Goodwin, Master. Harold Victor',\n",
       "       'Frost, Mr. Anthony Wood \"Archie\"', 'Rouse, Mr. Richard Henry',\n",
       "       'Turkula, Mrs. (Hedwig)', 'Bishop, Mr. Dickinson H',\n",
       "       'Lefebre, Miss. Jeannie',\n",
       "       'Hoyt, Mrs. Frederick Maxfield (Jane Anne Forby)',\n",
       "       'Kent, Mr. Edward Austin', 'Somerton, Mr. Francis William',\n",
       "       'Coutts, Master. Eden Leslie \"Neville\"',\n",
       "       'Hagland, Mr. Konrad Mathias Reiersen', 'Windelov, Mr. Einar',\n",
       "       'Molson, Mr. Harry Markland', 'Artagaveytia, Mr. Ramon',\n",
       "       'Stanley, Mr. Edward Roland', 'Yousseff, Mr. Gerious',\n",
       "       'Eustis, Miss. Elizabeth Mussey',\n",
       "       'Shellard, Mr. Frederick William',\n",
       "       'Allison, Mrs. Hudson J C (Bessie Waldo Daniels)',\n",
       "       'Svensson, Mr. Olof', 'Calic, Mr. Petar', 'Canavan, Miss. Mary',\n",
       "       \"O'Sullivan, Miss. Bridget Mary\", 'Laitinen, Miss. Kristina Sofia',\n",
       "       'Maioni, Miss. Roberta',\n",
       "       'Penasco y Castellana, Mr. Victor de Satode',\n",
       "       'Quick, Mrs. Frederick Charles (Jane Richards)',\n",
       "       'Bradley, Mr. George (\"George Arthur Brayton\")',\n",
       "       'Olsen, Mr. Henry Margido', 'Lang, Mr. Fang',\n",
       "       'Daly, Mr. Eugene Patrick', 'Webber, Mr. James',\n",
       "       'McGough, Mr. James Robert',\n",
       "       'Rothschild, Mrs. Martin (Elizabeth L. Barrett)',\n",
       "       'Coleff, Mr. Satio', 'Walker, Mr. William Anderson',\n",
       "       'Lemore, Mrs. (Amelia Milley)', 'Ryan, Mr. Patrick',\n",
       "       'Angle, Mrs. William A (Florence \"Mary\" Agnes Hughes)',\n",
       "       'Pavlovic, Mr. Stefo', 'Perreault, Miss. Anne', 'Vovk, Mr. Janko',\n",
       "       'Lahoud, Mr. Sarkis',\n",
       "       'Hippach, Mrs. Louis Albert (Ida Sophia Fischer)',\n",
       "       'Kassem, Mr. Fared', 'Farrell, Mr. James', 'Ridsdale, Miss. Lucy',\n",
       "       'Farthing, Mr. John', 'Salonen, Mr. Johan Werner',\n",
       "       'Hocking, Mr. Richard George', 'Quick, Miss. Phyllis May',\n",
       "       'Toufik, Mr. Nakli', 'Elias, Mr. Joseph Jr',\n",
       "       'Peter, Mrs. Catherine (Catherine Rizk)', 'Cacic, Miss. Marija',\n",
       "       'Hart, Miss. Eva Miriam', 'Butt, Major. Archibald Willingham',\n",
       "       'LeRoy, Miss. Bertha', 'Risien, Mr. Samuel Beard',\n",
       "       'Frolicher, Miss. Hedwig Margaritha', 'Crosby, Miss. Harriet R',\n",
       "       'Andersson, Miss. Ingeborg Constanzia',\n",
       "       'Andersson, Miss. Sigrid Elisabeth', 'Beane, Mr. Edward',\n",
       "       'Douglas, Mr. Walter Donald', 'Nicholson, Mr. Arthur Ernest',\n",
       "       'Beane, Mrs. Edward (Ethel Clarke)', 'Padro y Manent, Mr. Julian',\n",
       "       'Goldsmith, Mr. Frank John', 'Davies, Master. John Morgan Jr',\n",
       "       'Thayer, Mr. John Borland Jr', 'Sharp, Mr. Percival James R',\n",
       "       \"O'Brien, Mr. Timothy\", 'Leeni, Mr. Fahim (\"Philip Zenni\")',\n",
       "       'Ohman, Miss. Velin', 'Wright, Mr. George',\n",
       "       'Duff Gordon, Lady. (Lucille Christiana Sutherland) (\"Mrs Morgan\")',\n",
       "       'Robbins, Mr. Victor', 'Taussig, Mrs. Emil (Tillie Mandelbaum)',\n",
       "       'de Messemaeker, Mrs. Guillaume Joseph (Emma)',\n",
       "       'Morrow, Mr. Thomas Rowan', 'Sivic, Mr. Husein',\n",
       "       'Norman, Mr. Robert Douglas', 'Simmons, Mr. John',\n",
       "       'Meanwell, Miss. (Marion Ogden)', 'Davies, Mr. Alfred J',\n",
       "       'Stoytcheff, Mr. Ilia',\n",
       "       'Palsson, Mrs. Nils (Alma Cornelia Berglund)',\n",
       "       'Doharr, Mr. Tannous', 'Jonsson, Mr. Carl', 'Harris, Mr. George',\n",
       "       'Appleton, Mrs. Edward Dale (Charlotte Lamson)',\n",
       "       'Flynn, Mr. John Irwin (\"Irving\")', 'Kelly, Miss. Mary',\n",
       "       'Rush, Mr. Alfred George John', 'Patchett, Mr. George',\n",
       "       'Garside, Miss. Ethel',\n",
       "       'Silvey, Mrs. William Baird (Alice Munger)',\n",
       "       'Caram, Mrs. Joseph (Maria Elias)', 'Jussila, Mr. Eiriik',\n",
       "       'Christy, Miss. Julie Rachel',\n",
       "       'Thayer, Mrs. John Borland (Marian Longstreth Morris)',\n",
       "       'Downton, Mr. William James', 'Ross, Mr. John Hugo',\n",
       "       'Paulner, Mr. Uscher', 'Taussig, Miss. Ruth',\n",
       "       'Jarvis, Mr. John Denzil', 'Frolicher-Stehli, Mr. Maxmillian',\n",
       "       'Gilinski, Mr. Eliezer', 'Murdlin, Mr. Joseph',\n",
       "       'Rintamaki, Mr. Matti',\n",
       "       'Stephenson, Mrs. Walter Bertram (Martha Eustis)',\n",
       "       'Elsbury, Mr. William James', 'Bourke, Miss. Mary',\n",
       "       'Chapman, Mr. John Henry', 'Van Impe, Mr. Jean Baptiste',\n",
       "       'Leitch, Miss. Jessie Wills', 'Johnson, Mr. Alfred',\n",
       "       'Boulos, Mr. Hanna',\n",
       "       'Duff Gordon, Sir. Cosmo Edmund (\"Mr Morgan\")',\n",
       "       'Jacobsohn, Mrs. Sidney Samuel (Amy Frances Christy)',\n",
       "       'Slabenoff, Mr. Petco', 'Harrington, Mr. Charles H',\n",
       "       'Torber, Mr. Ernst William', 'Homer, Mr. Harry (\"Mr E Haven\")',\n",
       "       'Lindell, Mr. Edvard Bengtsson', 'Karaic, Mr. Milan',\n",
       "       'Daniel, Mr. Robert Williams',\n",
       "       'Laroche, Mrs. Joseph (Juliette Marie Louise Lafargue)',\n",
       "       'Shutes, Miss. Elizabeth W',\n",
       "       'Andersson, Mrs. Anders Johan (Alfrida Konstantia Brogren)',\n",
       "       'Jardin, Mr. Jose Neto', 'Murphy, Miss. Margaret Jane',\n",
       "       'Horgan, Mr. John', 'Brocklebank, Mr. William Alfred',\n",
       "       'Herman, Miss. Alice', 'Danbom, Mr. Ernst Gilbert',\n",
       "       'Lobb, Mrs. William Arthur (Cordelia K Stanlick)',\n",
       "       'Becker, Miss. Marion Louise', 'Gavey, Mr. Lawrence',\n",
       "       'Yasbeck, Mr. Antoni', 'Kimball, Mr. Edwin Nelson Jr',\n",
       "       'Nakid, Mr. Sahid', 'Hansen, Mr. Henry Damsgaard',\n",
       "       'Bowen, Mr. David John \"Dai\"', 'Sutton, Mr. Frederick',\n",
       "       'Kirkland, Rev. Charles Leonard', 'Longley, Miss. Gretchen Fiske',\n",
       "       'Bostandyeff, Mr. Guentcho', \"O'Connell, Mr. Patrick D\",\n",
       "       'Barkworth, Mr. Algernon Henry Wilson',\n",
       "       'Lundahl, Mr. Johan Svensson', 'Stahelin-Maeglin, Dr. Max',\n",
       "       'Parr, Mr. William Henry Marsh', 'Skoog, Miss. Mabel',\n",
       "       'Davis, Miss. Mary', 'Leinonen, Mr. Antti Gustaf',\n",
       "       'Collyer, Mr. Harvey', 'Panula, Mrs. Juha (Maria Emilia Ojala)',\n",
       "       'Thorneycroft, Mr. Percival', 'Jensen, Mr. Hans Peder',\n",
       "       'Sagesser, Mlle. Emma', 'Skoog, Miss. Margit Elizabeth',\n",
       "       'Foo, Mr. Choong', 'Baclini, Miss. Eugenie',\n",
       "       'Harper, Mr. Henry Sleeper', 'Cor, Mr. Liudevit',\n",
       "       'Simonius-Blumer, Col. Oberst Alfons', 'Willey, Mr. Edward',\n",
       "       'Stanley, Miss. Amy Zillah Elsie', 'Mitkoff, Mr. Mito',\n",
       "       'Doling, Miss. Elsie', 'Kalvik, Mr. Johannes Halvorsen',\n",
       "       'O\\'Leary, Miss. Hanora \"Norah\"', 'Hegarty, Miss. Hanora \"Nora\"',\n",
       "       'Hickman, Mr. Leonard Mark', 'Radeff, Mr. Alexander',\n",
       "       'Bourke, Mrs. John (Catherine)', 'Eitemiller, Mr. George Floyd',\n",
       "       'Newell, Mr. Arthur Webster', 'Frauenthal, Dr. Henry William',\n",
       "       'Badt, Mr. Mohamed', 'Colley, Mr. Edward Pomeroy',\n",
       "       'Coleff, Mr. Peju', 'Lindqvist, Mr. Eino William',\n",
       "       'Hickman, Mr. Lewis', 'Butler, Mr. Reginald Fenton',\n",
       "       'Rommetvedt, Mr. Knud Paust', 'Cook, Mr. Jacob',\n",
       "       'Taylor, Mrs. Elmer Zebley (Juliet Cummins Wright)',\n",
       "       'Brown, Mrs. Thomas William Solomon (Elizabeth Catherine Ford)',\n",
       "       'Davidson, Mr. Thornton', 'Mitchell, Mr. Henry Michael',\n",
       "       'Wilhelms, Mr. Charles', 'Watson, Mr. Ennis Hastings',\n",
       "       'Edvardsson, Mr. Gustaf Hjalmar', 'Sawyer, Mr. Frederick Charles',\n",
       "       'Turja, Miss. Anna Sofia',\n",
       "       'Goodwin, Mrs. Frederick (Augusta Tyler)',\n",
       "       'Cardeza, Mr. Thomas Drake Martinez', 'Peters, Miss. Katie',\n",
       "       'Hassab, Mr. Hammad', 'Olsvigen, Mr. Thor Anderson',\n",
       "       'Goodwin, Mr. Charles Edward', 'Brown, Mr. Thomas William Solomon',\n",
       "       'Laroche, Mr. Joseph Philippe Lemercier',\n",
       "       'Panula, Mr. Jaako Arnold', 'Dakic, Mr. Branko',\n",
       "       'Fischer, Mr. Eberhard Thelander',\n",
       "       'Madill, Miss. Georgette Alexandra', 'Dick, Mr. Albert Adrian',\n",
       "       'Karun, Miss. Manca', 'Lam, Mr. Ali', 'Saad, Mr. Khalil',\n",
       "       'Weir, Col. John', 'Chapman, Mr. Charles Henry',\n",
       "       'Kelly, Mr. James', 'Mullens, Miss. Katherine \"Katie\"',\n",
       "       'Thayer, Mr. John Borland',\n",
       "       'Humblen, Mr. Adolf Mathias Nicolai Olsen',\n",
       "       'Astor, Mrs. John Jacob (Madeleine Talmadge Force)',\n",
       "       'Silverthorne, Mr. Spencer Victor', 'Barbara, Miss. Saiide',\n",
       "       'Gallagher, Mr. Martin', 'Hansen, Mr. Henrik Juul',\n",
       "       'Morley, Mr. Henry Samuel (\"Mr Henry Marshall\")',\n",
       "       'Kelly, Mrs. Florence \"Fannie\"',\n",
       "       'Calderhead, Mr. Edward Pennington', 'Cleaver, Miss. Alice',\n",
       "       'Moubarek, Master. Halim Gonios (\"William George\")',\n",
       "       'Mayne, Mlle. Berthe Antonine (\"Mrs de Villiers\")',\n",
       "       'Klaber, Mr. Herman', 'Taylor, Mr. Elmer Zebley',\n",
       "       'Larsson, Mr. August Viktor', 'Greenberg, Mr. Samuel',\n",
       "       'Soholt, Mr. Peter Andreas Lauritz Andersen',\n",
       "       'Endres, Miss. Caroline Louise',\n",
       "       'Troutt, Miss. Edwina Celia \"Winnie\"', 'McEvoy, Mr. Michael',\n",
       "       'Johnson, Mr. Malkolm Joackim',\n",
       "       'Harper, Miss. Annie Jessie \"Nina\"', 'Jensen, Mr. Svend Lauritz',\n",
       "       'Gillespie, Mr. William Henry', 'Hodges, Mr. Henry Price',\n",
       "       'Chambers, Mr. Norman Campbell', 'Oreskovic, Mr. Luka',\n",
       "       'Renouf, Mrs. Peter Henry (Lillian Jefferys)',\n",
       "       'Mannion, Miss. Margareth', 'Bryhl, Mr. Kurt Arnold Gottfrid',\n",
       "       'Ilmakangas, Miss. Pieta Sofia', 'Allen, Miss. Elisabeth Walton',\n",
       "       'Hassan, Mr. Houssein G N', 'Knight, Mr. Robert J',\n",
       "       'Berriman, Mr. William John', 'Troupiansky, Mr. Moses Aaron',\n",
       "       'Williams, Mr. Leslie', 'Ford, Mrs. Edward (Margaret Ann Watson)',\n",
       "       'Lesurer, Mr. Gustave J', 'Ivanoff, Mr. Kanio',\n",
       "       'Nankoff, Mr. Minko', 'Hawksford, Mr. Walter James',\n",
       "       'Cavendish, Mr. Tyrell William',\n",
       "       'Ryerson, Miss. Susan Parker \"Suzette\"', 'McNamee, Mr. Neal',\n",
       "       'Stranden, Mr. Juho', 'Crosby, Capt. Edward Gifford',\n",
       "       'Abbott, Mr. Rossmore Edward', 'Sinkkonen, Miss. Anna',\n",
       "       'Marvin, Mr. Daniel Warner', 'Connaghton, Mr. Michael',\n",
       "       'Wells, Miss. Joan', 'Moor, Master. Meier',\n",
       "       'Vande Velde, Mr. Johannes Joseph', 'Jonkoff, Mr. Lalio',\n",
       "       'Herman, Mrs. Samuel (Jane Laver)', 'Hamalainen, Master. Viljo',\n",
       "       'Carlsson, Mr. August Sigfrid', 'Bailey, Mr. Percy Andrew',\n",
       "       'Theobald, Mr. Thomas Leonard',\n",
       "       'Rothes, the Countess. of (Lucy Noel Martha Dyer-Edwards)',\n",
       "       'Garfirth, Mr. John', 'Nirva, Mr. Iisakki Antino Aijo',\n",
       "       'Barah, Mr. Hanna Assi',\n",
       "       'Carter, Mrs. William Ernest (Lucile Polk)',\n",
       "       'Eklund, Mr. Hans Linus', 'Hogeboom, Mrs. John C (Anna Andrews)',\n",
       "       'Brewe, Dr. Arthur Jackson', 'Mangan, Miss. Mary',\n",
       "       'Moran, Mr. Daniel J', 'Gronnestad, Mr. Daniel Danielsen',\n",
       "       'Lievens, Mr. Rene Aime', 'Jensen, Mr. Niels Peder',\n",
       "       'Mack, Mrs. (Mary)', 'Elias, Mr. Dibo',\n",
       "       'Hocking, Mrs. Elizabeth (Eliza Needs)',\n",
       "       'Myhrman, Mr. Pehr Fabian Oliver Malkolm', 'Tobin, Mr. Roger',\n",
       "       'Emanuel, Miss. Virginia Ethel', 'Kilgannon, Mr. Thomas J',\n",
       "       'Robert, Mrs. Edward Scott (Elisabeth Walton McMillan)',\n",
       "       'Ayoub, Miss. Banoura',\n",
       "       'Dick, Mrs. Albert Adrian (Vera Gillespie)',\n",
       "       'Long, Mr. Milton Clyde', 'Johnston, Mr. Andrew G',\n",
       "       'Ali, Mr. William', 'Harmer, Mr. Abraham (David Lishin)',\n",
       "       'Sjoblom, Miss. Anna Sofia', 'Rice, Master. George Hugh',\n",
       "       'Dean, Master. Bertram Vere', 'Guggenheim, Mr. Benjamin',\n",
       "       'Keane, Mr. Andrew \"Andy\"', 'Gaskell, Mr. Alfred',\n",
       "       'Sage, Miss. Stella Anna', 'Hoyt, Mr. William Fisher',\n",
       "       'Dantcheff, Mr. Ristiu', 'Otter, Mr. Richard',\n",
       "       'Leader, Dr. Alice (Farnham)', 'Osman, Mrs. Mara',\n",
       "       'Ibrahim Shawah, Mr. Yousseff',\n",
       "       'Van Impe, Mrs. Jean Baptiste (Rosalie Paula Govaert)',\n",
       "       'Ponesell, Mr. Martin',\n",
       "       'Collyer, Mrs. Harvey (Charlotte Annie Tate)',\n",
       "       'Carter, Master. William Thornton II',\n",
       "       'Thomas, Master. Assad Alexander', 'Hedman, Mr. Oskar Arvid',\n",
       "       'Johansson, Mr. Karl Johan', 'Andrews, Mr. Thomas Jr',\n",
       "       'Pettersson, Miss. Ellen Natalia', 'Meyer, Mr. August',\n",
       "       'Chambers, Mrs. Norman Campbell (Bertha Griggs)',\n",
       "       'Alexander, Mr. William', 'Lester, Mr. James',\n",
       "       'Slemen, Mr. Richard James', 'Andersson, Miss. Ebba Iris Alfrida',\n",
       "       'Tomlin, Mr. Ernest Portage', 'Fry, Mr. Richard',\n",
       "       'Heininen, Miss. Wendla Maria', 'Mallet, Mr. Albert',\n",
       "       'Holm, Mr. John Fredrik Alexander', 'Skoog, Master. Karl Thorsten',\n",
       "       'Hays, Mrs. Charles Melville (Clara Jennings Gregg)',\n",
       "       'Lulic, Mr. Nikola', 'Reuchlin, Jonkheer. John George',\n",
       "       'Moor, Mrs. (Beila)', 'Panula, Master. Urho Abraham',\n",
       "       'Flynn, Mr. John', 'Lam, Mr. Len', 'Mallet, Master. Andre',\n",
       "       'McCormack, Mr. Thomas Joseph',\n",
       "       'Stone, Mrs. George Nelson (Martha Evelyn)',\n",
       "       'Yasbeck, Mrs. Antoni (Selini Alexander)',\n",
       "       'Richards, Master. George Sibley', 'Saad, Mr. Amin',\n",
       "       'Augustsson, Mr. Albert', 'Allum, Mr. Owen George',\n",
       "       'Compton, Miss. Sara Rebecca', 'Pasic, Mr. Jakob',\n",
       "       'Sirota, Mr. Maurice', 'Chip, Mr. Chang', 'Marechal, Mr. Pierre',\n",
       "       'Alhomaki, Mr. Ilmari Rudolf', 'Mudd, Mr. Thomas Charles',\n",
       "       'Serepeca, Miss. Augusta', 'Lemberopolous, Mr. Peter L',\n",
       "       'Culumovic, Mr. Jeso', 'Abbing, Mr. Anthony',\n",
       "       'Sage, Mr. Douglas Bullen', 'Markoff, Mr. Marin',\n",
       "       'Harper, Rev. John',\n",
       "       'Goldenberg, Mrs. Samuel L (Edwiga Grabowska)',\n",
       "       'Andersson, Master. Sigvard Harald Elias', 'Svensson, Mr. Johan',\n",
       "       'Boulos, Miss. Nourelain', 'Lines, Miss. Mary Conover',\n",
       "       'Carter, Mrs. Ernest Courtenay (Lilian Hughes)',\n",
       "       'Aks, Mrs. Sam (Leah Rosen)',\n",
       "       'Wick, Mrs. George Dennick (Mary Hitchcock)',\n",
       "       'Daly, Mr. Peter Denis ', 'Baclini, Mrs. Solomon (Latifa Qurban)',\n",
       "       'Razi, Mr. Raihed', 'Hansen, Mr. Claus Peter',\n",
       "       'Giles, Mr. Frederick Edward',\n",
       "       'Swift, Mrs. Frederick Joel (Margaret Welles Barron)',\n",
       "       'Sage, Miss. Dorothy Edith \"Dolly\"', 'Gill, Mr. John William',\n",
       "       'Bystrom, Mrs. (Karolina)', 'Duran y More, Miss. Asuncion',\n",
       "       'Roebling, Mr. Washington Augustus II',\n",
       "       'van Melkebeke, Mr. Philemon', 'Johnson, Master. Harold Theodor',\n",
       "       'Balkic, Mr. Cerin',\n",
       "       'Beckwith, Mrs. Richard Leonard (Sallie Monypeny)',\n",
       "       'Carlsson, Mr. Frans Olof', 'Vander Cruyssen, Mr. Victor',\n",
       "       'Abelson, Mrs. Samuel (Hannah Wizosky)',\n",
       "       'Najib, Miss. Adele Kiamie \"Jane\"',\n",
       "       'Gustafsson, Mr. Alfred Ossian', 'Petroff, Mr. Nedelio',\n",
       "       'Laleff, Mr. Kristo',\n",
       "       'Potter, Mrs. Thomas Jr (Lily Alexenia Wilson)',\n",
       "       'Shelley, Mrs. William (Imanita Parrish Hall)',\n",
       "       'Markun, Mr. Johann', 'Dahlberg, Miss. Gerda Ulrika',\n",
       "       'Banfield, Mr. Frederick James', 'Sutehall, Mr. Henry Jr',\n",
       "       'Rice, Mrs. William (Margaret Norton)', 'Montvila, Rev. Juozas',\n",
       "       'Graham, Miss. Margaret Edith',\n",
       "       'Johnston, Miss. Catherine Helen \"Carrie\"',\n",
       "       'Behr, Mr. Karl Howell', 'Dooley, Mr. Patrick'], dtype=object)"
      ]
     },
     "execution_count": 17,
     "metadata": {},
     "output_type": "execute_result"
    }
   ],
   "source": [
    "titanic_data['Name'].unique()"
   ]
  },
  {
   "cell_type": "code",
   "execution_count": 18,
   "id": "281e03d5",
   "metadata": {
    "execution": {
     "iopub.execute_input": "2022-10-18T02:59:34.247952Z",
     "iopub.status.busy": "2022-10-18T02:59:34.247537Z",
     "iopub.status.idle": "2022-10-18T02:59:34.254897Z",
     "shell.execute_reply": "2022-10-18T02:59:34.254131Z"
    },
    "id": "d8bf07b0",
    "outputId": "69901485-f07e-4252-fc89-07f6e86597b2",
    "papermill": {
     "duration": 0.025175,
     "end_time": "2022-10-18T02:59:34.257071",
     "exception": false,
     "start_time": "2022-10-18T02:59:34.231896",
     "status": "completed"
    },
    "tags": []
   },
   "outputs": [
    {
     "data": {
      "text/plain": [
       "array(['male', 'female'], dtype=object)"
      ]
     },
     "execution_count": 18,
     "metadata": {},
     "output_type": "execute_result"
    }
   ],
   "source": [
    "titanic_data['Sex'].unique()"
   ]
  },
  {
   "cell_type": "code",
   "execution_count": 19,
   "id": "712e2777",
   "metadata": {
    "execution": {
     "iopub.execute_input": "2022-10-18T02:59:34.287589Z",
     "iopub.status.busy": "2022-10-18T02:59:34.287168Z",
     "iopub.status.idle": "2022-10-18T02:59:34.295497Z",
     "shell.execute_reply": "2022-10-18T02:59:34.294363Z"
    },
    "id": "d818dbe3",
    "outputId": "2225d3ed-2cba-4790-ac35-b9c0f1322d52",
    "papermill": {
     "duration": 0.026401,
     "end_time": "2022-10-18T02:59:34.297869",
     "exception": false,
     "start_time": "2022-10-18T02:59:34.271468",
     "status": "completed"
    },
    "tags": []
   },
   "outputs": [
    {
     "data": {
      "text/plain": [
       "array([0, 1, 2, 5, 3, 4, 6])"
      ]
     },
     "execution_count": 19,
     "metadata": {},
     "output_type": "execute_result"
    }
   ],
   "source": [
    "titanic_data['Parch'].unique()"
   ]
  },
  {
   "cell_type": "code",
   "execution_count": 20,
   "id": "30552261",
   "metadata": {
    "execution": {
     "iopub.execute_input": "2022-10-18T02:59:34.329873Z",
     "iopub.status.busy": "2022-10-18T02:59:34.329426Z",
     "iopub.status.idle": "2022-10-18T02:59:34.336523Z",
     "shell.execute_reply": "2022-10-18T02:59:34.335446Z"
    },
    "id": "b246eb3d",
    "outputId": "443a6e91-cbe3-4926-b601-622c1506851c",
    "papermill": {
     "duration": 0.025828,
     "end_time": "2022-10-18T02:59:34.338663",
     "exception": false,
     "start_time": "2022-10-18T02:59:34.312835",
     "status": "completed"
    },
    "tags": []
   },
   "outputs": [
    {
     "data": {
      "text/plain": [
       "array([1, 0, 3, 4, 2, 5, 8])"
      ]
     },
     "execution_count": 20,
     "metadata": {},
     "output_type": "execute_result"
    }
   ],
   "source": [
    "titanic_data['SibSp'].unique()"
   ]
  },
  {
   "cell_type": "code",
   "execution_count": 21,
   "id": "f5ea3399",
   "metadata": {
    "execution": {
     "iopub.execute_input": "2022-10-18T02:59:34.370280Z",
     "iopub.status.busy": "2022-10-18T02:59:34.369833Z",
     "iopub.status.idle": "2022-10-18T02:59:34.379181Z",
     "shell.execute_reply": "2022-10-18T02:59:34.378110Z"
    },
    "id": "0a9af1c4",
    "outputId": "e56ac55f-3e89-4edc-def2-2d0afc35f364",
    "papermill": {
     "duration": 0.027932,
     "end_time": "2022-10-18T02:59:34.381340",
     "exception": false,
     "start_time": "2022-10-18T02:59:34.353408",
     "status": "completed"
    },
    "tags": []
   },
   "outputs": [
    {
     "data": {
      "text/plain": [
       "array(['A/5 21171', 'PC 17599', 'STON/O2. 3101282', '113803', '373450',\n",
       "       '330877', '17463', '349909', '347742', '237736', 'PP 9549',\n",
       "       '113783', 'A/5. 2151', '347082', '350406', '248706', '382652',\n",
       "       '244373', '345763', '2649', '239865', '248698', '330923', '113788',\n",
       "       '347077', '2631', '19950', '330959', '349216', 'PC 17601',\n",
       "       'PC 17569', '335677', 'C.A. 24579', 'PC 17604', '113789', '2677',\n",
       "       'A./5. 2152', '345764', '2651', '7546', '11668', '349253',\n",
       "       'SC/Paris 2123', '330958', 'S.C./A.4. 23567', '370371', '14311',\n",
       "       '2662', '349237', '3101295', 'A/4. 39886', 'PC 17572', '2926',\n",
       "       '113509', '19947', 'C.A. 31026', '2697', 'C.A. 34651', 'CA 2144',\n",
       "       '2669', '113572', '36973', '347088', 'PC 17605', '2661',\n",
       "       'C.A. 29395', 'S.P. 3464', '3101281', '315151', 'C.A. 33111',\n",
       "       'S.O.C. 14879', '2680', '1601', '348123', '349208', '374746',\n",
       "       '248738', '364516', '345767', '345779', '330932', '113059',\n",
       "       'SO/C 14885', '3101278', 'W./C. 6608', 'SOTON/OQ 392086', '343275',\n",
       "       '343276', '347466', 'W.E.P. 5734', 'C.A. 2315', '364500', '374910',\n",
       "       'PC 17754', 'PC 17759', '231919', '244367', '349245', '349215',\n",
       "       '35281', '7540', '3101276', '349207', '343120', '312991', '349249',\n",
       "       '371110', '110465', '2665', '324669', '4136', '2627',\n",
       "       'STON/O 2. 3101294', '370369', 'PC 17558', 'A4. 54510', '27267',\n",
       "       '370372', 'C 17369', '2668', '347061', '349241',\n",
       "       'SOTON/O.Q. 3101307', 'A/5. 3337', '228414', 'C.A. 29178',\n",
       "       'SC/PARIS 2133', '11752', '7534', 'PC 17593', '2678', '347081',\n",
       "       'STON/O2. 3101279', '365222', '231945', 'C.A. 33112', '350043',\n",
       "       '230080', '244310', 'S.O.P. 1166', '113776', 'A.5. 11206',\n",
       "       'A/5. 851', 'Fa 265302', 'PC 17597', '35851', 'SOTON/OQ 392090',\n",
       "       '315037', 'CA. 2343', '371362', 'C.A. 33595', '347068', '315093',\n",
       "       '363291', '113505', 'PC 17318', '111240', 'STON/O 2. 3101280',\n",
       "       '17764', '350404', '4133', 'PC 17595', '250653', 'LINE',\n",
       "       'SC/PARIS 2131', '230136', '315153', '113767', '370365', '111428',\n",
       "       '364849', '349247', '234604', '28424', '350046', 'PC 17610',\n",
       "       '368703', '4579', '370370', '248747', '345770', '3101264', '2628',\n",
       "       'A/5 3540', '347054', '2699', '367231', '112277',\n",
       "       'SOTON/O.Q. 3101311', 'F.C.C. 13528', 'A/5 21174', '250646',\n",
       "       '367229', '35273', 'STON/O2. 3101283', '243847', '11813',\n",
       "       'W/C 14208', 'SOTON/OQ 392089', '220367', '21440', '349234',\n",
       "       '19943', 'PP 4348', 'SW/PP 751', 'A/5 21173', '236171', '347067',\n",
       "       '237442', 'C.A. 29566', 'W./C. 6609', '26707', 'C.A. 31921',\n",
       "       '28665', 'SCO/W 1585', '367230', 'W./C. 14263',\n",
       "       'STON/O 2. 3101275', '2694', '19928', '347071', '250649', '11751',\n",
       "       '244252', '362316', '113514', 'A/5. 3336', '370129', '2650',\n",
       "       'PC 17585', '110152', 'PC 17755', '230433', '384461', '110413',\n",
       "       '112059', '382649', 'C.A. 17248', '347083', 'PC 17582', 'PC 17760',\n",
       "       '113798', '250644', 'PC 17596', '370375', '13502', '347073',\n",
       "       '239853', 'C.A. 2673', '336439', '347464', '345778', 'A/5. 10482',\n",
       "       '113056', '349239', '345774', '349206', '237798', '370373',\n",
       "       '19877', '11967', 'SC/Paris 2163', '349236', '349233', 'PC 17612',\n",
       "       '2693', '113781', '19988', '9234', '367226', '226593', 'A/5 2466',\n",
       "       '17421', 'PC 17758', 'P/PP 3381', 'PC 17485', '11767', 'PC 17608',\n",
       "       '250651', '349243', 'F.C.C. 13529', '347470', '29011', '36928',\n",
       "       '16966', 'A/5 21172', '349219', '234818', '345364', '28551',\n",
       "       '111361', '113043', 'PC 17611', '349225', '7598', '113784',\n",
       "       '248740', '244361', '229236', '248733', '31418', '386525',\n",
       "       'C.A. 37671', '315088', '7267', '113510', '2695', '2647', '345783',\n",
       "       '237671', '330931', '330980', 'SC/PARIS 2167', '2691',\n",
       "       'SOTON/O.Q. 3101310', 'C 7076', '110813', '2626', '14313',\n",
       "       'PC 17477', '11765', '3101267', '323951', 'C 7077', '113503',\n",
       "       '2648', '347069', 'PC 17757', '2653', 'STON/O 2. 3101293',\n",
       "       '349227', '27849', '367655', 'SC 1748', '113760', '350034',\n",
       "       '3101277', '350052', '350407', '28403', '244278', '240929',\n",
       "       'STON/O 2. 3101289', '341826', '4137', '315096', '28664', '347064',\n",
       "       '29106', '312992', '349222', '394140', 'STON/O 2. 3101269',\n",
       "       '343095', '28220', '250652', '28228', '345773', '349254',\n",
       "       'A/5. 13032', '315082', '347080', 'A/4. 34244', '2003', '250655',\n",
       "       '364851', 'SOTON/O.Q. 392078', '110564', '376564', 'SC/AH 3085',\n",
       "       'STON/O 2. 3101274', '13507', 'C.A. 18723', '345769', '347076',\n",
       "       '230434', '65306', '33638', '113794', '2666', '113786', '65303',\n",
       "       '113051', '17453', 'A/5 2817', '349240', '13509', '17464',\n",
       "       'F.C.C. 13531', '371060', '19952', '364506', '111320', '234360',\n",
       "       'A/S 2816', 'SOTON/O.Q. 3101306', '113792', '36209', '323592',\n",
       "       '315089', 'SC/AH Basle 541', '7553', '31027', '3460', '350060',\n",
       "       '3101298', '239854', 'A/5 3594', '4134', '11771', 'A.5. 18509',\n",
       "       '65304', 'SOTON/OQ 3101317', '113787', 'PC 17609', 'A/4 45380',\n",
       "       '36947', 'C.A. 6212', '350035', '315086', '364846', '330909',\n",
       "       '4135', '26360', '111427', 'C 4001', '382651', 'SOTON/OQ 3101316',\n",
       "       'PC 17473', 'PC 17603', '349209', '36967', 'C.A. 34260', '226875',\n",
       "       '349242', '12749', '349252', '2624', '2700', '367232',\n",
       "       'W./C. 14258', 'PC 17483', '3101296', '29104', '2641', '2690',\n",
       "       '315084', '113050', 'PC 17761', '364498', '13568', 'WE/P 5735',\n",
       "       '2908', '693', 'SC/PARIS 2146', '244358', '330979', '2620',\n",
       "       '347085', '113807', '11755', '345572', '372622', '349251',\n",
       "       '218629', 'SOTON/OQ 392082', 'SOTON/O.Q. 392087', 'A/4 48871',\n",
       "       '349205', '2686', '350417', 'S.W./PP 752', '11769', 'PC 17474',\n",
       "       '14312', 'A/4. 20589', '358585', '243880', '2689',\n",
       "       'STON/O 2. 3101286', '237789', '13049', '3411', '237565', '13567',\n",
       "       '14973', 'A./5. 3235', 'STON/O 2. 3101273', 'A/5 3902', '364848',\n",
       "       'SC/AH 29037', '248727', '2664', '349214', '113796', '364511',\n",
       "       '111426', '349910', '349246', '113804', 'SOTON/O.Q. 3101305',\n",
       "       '370377', '364512', '220845', '31028', '2659', '11753', '350029',\n",
       "       '54636', '36963', '219533', '349224', '334912', '27042', '347743',\n",
       "       '13214', '112052', '237668', 'STON/O 2. 3101292', '350050',\n",
       "       '349231', '13213', 'S.O./P.P. 751', 'CA. 2314', '349221', '8475',\n",
       "       '330919', '365226', '349223', '29751', '2623', '5727', '349210',\n",
       "       'STON/O 2. 3101285', '234686', '312993', 'A/5 3536', '19996',\n",
       "       '29750', 'F.C. 12750', 'C.A. 24580', '244270', '239856', '349912',\n",
       "       '342826', '4138', '330935', '6563', '349228', '350036', '24160',\n",
       "       '17474', '349256', '2672', '113800', '248731', '363592', '35852',\n",
       "       '348121', 'PC 17475', '36864', '350025', '223596', 'PC 17476',\n",
       "       'PC 17482', '113028', '7545', '250647', '348124', '34218', '36568',\n",
       "       '347062', '350048', '12233', '250643', '113806', '315094', '36866',\n",
       "       '236853', 'STON/O2. 3101271', '239855', '28425', '233639',\n",
       "       '349201', '349218', '16988', '376566', 'STON/O 2. 3101288',\n",
       "       '250648', '113773', '335097', '29103', '392096', '345780',\n",
       "       '349204', '350042', '29108', '363294', 'SOTON/O2 3101272', '2663',\n",
       "       '347074', '112379', '364850', '8471', '345781', '350047',\n",
       "       'S.O./P.P. 3', '2674', '29105', '347078', '383121', '36865',\n",
       "       '2687', '113501', 'W./C. 6607', 'SOTON/O.Q. 3101312', '374887',\n",
       "       '3101265', '12460', 'PC 17600', '349203', '28213', '17465',\n",
       "       '349244', '2685', '2625', '347089', '347063', '112050', '347087',\n",
       "       '248723', '3474', '28206', '364499', '112058', 'STON/O2. 3101290',\n",
       "       'S.C./PARIS 2079', 'C 7075', '315098', '19972', '368323', '367228',\n",
       "       '2671', '347468', '2223', 'PC 17756', '315097', '392092', '11774',\n",
       "       'SOTON/O2 3101287', '2683', '315090', 'C.A. 5547', '349213',\n",
       "       '347060', 'PC 17592', '392091', '113055', '2629', '350026',\n",
       "       '28134', '17466', '233866', '236852', 'SC/PARIS 2149', 'PC 17590',\n",
       "       '345777', '349248', '695', '345765', '2667', '349212', '349217',\n",
       "       '349257', '7552', 'C.A./SOTON 34068', 'SOTON/OQ 392076', '211536',\n",
       "       '112053', '111369', '370376'], dtype=object)"
      ]
     },
     "execution_count": 21,
     "metadata": {},
     "output_type": "execute_result"
    }
   ],
   "source": [
    "titanic_data['Ticket'].unique()"
   ]
  },
  {
   "cell_type": "code",
   "execution_count": 22,
   "id": "11fd84b3",
   "metadata": {
    "execution": {
     "iopub.execute_input": "2022-10-18T02:59:34.413743Z",
     "iopub.status.busy": "2022-10-18T02:59:34.413314Z",
     "iopub.status.idle": "2022-10-18T02:59:34.422562Z",
     "shell.execute_reply": "2022-10-18T02:59:34.421717Z"
    },
    "id": "7d2c9d2a",
    "outputId": "b563dfb6-1fdd-4b3d-a3df-16af796e5e1c",
    "papermill": {
     "duration": 0.028061,
     "end_time": "2022-10-18T02:59:34.424495",
     "exception": false,
     "start_time": "2022-10-18T02:59:34.396434",
     "status": "completed"
    },
    "tags": []
   },
   "outputs": [
    {
     "data": {
      "text/plain": [
       "array([  7.25  ,  71.2833,   7.925 ,  53.1   ,   8.05  ,   8.4583,\n",
       "        51.8625,  21.075 ,  11.1333,  30.0708,  16.7   ,  26.55  ,\n",
       "        31.275 ,   7.8542,  16.    ,  29.125 ,  13.    ,  18.    ,\n",
       "         7.225 ,  26.    ,   8.0292,  35.5   ,  31.3875, 263.    ,\n",
       "         7.8792,   7.8958,  27.7208, 146.5208,   7.75  ,  10.5   ,\n",
       "        82.1708,  52.    ,   7.2292,  11.2417,   9.475 ,  21.    ,\n",
       "        41.5792,  15.5   ,  21.6792,  17.8   ,  39.6875,   7.8   ,\n",
       "        76.7292,  61.9792,  27.75  ,  46.9   ,  80.    ,  83.475 ,\n",
       "        27.9   ,  15.2458,   8.1583,   8.6625,  73.5   ,  14.4542,\n",
       "        56.4958,   7.65  ,  29.    ,  12.475 ,   9.    ,   9.5   ,\n",
       "         7.7875,  47.1   ,  15.85  ,  34.375 ,  61.175 ,  20.575 ,\n",
       "        34.6542,  63.3583,  23.    ,  77.2875,   8.6542,   7.775 ,\n",
       "        24.15  ,   9.825 ,  14.4583, 247.5208,   7.1417,  22.3583,\n",
       "         6.975 ,   7.05  ,  14.5   ,  15.0458,  26.2833,   9.2167,\n",
       "        79.2   ,   6.75  ,  11.5   ,  36.75  ,   7.7958,  12.525 ,\n",
       "        66.6   ,   7.3125,  61.3792,   7.7333,  69.55  ,  16.1   ,\n",
       "        15.75  ,  20.525 ,  55.    ,  25.925 ,  33.5   ,  30.6958,\n",
       "        25.4667,  28.7125,   0.    ,  15.05  ,  39.    ,  22.025 ,\n",
       "        50.    ,   8.4042,   6.4958,  10.4625,  18.7875,  31.    ,\n",
       "       113.275 ,  27.    ,  76.2917,  90.    ,   9.35  ,  13.5   ,\n",
       "         7.55  ,  26.25  ,  12.275 ,   7.125 ,  52.5542,  20.2125,\n",
       "        86.5   , 512.3292,  79.65  , 153.4625, 135.6333,  19.5   ,\n",
       "        29.7   ,  77.9583,  20.25  ,  78.85  ,  91.0792,  12.875 ,\n",
       "         8.85  , 151.55  ,  30.5   ,  23.25  ,  12.35  , 110.8833,\n",
       "       108.9   ,  24.    ,  56.9292,  83.1583, 262.375 ,  14.    ,\n",
       "       164.8667, 134.5   ,   6.2375,  57.9792,  28.5   , 133.65  ,\n",
       "        15.9   ,   9.225 ,  35.    ,  75.25  ,  69.3   ,  55.4417,\n",
       "       211.5   ,   4.0125, 227.525 ,  15.7417,   7.7292,  12.    ,\n",
       "       120.    ,  12.65  ,  18.75  ,   6.8583,  32.5   ,   7.875 ,\n",
       "        14.4   ,  55.9   ,   8.1125,  81.8583,  19.2583,  19.9667,\n",
       "        89.1042,  38.5   ,   7.725 ,  13.7917,   9.8375,   7.0458,\n",
       "         7.5208,  12.2875,   9.5875,  49.5042,  78.2667,  15.1   ,\n",
       "         7.6292,  22.525 ,  26.2875,  59.4   ,   7.4958,  34.0208,\n",
       "        93.5   , 221.7792, 106.425 ,  49.5   ,  71.    ,  13.8625,\n",
       "         7.8292,  39.6   ,  17.4   ,  51.4792,  26.3875,  30.    ,\n",
       "        40.125 ,   8.7125,  15.    ,  33.    ,  42.4   ,  15.55  ,\n",
       "        65.    ,  32.3208,   7.0542,   8.4333,  25.5875,   9.8417,\n",
       "         8.1375,  10.1708, 211.3375,  57.    ,  13.4167,   7.7417,\n",
       "         9.4833,   7.7375,   8.3625,  23.45  ,  25.9292,   8.6833,\n",
       "         8.5167,   7.8875,  37.0042,   6.45  ,   6.95  ,   8.3   ,\n",
       "         6.4375,  39.4   ,  14.1083,  13.8583,  50.4958,   5.    ,\n",
       "         9.8458,  10.5167])"
      ]
     },
     "execution_count": 22,
     "metadata": {},
     "output_type": "execute_result"
    }
   ],
   "source": [
    "titanic_data['Fare'].unique()"
   ]
  },
  {
   "cell_type": "code",
   "execution_count": 23,
   "id": "11548d84",
   "metadata": {
    "execution": {
     "iopub.execute_input": "2022-10-18T02:59:34.456358Z",
     "iopub.status.busy": "2022-10-18T02:59:34.455963Z",
     "iopub.status.idle": "2022-10-18T02:59:34.468126Z",
     "shell.execute_reply": "2022-10-18T02:59:34.467073Z"
    },
    "id": "77526fa5",
    "papermill": {
     "duration": 0.030681,
     "end_time": "2022-10-18T02:59:34.470338",
     "exception": false,
     "start_time": "2022-10-18T02:59:34.439657",
     "status": "completed"
    },
    "tags": []
   },
   "outputs": [],
   "source": [
    "new_dataset_titanic = titanic_data.drop(['PassengerId', 'Name', 'Ticket', 'Cabin'], axis=1)"
   ]
  },
  {
   "cell_type": "code",
   "execution_count": 24,
   "id": "379f3f0d",
   "metadata": {
    "execution": {
     "iopub.execute_input": "2022-10-18T02:59:34.503051Z",
     "iopub.status.busy": "2022-10-18T02:59:34.502301Z",
     "iopub.status.idle": "2022-10-18T02:59:34.510068Z",
     "shell.execute_reply": "2022-10-18T02:59:34.508868Z"
    },
    "id": "c3fdf5cf",
    "outputId": "035cde11-dd42-4f24-a4e4-c6149c97ffa7",
    "papermill": {
     "duration": 0.026801,
     "end_time": "2022-10-18T02:59:34.512410",
     "exception": false,
     "start_time": "2022-10-18T02:59:34.485609",
     "status": "completed"
    },
    "tags": []
   },
   "outputs": [
    {
     "data": {
      "text/plain": [
       "Index(['Survived', 'Pclass', 'Sex', 'Age', 'SibSp', 'Parch', 'Fare',\n",
       "       'Embarked'],\n",
       "      dtype='object')"
      ]
     },
     "execution_count": 24,
     "metadata": {},
     "output_type": "execute_result"
    }
   ],
   "source": [
    "new_dataset_titanic.columns"
   ]
  },
  {
   "cell_type": "code",
   "execution_count": 25,
   "id": "cf14e6f7",
   "metadata": {
    "execution": {
     "iopub.execute_input": "2022-10-18T02:59:34.545484Z",
     "iopub.status.busy": "2022-10-18T02:59:34.545092Z",
     "iopub.status.idle": "2022-10-18T02:59:34.561883Z",
     "shell.execute_reply": "2022-10-18T02:59:34.560380Z"
    },
    "id": "e3fe82e0",
    "outputId": "5d2271f0-7c65-4b3f-e08f-d87cb2aa983b",
    "papermill": {
     "duration": 0.036085,
     "end_time": "2022-10-18T02:59:34.564349",
     "exception": false,
     "start_time": "2022-10-18T02:59:34.528264",
     "status": "completed"
    },
    "tags": []
   },
   "outputs": [
    {
     "name": "stdout",
     "output_type": "stream",
     "text": [
      "<class 'pandas.core.frame.DataFrame'>\n",
      "RangeIndex: 891 entries, 0 to 890\n",
      "Data columns (total 8 columns):\n",
      " #   Column    Non-Null Count  Dtype  \n",
      "---  ------    --------------  -----  \n",
      " 0   Survived  891 non-null    int64  \n",
      " 1   Pclass    891 non-null    int64  \n",
      " 2   Sex       891 non-null    object \n",
      " 3   Age       891 non-null    float64\n",
      " 4   SibSp     891 non-null    int64  \n",
      " 5   Parch     891 non-null    int64  \n",
      " 6   Fare      891 non-null    float64\n",
      " 7   Embarked  891 non-null    object \n",
      "dtypes: float64(2), int64(4), object(2)\n",
      "memory usage: 55.8+ KB\n"
     ]
    }
   ],
   "source": [
    "new_dataset_titanic.info()"
   ]
  },
  {
   "cell_type": "code",
   "execution_count": 26,
   "id": "9c716e8d",
   "metadata": {
    "execution": {
     "iopub.execute_input": "2022-10-18T02:59:34.597193Z",
     "iopub.status.busy": "2022-10-18T02:59:34.596219Z",
     "iopub.status.idle": "2022-10-18T02:59:34.625917Z",
     "shell.execute_reply": "2022-10-18T02:59:34.625142Z"
    },
    "id": "68ea331d",
    "outputId": "57d80fcc-9541-455e-80a0-4868456af126",
    "papermill": {
     "duration": 0.048464,
     "end_time": "2022-10-18T02:59:34.628125",
     "exception": false,
     "start_time": "2022-10-18T02:59:34.579661",
     "status": "completed"
    },
    "tags": []
   },
   "outputs": [
    {
     "data": {
      "text/html": [
       "<div>\n",
       "<style scoped>\n",
       "    .dataframe tbody tr th:only-of-type {\n",
       "        vertical-align: middle;\n",
       "    }\n",
       "\n",
       "    .dataframe tbody tr th {\n",
       "        vertical-align: top;\n",
       "    }\n",
       "\n",
       "    .dataframe thead th {\n",
       "        text-align: right;\n",
       "    }\n",
       "</style>\n",
       "<table border=\"1\" class=\"dataframe\">\n",
       "  <thead>\n",
       "    <tr style=\"text-align: right;\">\n",
       "      <th></th>\n",
       "      <th>Survived</th>\n",
       "      <th>Pclass</th>\n",
       "      <th>Age</th>\n",
       "      <th>SibSp</th>\n",
       "      <th>Parch</th>\n",
       "      <th>Fare</th>\n",
       "    </tr>\n",
       "  </thead>\n",
       "  <tbody>\n",
       "    <tr>\n",
       "      <th>count</th>\n",
       "      <td>891.000000</td>\n",
       "      <td>891.000000</td>\n",
       "      <td>891.000000</td>\n",
       "      <td>891.000000</td>\n",
       "      <td>891.000000</td>\n",
       "      <td>891.000000</td>\n",
       "    </tr>\n",
       "    <tr>\n",
       "      <th>mean</th>\n",
       "      <td>0.383838</td>\n",
       "      <td>2.308642</td>\n",
       "      <td>29.699118</td>\n",
       "      <td>0.523008</td>\n",
       "      <td>0.381594</td>\n",
       "      <td>32.204208</td>\n",
       "    </tr>\n",
       "    <tr>\n",
       "      <th>std</th>\n",
       "      <td>0.486592</td>\n",
       "      <td>0.836071</td>\n",
       "      <td>13.002015</td>\n",
       "      <td>1.102743</td>\n",
       "      <td>0.806057</td>\n",
       "      <td>49.693429</td>\n",
       "    </tr>\n",
       "    <tr>\n",
       "      <th>min</th>\n",
       "      <td>0.000000</td>\n",
       "      <td>1.000000</td>\n",
       "      <td>0.420000</td>\n",
       "      <td>0.000000</td>\n",
       "      <td>0.000000</td>\n",
       "      <td>0.000000</td>\n",
       "    </tr>\n",
       "    <tr>\n",
       "      <th>25%</th>\n",
       "      <td>0.000000</td>\n",
       "      <td>2.000000</td>\n",
       "      <td>22.000000</td>\n",
       "      <td>0.000000</td>\n",
       "      <td>0.000000</td>\n",
       "      <td>7.910400</td>\n",
       "    </tr>\n",
       "    <tr>\n",
       "      <th>50%</th>\n",
       "      <td>0.000000</td>\n",
       "      <td>3.000000</td>\n",
       "      <td>29.699118</td>\n",
       "      <td>0.000000</td>\n",
       "      <td>0.000000</td>\n",
       "      <td>14.454200</td>\n",
       "    </tr>\n",
       "    <tr>\n",
       "      <th>75%</th>\n",
       "      <td>1.000000</td>\n",
       "      <td>3.000000</td>\n",
       "      <td>35.000000</td>\n",
       "      <td>1.000000</td>\n",
       "      <td>0.000000</td>\n",
       "      <td>31.000000</td>\n",
       "    </tr>\n",
       "    <tr>\n",
       "      <th>max</th>\n",
       "      <td>1.000000</td>\n",
       "      <td>3.000000</td>\n",
       "      <td>80.000000</td>\n",
       "      <td>8.000000</td>\n",
       "      <td>6.000000</td>\n",
       "      <td>512.329200</td>\n",
       "    </tr>\n",
       "  </tbody>\n",
       "</table>\n",
       "</div>"
      ],
      "text/plain": [
       "         Survived      Pclass         Age       SibSp       Parch        Fare\n",
       "count  891.000000  891.000000  891.000000  891.000000  891.000000  891.000000\n",
       "mean     0.383838    2.308642   29.699118    0.523008    0.381594   32.204208\n",
       "std      0.486592    0.836071   13.002015    1.102743    0.806057   49.693429\n",
       "min      0.000000    1.000000    0.420000    0.000000    0.000000    0.000000\n",
       "25%      0.000000    2.000000   22.000000    0.000000    0.000000    7.910400\n",
       "50%      0.000000    3.000000   29.699118    0.000000    0.000000   14.454200\n",
       "75%      1.000000    3.000000   35.000000    1.000000    0.000000   31.000000\n",
       "max      1.000000    3.000000   80.000000    8.000000    6.000000  512.329200"
      ]
     },
     "execution_count": 26,
     "metadata": {},
     "output_type": "execute_result"
    }
   ],
   "source": [
    "new_dataset_titanic.describe()"
   ]
  },
  {
   "cell_type": "code",
   "execution_count": 27,
   "id": "4696b899",
   "metadata": {
    "execution": {
     "iopub.execute_input": "2022-10-18T02:59:34.661575Z",
     "iopub.status.busy": "2022-10-18T02:59:34.660736Z",
     "iopub.status.idle": "2022-10-18T02:59:34.671003Z",
     "shell.execute_reply": "2022-10-18T02:59:34.669799Z"
    },
    "id": "7f5bbe46",
    "outputId": "87b16e91-dd5c-4b5f-b01e-f03a50341331",
    "papermill": {
     "duration": 0.02956,
     "end_time": "2022-10-18T02:59:34.673369",
     "exception": false,
     "start_time": "2022-10-18T02:59:34.643809",
     "status": "completed"
    },
    "tags": []
   },
   "outputs": [
    {
     "data": {
      "text/plain": [
       "Survived    False\n",
       "Pclass      False\n",
       "Sex         False\n",
       "Age         False\n",
       "SibSp       False\n",
       "Parch       False\n",
       "Fare        False\n",
       "Embarked    False\n",
       "dtype: bool"
      ]
     },
     "execution_count": 27,
     "metadata": {},
     "output_type": "execute_result"
    }
   ],
   "source": [
    "new_dataset_titanic.isnull().any()"
   ]
  },
  {
   "cell_type": "code",
   "execution_count": 28,
   "id": "c99b67c7",
   "metadata": {
    "execution": {
     "iopub.execute_input": "2022-10-18T02:59:34.707307Z",
     "iopub.status.busy": "2022-10-18T02:59:34.706625Z",
     "iopub.status.idle": "2022-10-18T02:59:34.729726Z",
     "shell.execute_reply": "2022-10-18T02:59:34.728418Z"
    },
    "id": "6d5f393c",
    "outputId": "0c7e94b6-6d91-47c4-fd16-2b668989746a",
    "papermill": {
     "duration": 0.043167,
     "end_time": "2022-10-18T02:59:34.732401",
     "exception": false,
     "start_time": "2022-10-18T02:59:34.689234",
     "status": "completed"
    },
    "tags": []
   },
   "outputs": [
    {
     "data": {
      "text/html": [
       "<div>\n",
       "<style scoped>\n",
       "    .dataframe tbody tr th:only-of-type {\n",
       "        vertical-align: middle;\n",
       "    }\n",
       "\n",
       "    .dataframe tbody tr th {\n",
       "        vertical-align: top;\n",
       "    }\n",
       "\n",
       "    .dataframe thead th {\n",
       "        text-align: right;\n",
       "    }\n",
       "</style>\n",
       "<table border=\"1\" class=\"dataframe\">\n",
       "  <thead>\n",
       "    <tr style=\"text-align: right;\">\n",
       "      <th></th>\n",
       "      <th>Survived</th>\n",
       "      <th>Pclass</th>\n",
       "      <th>Sex</th>\n",
       "      <th>Age</th>\n",
       "      <th>SibSp</th>\n",
       "      <th>Parch</th>\n",
       "      <th>Fare</th>\n",
       "      <th>Embarked</th>\n",
       "    </tr>\n",
       "  </thead>\n",
       "  <tbody>\n",
       "    <tr>\n",
       "      <th>0</th>\n",
       "      <td>0</td>\n",
       "      <td>3</td>\n",
       "      <td>1</td>\n",
       "      <td>22.000000</td>\n",
       "      <td>1</td>\n",
       "      <td>0</td>\n",
       "      <td>7.2500</td>\n",
       "      <td>2</td>\n",
       "    </tr>\n",
       "    <tr>\n",
       "      <th>1</th>\n",
       "      <td>1</td>\n",
       "      <td>1</td>\n",
       "      <td>0</td>\n",
       "      <td>38.000000</td>\n",
       "      <td>1</td>\n",
       "      <td>0</td>\n",
       "      <td>71.2833</td>\n",
       "      <td>0</td>\n",
       "    </tr>\n",
       "    <tr>\n",
       "      <th>2</th>\n",
       "      <td>1</td>\n",
       "      <td>3</td>\n",
       "      <td>0</td>\n",
       "      <td>26.000000</td>\n",
       "      <td>0</td>\n",
       "      <td>0</td>\n",
       "      <td>7.9250</td>\n",
       "      <td>2</td>\n",
       "    </tr>\n",
       "    <tr>\n",
       "      <th>3</th>\n",
       "      <td>1</td>\n",
       "      <td>1</td>\n",
       "      <td>0</td>\n",
       "      <td>35.000000</td>\n",
       "      <td>1</td>\n",
       "      <td>0</td>\n",
       "      <td>53.1000</td>\n",
       "      <td>2</td>\n",
       "    </tr>\n",
       "    <tr>\n",
       "      <th>4</th>\n",
       "      <td>0</td>\n",
       "      <td>3</td>\n",
       "      <td>1</td>\n",
       "      <td>35.000000</td>\n",
       "      <td>0</td>\n",
       "      <td>0</td>\n",
       "      <td>8.0500</td>\n",
       "      <td>2</td>\n",
       "    </tr>\n",
       "    <tr>\n",
       "      <th>...</th>\n",
       "      <td>...</td>\n",
       "      <td>...</td>\n",
       "      <td>...</td>\n",
       "      <td>...</td>\n",
       "      <td>...</td>\n",
       "      <td>...</td>\n",
       "      <td>...</td>\n",
       "      <td>...</td>\n",
       "    </tr>\n",
       "    <tr>\n",
       "      <th>886</th>\n",
       "      <td>0</td>\n",
       "      <td>2</td>\n",
       "      <td>1</td>\n",
       "      <td>27.000000</td>\n",
       "      <td>0</td>\n",
       "      <td>0</td>\n",
       "      <td>13.0000</td>\n",
       "      <td>2</td>\n",
       "    </tr>\n",
       "    <tr>\n",
       "      <th>887</th>\n",
       "      <td>1</td>\n",
       "      <td>1</td>\n",
       "      <td>0</td>\n",
       "      <td>19.000000</td>\n",
       "      <td>0</td>\n",
       "      <td>0</td>\n",
       "      <td>30.0000</td>\n",
       "      <td>2</td>\n",
       "    </tr>\n",
       "    <tr>\n",
       "      <th>888</th>\n",
       "      <td>0</td>\n",
       "      <td>3</td>\n",
       "      <td>0</td>\n",
       "      <td>29.699118</td>\n",
       "      <td>1</td>\n",
       "      <td>2</td>\n",
       "      <td>23.4500</td>\n",
       "      <td>2</td>\n",
       "    </tr>\n",
       "    <tr>\n",
       "      <th>889</th>\n",
       "      <td>1</td>\n",
       "      <td>1</td>\n",
       "      <td>1</td>\n",
       "      <td>26.000000</td>\n",
       "      <td>0</td>\n",
       "      <td>0</td>\n",
       "      <td>30.0000</td>\n",
       "      <td>0</td>\n",
       "    </tr>\n",
       "    <tr>\n",
       "      <th>890</th>\n",
       "      <td>0</td>\n",
       "      <td>3</td>\n",
       "      <td>1</td>\n",
       "      <td>32.000000</td>\n",
       "      <td>0</td>\n",
       "      <td>0</td>\n",
       "      <td>7.7500</td>\n",
       "      <td>1</td>\n",
       "    </tr>\n",
       "  </tbody>\n",
       "</table>\n",
       "<p>891 rows × 8 columns</p>\n",
       "</div>"
      ],
      "text/plain": [
       "     Survived  Pclass  Sex        Age  SibSp  Parch     Fare  Embarked\n",
       "0           0       3    1  22.000000      1      0   7.2500         2\n",
       "1           1       1    0  38.000000      1      0  71.2833         0\n",
       "2           1       3    0  26.000000      0      0   7.9250         2\n",
       "3           1       1    0  35.000000      1      0  53.1000         2\n",
       "4           0       3    1  35.000000      0      0   8.0500         2\n",
       "..        ...     ...  ...        ...    ...    ...      ...       ...\n",
       "886         0       2    1  27.000000      0      0  13.0000         2\n",
       "887         1       1    0  19.000000      0      0  30.0000         2\n",
       "888         0       3    0  29.699118      1      2  23.4500         2\n",
       "889         1       1    1  26.000000      0      0  30.0000         0\n",
       "890         0       3    1  32.000000      0      0   7.7500         1\n",
       "\n",
       "[891 rows x 8 columns]"
      ]
     },
     "execution_count": 28,
     "metadata": {},
     "output_type": "execute_result"
    }
   ],
   "source": [
    "le = pre.LabelEncoder() # integer encoding \n",
    "new_dataset_titanic['Sex'] = le.fit_transform(new_dataset_titanic['Sex'])\n",
    "new_dataset_titanic['Embarked'] = le.fit_transform(new_dataset_titanic['Embarked'])\n",
    "new_dataset_titanic"
   ]
  },
  {
   "cell_type": "code",
   "execution_count": 29,
   "id": "1e5fecd3",
   "metadata": {
    "execution": {
     "iopub.execute_input": "2022-10-18T02:59:34.769166Z",
     "iopub.status.busy": "2022-10-18T02:59:34.768289Z",
     "iopub.status.idle": "2022-10-18T02:59:34.776296Z",
     "shell.execute_reply": "2022-10-18T02:59:34.775033Z"
    },
    "id": "kmqIMTm3Zb11",
    "outputId": "daa4d94e-9edb-4f0d-b6b1-18a01aab541f",
    "papermill": {
     "duration": 0.030009,
     "end_time": "2022-10-18T02:59:34.779216",
     "exception": false,
     "start_time": "2022-10-18T02:59:34.749207",
     "status": "completed"
    },
    "tags": []
   },
   "outputs": [
    {
     "data": {
      "text/plain": [
       "array([1, 0])"
      ]
     },
     "execution_count": 29,
     "metadata": {},
     "output_type": "execute_result"
    }
   ],
   "source": [
    "new_dataset_titanic['Sex'].unique()"
   ]
  },
  {
   "cell_type": "code",
   "execution_count": 30,
   "id": "f03800ef",
   "metadata": {
    "execution": {
     "iopub.execute_input": "2022-10-18T02:59:34.814814Z",
     "iopub.status.busy": "2022-10-18T02:59:34.814172Z",
     "iopub.status.idle": "2022-10-18T02:59:34.821834Z",
     "shell.execute_reply": "2022-10-18T02:59:34.820757Z"
    },
    "id": "9_RcYB4JZh2v",
    "outputId": "7ec8dd2a-e62c-461f-e263-250dd2675ebe",
    "papermill": {
     "duration": 0.028413,
     "end_time": "2022-10-18T02:59:34.824120",
     "exception": false,
     "start_time": "2022-10-18T02:59:34.795707",
     "status": "completed"
    },
    "tags": []
   },
   "outputs": [
    {
     "data": {
      "text/plain": [
       "array([2, 0, 1])"
      ]
     },
     "execution_count": 30,
     "metadata": {},
     "output_type": "execute_result"
    }
   ],
   "source": [
    "new_dataset_titanic['Embarked'].unique()"
   ]
  },
  {
   "cell_type": "code",
   "execution_count": 31,
   "id": "ffd39494",
   "metadata": {
    "execution": {
     "iopub.execute_input": "2022-10-18T02:59:34.859136Z",
     "iopub.status.busy": "2022-10-18T02:59:34.858688Z",
     "iopub.status.idle": "2022-10-18T02:59:34.866083Z",
     "shell.execute_reply": "2022-10-18T02:59:34.864870Z"
    },
    "id": "a94b3775",
    "papermill": {
     "duration": 0.028178,
     "end_time": "2022-10-18T02:59:34.868667",
     "exception": false,
     "start_time": "2022-10-18T02:59:34.840489",
     "status": "completed"
    },
    "tags": []
   },
   "outputs": [],
   "source": [
    "x=new_dataset_titanic.iloc[:,1:8].values  # predictors \n",
    "y=new_dataset_titanic.iloc[:,0].values  #outcome"
   ]
  },
  {
   "cell_type": "code",
   "execution_count": 32,
   "id": "5834b67b",
   "metadata": {
    "execution": {
     "iopub.execute_input": "2022-10-18T02:59:34.905062Z",
     "iopub.status.busy": "2022-10-18T02:59:34.904660Z",
     "iopub.status.idle": "2022-10-18T02:59:34.911977Z",
     "shell.execute_reply": "2022-10-18T02:59:34.910812Z"
    },
    "id": "b08f072c",
    "outputId": "f74d7112-077e-4522-991a-50579b3b52be",
    "papermill": {
     "duration": 0.028576,
     "end_time": "2022-10-18T02:59:34.914331",
     "exception": false,
     "start_time": "2022-10-18T02:59:34.885755",
     "status": "completed"
    },
    "tags": []
   },
   "outputs": [
    {
     "data": {
      "text/plain": [
       "array([[ 3.        ,  1.        , 22.        , ...,  0.        ,\n",
       "         7.25      ,  2.        ],\n",
       "       [ 1.        ,  0.        , 38.        , ...,  0.        ,\n",
       "        71.2833    ,  0.        ],\n",
       "       [ 3.        ,  0.        , 26.        , ...,  0.        ,\n",
       "         7.925     ,  2.        ],\n",
       "       ...,\n",
       "       [ 3.        ,  0.        , 29.69911765, ...,  2.        ,\n",
       "        23.45      ,  2.        ],\n",
       "       [ 1.        ,  1.        , 26.        , ...,  0.        ,\n",
       "        30.        ,  0.        ],\n",
       "       [ 3.        ,  1.        , 32.        , ...,  0.        ,\n",
       "         7.75      ,  1.        ]])"
      ]
     },
     "execution_count": 32,
     "metadata": {},
     "output_type": "execute_result"
    }
   ],
   "source": [
    "x"
   ]
  },
  {
   "cell_type": "code",
   "execution_count": 33,
   "id": "ea11f5ff",
   "metadata": {
    "execution": {
     "iopub.execute_input": "2022-10-18T02:59:34.952458Z",
     "iopub.status.busy": "2022-10-18T02:59:34.951331Z",
     "iopub.status.idle": "2022-10-18T02:59:34.960046Z",
     "shell.execute_reply": "2022-10-18T02:59:34.959132Z"
    },
    "id": "51a37a51",
    "outputId": "3bb57a40-69f0-4f3d-eace-a470618d0afe",
    "papermill": {
     "duration": 0.031578,
     "end_time": "2022-10-18T02:59:34.962358",
     "exception": false,
     "start_time": "2022-10-18T02:59:34.930780",
     "status": "completed"
    },
    "tags": []
   },
   "outputs": [
    {
     "data": {
      "text/plain": [
       "array([0, 1, 1, 1, 0, 0, 0, 0, 1, 1, 1, 1, 0, 0, 0, 1, 0, 1, 0, 1, 0, 1,\n",
       "       1, 1, 0, 1, 0, 0, 1, 0, 0, 1, 1, 0, 0, 0, 1, 0, 0, 1, 0, 0, 0, 1,\n",
       "       1, 0, 0, 1, 0, 0, 0, 0, 1, 1, 0, 1, 1, 0, 1, 0, 0, 1, 0, 0, 0, 1,\n",
       "       1, 0, 1, 0, 0, 0, 0, 0, 1, 0, 0, 0, 1, 1, 0, 1, 1, 0, 1, 1, 0, 0,\n",
       "       1, 0, 0, 0, 0, 0, 0, 0, 0, 1, 1, 0, 0, 0, 0, 0, 0, 0, 1, 1, 0, 1,\n",
       "       0, 0, 0, 0, 0, 0, 0, 0, 0, 0, 0, 0, 0, 1, 0, 1, 0, 1, 1, 0, 0, 0,\n",
       "       0, 1, 0, 0, 1, 0, 0, 0, 0, 1, 1, 0, 0, 0, 1, 0, 0, 0, 0, 1, 0, 0,\n",
       "       0, 0, 1, 0, 0, 0, 0, 1, 0, 0, 0, 1, 1, 0, 0, 0, 0, 0, 1, 0, 0, 0,\n",
       "       0, 0, 0, 0, 0, 0, 0, 1, 1, 0, 1, 1, 0, 0, 1, 0, 1, 1, 1, 1, 0, 0,\n",
       "       1, 0, 0, 0, 0, 0, 1, 0, 0, 1, 1, 1, 0, 1, 0, 0, 0, 1, 1, 0, 1, 0,\n",
       "       1, 0, 0, 0, 1, 0, 1, 0, 0, 0, 1, 0, 0, 1, 0, 0, 0, 1, 0, 0, 0, 1,\n",
       "       0, 0, 0, 0, 0, 1, 1, 0, 0, 0, 0, 0, 0, 1, 1, 1, 1, 1, 0, 1, 0, 0,\n",
       "       0, 0, 0, 1, 1, 1, 0, 1, 1, 0, 1, 1, 0, 0, 0, 1, 0, 0, 0, 1, 0, 0,\n",
       "       1, 0, 1, 1, 1, 1, 0, 0, 0, 0, 0, 0, 1, 1, 1, 1, 0, 1, 0, 1, 1, 1,\n",
       "       0, 1, 1, 1, 0, 0, 0, 1, 1, 0, 1, 1, 0, 0, 1, 1, 0, 1, 0, 1, 1, 1,\n",
       "       1, 0, 0, 0, 1, 0, 0, 1, 1, 0, 1, 1, 0, 0, 0, 1, 1, 1, 1, 0, 0, 0,\n",
       "       0, 0, 0, 0, 1, 0, 1, 1, 0, 0, 0, 0, 0, 0, 1, 1, 1, 1, 1, 0, 0, 0,\n",
       "       0, 1, 1, 0, 0, 0, 1, 1, 0, 1, 0, 0, 0, 1, 0, 1, 1, 1, 0, 1, 1, 0,\n",
       "       0, 0, 0, 1, 1, 0, 0, 0, 0, 0, 0, 1, 0, 0, 0, 0, 1, 0, 1, 0, 1, 1,\n",
       "       0, 0, 0, 0, 0, 0, 0, 0, 1, 1, 0, 1, 1, 1, 1, 0, 0, 1, 0, 1, 0, 0,\n",
       "       1, 0, 0, 1, 1, 1, 1, 1, 1, 1, 0, 0, 0, 1, 0, 1, 0, 1, 1, 0, 1, 0,\n",
       "       0, 0, 0, 0, 0, 0, 0, 1, 0, 0, 1, 1, 0, 0, 0, 0, 0, 1, 0, 0, 0, 1,\n",
       "       1, 0, 1, 0, 0, 1, 0, 0, 0, 0, 0, 0, 1, 0, 0, 0, 0, 0, 0, 0, 1, 0,\n",
       "       1, 1, 0, 1, 1, 0, 1, 1, 0, 0, 1, 0, 1, 0, 1, 0, 0, 1, 0, 0, 1, 0,\n",
       "       0, 0, 1, 0, 0, 1, 0, 1, 0, 1, 0, 1, 1, 0, 0, 1, 0, 0, 1, 1, 0, 1,\n",
       "       1, 0, 0, 1, 1, 0, 1, 0, 1, 1, 0, 0, 0, 0, 0, 0, 0, 0, 0, 1, 1, 1,\n",
       "       1, 1, 0, 0, 1, 1, 0, 1, 1, 1, 0, 0, 0, 1, 0, 1, 0, 0, 0, 1, 0, 0,\n",
       "       0, 0, 1, 0, 0, 1, 1, 0, 0, 0, 1, 0, 0, 1, 1, 1, 0, 0, 1, 0, 0, 1,\n",
       "       0, 0, 1, 0, 0, 1, 1, 0, 0, 0, 0, 1, 0, 0, 1, 0, 1, 0, 0, 1, 0, 0,\n",
       "       0, 0, 0, 1, 0, 1, 1, 1, 0, 1, 0, 1, 0, 1, 0, 1, 0, 0, 0, 0, 0, 0,\n",
       "       1, 0, 0, 0, 1, 0, 0, 0, 0, 1, 1, 0, 0, 1, 0, 0, 0, 1, 0, 1, 0, 1,\n",
       "       0, 0, 0, 0, 0, 0, 0, 1, 1, 1, 1, 0, 0, 0, 0, 1, 0, 0, 1, 1, 0, 0,\n",
       "       0, 0, 1, 1, 1, 1, 1, 0, 1, 0, 0, 0, 1, 1, 0, 0, 1, 0, 0, 0, 1, 0,\n",
       "       1, 1, 0, 0, 1, 0, 0, 0, 0, 0, 0, 1, 0, 0, 1, 0, 1, 0, 1, 0, 0, 1,\n",
       "       0, 0, 1, 1, 0, 0, 1, 1, 0, 0, 0, 1, 0, 0, 1, 1, 0, 1, 0, 0, 0, 0,\n",
       "       0, 0, 0, 0, 1, 0, 0, 1, 0, 1, 1, 1, 0, 0, 0, 0, 1, 0, 1, 0, 0, 0,\n",
       "       0, 0, 0, 0, 1, 1, 0, 0, 0, 1, 1, 1, 1, 0, 0, 0, 0, 1, 0, 0, 0, 0,\n",
       "       0, 0, 0, 0, 0, 0, 1, 1, 0, 1, 0, 0, 0, 1, 1, 1, 1, 1, 0, 0, 0, 1,\n",
       "       0, 0, 1, 1, 0, 0, 1, 0, 0, 0, 0, 0, 0, 1, 0, 0, 0, 1, 0, 1, 1, 1,\n",
       "       1, 0, 0, 0, 1, 0, 0, 1, 1, 0, 0, 1, 0, 1, 0, 0, 1, 1, 0, 0, 0, 1,\n",
       "       1, 0, 0, 0, 0, 0, 0, 1, 0, 1, 0])"
      ]
     },
     "execution_count": 33,
     "metadata": {},
     "output_type": "execute_result"
    }
   ],
   "source": [
    "y"
   ]
  },
  {
   "cell_type": "code",
   "execution_count": 34,
   "id": "653fd4e5",
   "metadata": {
    "execution": {
     "iopub.execute_input": "2022-10-18T02:59:34.998307Z",
     "iopub.status.busy": "2022-10-18T02:59:34.997069Z",
     "iopub.status.idle": "2022-10-18T02:59:35.005061Z",
     "shell.execute_reply": "2022-10-18T02:59:35.004015Z"
    },
    "id": "R3jTWZMwZw8n",
    "papermill": {
     "duration": 0.028239,
     "end_time": "2022-10-18T02:59:35.007382",
     "exception": false,
     "start_time": "2022-10-18T02:59:34.979143",
     "status": "completed"
    },
    "tags": []
   },
   "outputs": [],
   "source": [
    "oh = pre.OneHotEncoder() #one hot encoding \n",
    "a=oh.fit_transform(x[:,6:7]).toarray()\n",
    "x=np.delete(x,6,axis=1)\n",
    "x=np.concatenate((a,x),axis=1)"
   ]
  },
  {
   "cell_type": "code",
   "execution_count": 35,
   "id": "4f8e13c9",
   "metadata": {
    "execution": {
     "iopub.execute_input": "2022-10-18T02:59:35.042978Z",
     "iopub.status.busy": "2022-10-18T02:59:35.041871Z",
     "iopub.status.idle": "2022-10-18T02:59:35.049568Z",
     "shell.execute_reply": "2022-10-18T02:59:35.048452Z"
    },
    "id": "jf3v5xDYbl6r",
    "outputId": "d647f798-7c64-4909-8cf2-07a1ff4dded6",
    "papermill": {
     "duration": 0.027539,
     "end_time": "2022-10-18T02:59:35.051638",
     "exception": false,
     "start_time": "2022-10-18T02:59:35.024099",
     "status": "completed"
    },
    "tags": []
   },
   "outputs": [
    {
     "data": {
      "text/plain": [
       "array([[ 0.    ,  0.    ,  1.    , ...,  1.    ,  0.    ,  7.25  ],\n",
       "       [ 1.    ,  0.    ,  0.    , ...,  1.    ,  0.    , 71.2833],\n",
       "       [ 0.    ,  0.    ,  1.    , ...,  0.    ,  0.    ,  7.925 ],\n",
       "       ...,\n",
       "       [ 0.    ,  0.    ,  1.    , ...,  1.    ,  2.    , 23.45  ],\n",
       "       [ 1.    ,  0.    ,  0.    , ...,  0.    ,  0.    , 30.    ],\n",
       "       [ 0.    ,  1.    ,  0.    , ...,  0.    ,  0.    ,  7.75  ]])"
      ]
     },
     "execution_count": 35,
     "metadata": {},
     "output_type": "execute_result"
    }
   ],
   "source": [
    "x"
   ]
  },
  {
   "cell_type": "code",
   "execution_count": 36,
   "id": "4aba2156",
   "metadata": {
    "execution": {
     "iopub.execute_input": "2022-10-18T02:59:35.086544Z",
     "iopub.status.busy": "2022-10-18T02:59:35.086121Z",
     "iopub.status.idle": "2022-10-18T02:59:35.105164Z",
     "shell.execute_reply": "2022-10-18T02:59:35.103870Z"
    },
    "id": "YGj16QmsbYIQ",
    "outputId": "481342a1-e9b3-4a48-e6eb-67e8636580da",
    "papermill": {
     "duration": 0.039219,
     "end_time": "2022-10-18T02:59:35.107457",
     "exception": false,
     "start_time": "2022-10-18T02:59:35.068238",
     "status": "completed"
    },
    "tags": []
   },
   "outputs": [
    {
     "data": {
      "text/html": [
       "<div>\n",
       "<style scoped>\n",
       "    .dataframe tbody tr th:only-of-type {\n",
       "        vertical-align: middle;\n",
       "    }\n",
       "\n",
       "    .dataframe tbody tr th {\n",
       "        vertical-align: top;\n",
       "    }\n",
       "\n",
       "    .dataframe thead th {\n",
       "        text-align: right;\n",
       "    }\n",
       "</style>\n",
       "<table border=\"1\" class=\"dataframe\">\n",
       "  <thead>\n",
       "    <tr style=\"text-align: right;\">\n",
       "      <th></th>\n",
       "      <th>Survived</th>\n",
       "      <th>Pclass</th>\n",
       "      <th>Sex</th>\n",
       "      <th>Age</th>\n",
       "      <th>SibSp</th>\n",
       "      <th>Parch</th>\n",
       "      <th>Fare</th>\n",
       "      <th>Embarked</th>\n",
       "    </tr>\n",
       "  </thead>\n",
       "  <tbody>\n",
       "    <tr>\n",
       "      <th>0</th>\n",
       "      <td>0</td>\n",
       "      <td>3</td>\n",
       "      <td>1</td>\n",
       "      <td>22.000000</td>\n",
       "      <td>1</td>\n",
       "      <td>0</td>\n",
       "      <td>7.2500</td>\n",
       "      <td>2</td>\n",
       "    </tr>\n",
       "    <tr>\n",
       "      <th>1</th>\n",
       "      <td>1</td>\n",
       "      <td>1</td>\n",
       "      <td>0</td>\n",
       "      <td>38.000000</td>\n",
       "      <td>1</td>\n",
       "      <td>0</td>\n",
       "      <td>71.2833</td>\n",
       "      <td>0</td>\n",
       "    </tr>\n",
       "    <tr>\n",
       "      <th>2</th>\n",
       "      <td>1</td>\n",
       "      <td>3</td>\n",
       "      <td>0</td>\n",
       "      <td>26.000000</td>\n",
       "      <td>0</td>\n",
       "      <td>0</td>\n",
       "      <td>7.9250</td>\n",
       "      <td>2</td>\n",
       "    </tr>\n",
       "    <tr>\n",
       "      <th>3</th>\n",
       "      <td>1</td>\n",
       "      <td>1</td>\n",
       "      <td>0</td>\n",
       "      <td>35.000000</td>\n",
       "      <td>1</td>\n",
       "      <td>0</td>\n",
       "      <td>53.1000</td>\n",
       "      <td>2</td>\n",
       "    </tr>\n",
       "    <tr>\n",
       "      <th>4</th>\n",
       "      <td>0</td>\n",
       "      <td>3</td>\n",
       "      <td>1</td>\n",
       "      <td>35.000000</td>\n",
       "      <td>0</td>\n",
       "      <td>0</td>\n",
       "      <td>8.0500</td>\n",
       "      <td>2</td>\n",
       "    </tr>\n",
       "    <tr>\n",
       "      <th>...</th>\n",
       "      <td>...</td>\n",
       "      <td>...</td>\n",
       "      <td>...</td>\n",
       "      <td>...</td>\n",
       "      <td>...</td>\n",
       "      <td>...</td>\n",
       "      <td>...</td>\n",
       "      <td>...</td>\n",
       "    </tr>\n",
       "    <tr>\n",
       "      <th>886</th>\n",
       "      <td>0</td>\n",
       "      <td>2</td>\n",
       "      <td>1</td>\n",
       "      <td>27.000000</td>\n",
       "      <td>0</td>\n",
       "      <td>0</td>\n",
       "      <td>13.0000</td>\n",
       "      <td>2</td>\n",
       "    </tr>\n",
       "    <tr>\n",
       "      <th>887</th>\n",
       "      <td>1</td>\n",
       "      <td>1</td>\n",
       "      <td>0</td>\n",
       "      <td>19.000000</td>\n",
       "      <td>0</td>\n",
       "      <td>0</td>\n",
       "      <td>30.0000</td>\n",
       "      <td>2</td>\n",
       "    </tr>\n",
       "    <tr>\n",
       "      <th>888</th>\n",
       "      <td>0</td>\n",
       "      <td>3</td>\n",
       "      <td>0</td>\n",
       "      <td>29.699118</td>\n",
       "      <td>1</td>\n",
       "      <td>2</td>\n",
       "      <td>23.4500</td>\n",
       "      <td>2</td>\n",
       "    </tr>\n",
       "    <tr>\n",
       "      <th>889</th>\n",
       "      <td>1</td>\n",
       "      <td>1</td>\n",
       "      <td>1</td>\n",
       "      <td>26.000000</td>\n",
       "      <td>0</td>\n",
       "      <td>0</td>\n",
       "      <td>30.0000</td>\n",
       "      <td>0</td>\n",
       "    </tr>\n",
       "    <tr>\n",
       "      <th>890</th>\n",
       "      <td>0</td>\n",
       "      <td>3</td>\n",
       "      <td>1</td>\n",
       "      <td>32.000000</td>\n",
       "      <td>0</td>\n",
       "      <td>0</td>\n",
       "      <td>7.7500</td>\n",
       "      <td>1</td>\n",
       "    </tr>\n",
       "  </tbody>\n",
       "</table>\n",
       "<p>891 rows × 8 columns</p>\n",
       "</div>"
      ],
      "text/plain": [
       "     Survived  Pclass  Sex        Age  SibSp  Parch     Fare  Embarked\n",
       "0           0       3    1  22.000000      1      0   7.2500         2\n",
       "1           1       1    0  38.000000      1      0  71.2833         0\n",
       "2           1       3    0  26.000000      0      0   7.9250         2\n",
       "3           1       1    0  35.000000      1      0  53.1000         2\n",
       "4           0       3    1  35.000000      0      0   8.0500         2\n",
       "..        ...     ...  ...        ...    ...    ...      ...       ...\n",
       "886         0       2    1  27.000000      0      0  13.0000         2\n",
       "887         1       1    0  19.000000      0      0  30.0000         2\n",
       "888         0       3    0  29.699118      1      2  23.4500         2\n",
       "889         1       1    1  26.000000      0      0  30.0000         0\n",
       "890         0       3    1  32.000000      0      0   7.7500         1\n",
       "\n",
       "[891 rows x 8 columns]"
      ]
     },
     "execution_count": 36,
     "metadata": {},
     "output_type": "execute_result"
    }
   ],
   "source": [
    "new_dataset_titanic"
   ]
  },
  {
   "cell_type": "code",
   "execution_count": 37,
   "id": "819fe70f",
   "metadata": {
    "execution": {
     "iopub.execute_input": "2022-10-18T02:59:35.144994Z",
     "iopub.status.busy": "2022-10-18T02:59:35.143556Z",
     "iopub.status.idle": "2022-10-18T02:59:35.150401Z",
     "shell.execute_reply": "2022-10-18T02:59:35.149483Z"
    },
    "id": "c002e8ba",
    "papermill": {
     "duration": 0.028028,
     "end_time": "2022-10-18T02:59:35.152715",
     "exception": false,
     "start_time": "2022-10-18T02:59:35.124687",
     "status": "completed"
    },
    "tags": []
   },
   "outputs": [],
   "source": [
    "x_train,x_test,y_train,y_test = train_test_split(x,y,test_size=0.2, random_state=0)"
   ]
  },
  {
   "cell_type": "code",
   "execution_count": 38,
   "id": "e91a5134",
   "metadata": {
    "execution": {
     "iopub.execute_input": "2022-10-18T02:59:35.189239Z",
     "iopub.status.busy": "2022-10-18T02:59:35.188592Z",
     "iopub.status.idle": "2022-10-18T02:59:35.194351Z",
     "shell.execute_reply": "2022-10-18T02:59:35.193488Z"
    },
    "id": "da5341ba",
    "outputId": "32c3a07a-9b51-412d-93e1-c9c55789478b",
    "papermill": {
     "duration": 0.026579,
     "end_time": "2022-10-18T02:59:35.196404",
     "exception": false,
     "start_time": "2022-10-18T02:59:35.169825",
     "status": "completed"
    },
    "tags": []
   },
   "outputs": [
    {
     "data": {
      "text/plain": [
       "(712, 9)"
      ]
     },
     "execution_count": 38,
     "metadata": {},
     "output_type": "execute_result"
    }
   ],
   "source": [
    "x_train.shape"
   ]
  },
  {
   "cell_type": "code",
   "execution_count": 39,
   "id": "e25f907a",
   "metadata": {
    "execution": {
     "iopub.execute_input": "2022-10-18T02:59:35.234217Z",
     "iopub.status.busy": "2022-10-18T02:59:35.233525Z",
     "iopub.status.idle": "2022-10-18T02:59:35.239052Z",
     "shell.execute_reply": "2022-10-18T02:59:35.238239Z"
    },
    "id": "7c8cdb74",
    "outputId": "f51d2ea4-6776-4af6-d6e8-9c2a29c6af53",
    "papermill": {
     "duration": 0.02738,
     "end_time": "2022-10-18T02:59:35.241157",
     "exception": false,
     "start_time": "2022-10-18T02:59:35.213777",
     "status": "completed"
    },
    "tags": []
   },
   "outputs": [
    {
     "data": {
      "text/plain": [
       "(712,)"
      ]
     },
     "execution_count": 39,
     "metadata": {},
     "output_type": "execute_result"
    }
   ],
   "source": [
    "y_train.shape"
   ]
  },
  {
   "cell_type": "code",
   "execution_count": 40,
   "id": "ec52452b",
   "metadata": {
    "execution": {
     "iopub.execute_input": "2022-10-18T02:59:35.277750Z",
     "iopub.status.busy": "2022-10-18T02:59:35.277110Z",
     "iopub.status.idle": "2022-10-18T02:59:35.282816Z",
     "shell.execute_reply": "2022-10-18T02:59:35.281859Z"
    },
    "id": "1b753ce8",
    "outputId": "812679bb-ee79-4b61-a73a-4e0f5225aba1",
    "papermill": {
     "duration": 0.026803,
     "end_time": "2022-10-18T02:59:35.285190",
     "exception": false,
     "start_time": "2022-10-18T02:59:35.258387",
     "status": "completed"
    },
    "tags": []
   },
   "outputs": [
    {
     "data": {
      "text/plain": [
       "(179, 9)"
      ]
     },
     "execution_count": 40,
     "metadata": {},
     "output_type": "execute_result"
    }
   ],
   "source": [
    "x_test.shape"
   ]
  },
  {
   "cell_type": "code",
   "execution_count": 41,
   "id": "088dc8e5",
   "metadata": {
    "execution": {
     "iopub.execute_input": "2022-10-18T02:59:35.322534Z",
     "iopub.status.busy": "2022-10-18T02:59:35.322153Z",
     "iopub.status.idle": "2022-10-18T02:59:35.328660Z",
     "shell.execute_reply": "2022-10-18T02:59:35.327533Z"
    },
    "id": "ec72041e",
    "outputId": "5835f8ac-5f30-41b8-8a4e-01a6baf5cff9",
    "papermill": {
     "duration": 0.027621,
     "end_time": "2022-10-18T02:59:35.330915",
     "exception": false,
     "start_time": "2022-10-18T02:59:35.303294",
     "status": "completed"
    },
    "tags": []
   },
   "outputs": [
    {
     "data": {
      "text/plain": [
       "(179,)"
      ]
     },
     "execution_count": 41,
     "metadata": {},
     "output_type": "execute_result"
    }
   ],
   "source": [
    "y_test.shape"
   ]
  },
  {
   "cell_type": "code",
   "execution_count": 42,
   "id": "413b84f2",
   "metadata": {
    "execution": {
     "iopub.execute_input": "2022-10-18T02:59:35.367198Z",
     "iopub.status.busy": "2022-10-18T02:59:35.366771Z",
     "iopub.status.idle": "2022-10-18T02:59:35.378120Z",
     "shell.execute_reply": "2022-10-18T02:59:35.376903Z"
    },
    "id": "031a034f",
    "outputId": "3f821105-acd4-4b2f-b721-fc5b7ab61c53",
    "papermill": {
     "duration": 0.032312,
     "end_time": "2022-10-18T02:59:35.380498",
     "exception": false,
     "start_time": "2022-10-18T02:59:35.348186",
     "status": "completed"
    },
    "tags": []
   },
   "outputs": [
    {
     "data": {
      "text/plain": [
       "DecisionTreeClassifier()"
      ]
     },
     "execution_count": 42,
     "metadata": {},
     "output_type": "execute_result"
    }
   ],
   "source": [
    "DTclassifier=DecisionTreeClassifier() # running decision tree classifier \n",
    "DTclassifier.fit(x_train,y_train)"
   ]
  },
  {
   "cell_type": "code",
   "execution_count": 43,
   "id": "3615d921",
   "metadata": {
    "execution": {
     "iopub.execute_input": "2022-10-18T02:59:35.417598Z",
     "iopub.status.busy": "2022-10-18T02:59:35.416927Z",
     "iopub.status.idle": "2022-10-18T02:59:35.424538Z",
     "shell.execute_reply": "2022-10-18T02:59:35.423612Z"
    },
    "id": "d12a8202",
    "outputId": "c8837f59-101a-44a3-c375-cc7b64aaeefa",
    "papermill": {
     "duration": 0.028717,
     "end_time": "2022-10-18T02:59:35.426633",
     "exception": false,
     "start_time": "2022-10-18T02:59:35.397916",
     "status": "completed"
    },
    "tags": []
   },
   "outputs": [
    {
     "data": {
      "text/plain": [
       "array([0, 0, 0, 1, 0, 0, 1, 1, 1, 1, 1, 1, 0, 1, 1, 0, 0, 0, 0, 1, 0, 0,\n",
       "       0, 0, 0, 1, 0, 1, 1, 0, 0, 1, 0, 0, 0, 0, 0, 0, 0, 0, 0, 0, 0, 0,\n",
       "       1, 0, 0, 1, 0, 0, 0, 0, 1, 0, 0, 0, 0, 0, 0, 0, 1, 1, 1, 0, 1, 0,\n",
       "       1, 0, 0, 1, 0, 0, 1, 0, 0, 1, 1, 1, 0, 0, 0, 1, 1, 0, 0, 1, 1, 1,\n",
       "       1, 0, 0, 0, 1, 1, 0, 0, 1, 0, 0, 0, 0, 0, 0, 1, 0, 0, 1, 0, 0, 1,\n",
       "       0, 1, 1, 0, 1, 1, 0, 1, 0, 1, 0, 1, 0, 0, 0, 0, 0, 0, 0, 0, 1, 0,\n",
       "       0, 0, 0, 0, 0, 1, 0, 0, 0, 1, 0, 0, 1, 0, 0, 0, 1, 1, 0, 0, 1, 1,\n",
       "       1, 0, 0, 0, 1, 1, 0, 0, 1, 0, 0, 0, 0, 1, 0, 0, 0, 1, 0, 0, 1, 0,\n",
       "       1, 0, 1])"
      ]
     },
     "execution_count": 43,
     "metadata": {},
     "output_type": "execute_result"
    }
   ],
   "source": [
    "DTpredictor = DTclassifier.predict(x_test)\n",
    "DTpredictor"
   ]
  },
  {
   "cell_type": "code",
   "execution_count": 44,
   "id": "e2760381",
   "metadata": {
    "execution": {
     "iopub.execute_input": "2022-10-18T02:59:35.463772Z",
     "iopub.status.busy": "2022-10-18T02:59:35.463025Z",
     "iopub.status.idle": "2022-10-18T02:59:35.469414Z",
     "shell.execute_reply": "2022-10-18T02:59:35.468651Z"
    },
    "id": "30097234",
    "outputId": "d727d094-99fc-4f60-9c04-64abe6d6ba59",
    "papermill": {
     "duration": 0.027451,
     "end_time": "2022-10-18T02:59:35.471525",
     "exception": false,
     "start_time": "2022-10-18T02:59:35.444074",
     "status": "completed"
    },
    "tags": []
   },
   "outputs": [
    {
     "data": {
      "text/plain": [
       "0.776536312849162"
      ]
     },
     "execution_count": 44,
     "metadata": {},
     "output_type": "execute_result"
    }
   ],
   "source": [
    "DTaccuracy=accuracy_score(DTpredictor,y_test)\n",
    "DTaccuracy"
   ]
  },
  {
   "cell_type": "code",
   "execution_count": 45,
   "id": "32a46928",
   "metadata": {
    "execution": {
     "iopub.execute_input": "2022-10-18T02:59:35.510320Z",
     "iopub.status.busy": "2022-10-18T02:59:35.509156Z",
     "iopub.status.idle": "2022-10-18T02:59:37.960515Z",
     "shell.execute_reply": "2022-10-18T02:59:37.958060Z"
    },
    "id": "f6dff2ca",
    "outputId": "cdab168c-e73c-4840-cb56-7882e7bf7980",
    "papermill": {
     "duration": 2.473439,
     "end_time": "2022-10-18T02:59:37.963243",
     "exception": false,
     "start_time": "2022-10-18T02:59:35.489804",
     "status": "completed"
    },
    "tags": []
   },
   "outputs": [
    {
     "name": "stdout",
     "output_type": "stream",
     "text": [
      "digraph Tree {\n",
      "node [fontname=\"helvetica\", shape=box];\n",
      "edge [fontname=\"helvetica\"];\n",
      "0 [label=\"X[4] <= 0.5\\ngini = 0.473\\nsamples = 712\\nvalue = [439, 273]\"];\n",
      "1 [label=\"X[3] <= 2.5\\ngini = 0.38\\nsamples = 247\\nvalue = [63, 184]\"];\n",
      "0 -> 1  [headlabel=\"True\", labelangle=45, labeldistance=\"2.5\"];\n",
      "2 [label=\"X[5] <= 2.5\\ngini = 0.114\\nsamples = 132\\nvalue = [8, 124]\"];\n",
      "1 -> 2;\n",
      "3 [label=\"gini = 0.0\\nsamples = 1\\nvalue = [1, 0]\"];\n",
      "2 -> 3;\n",
      "4 [label=\"X[8] <= 28.856\\ngini = 0.101\\nsamples = 131\\nvalue = [7, 124]\"];\n",
      "2 -> 4;\n",
      "5 [label=\"X[8] <= 28.231\\ngini = 0.201\\nsamples = 53\\nvalue = [6, 47]\"];\n",
      "4 -> 5;\n",
      "6 [label=\"X[5] <= 56.0\\ngini = 0.174\\nsamples = 52\\nvalue = [5, 47]\"];\n",
      "5 -> 6;\n",
      "7 [label=\"X[7] <= 0.5\\ngini = 0.147\\nsamples = 50\\nvalue = [4, 46]\"];\n",
      "6 -> 7;\n",
      "8 [label=\"X[5] <= 37.0\\ngini = 0.202\\nsamples = 35\\nvalue = [4, 31]\"];\n",
      "7 -> 8;\n",
      "9 [label=\"X[5] <= 27.5\\ngini = 0.142\\nsamples = 26\\nvalue = [2, 24]\"];\n",
      "8 -> 9;\n",
      "10 [label=\"X[5] <= 23.5\\ngini = 0.32\\nsamples = 10\\nvalue = [2, 8]\"];\n",
      "9 -> 10;\n",
      "11 [label=\"gini = 0.0\\nsamples = 5\\nvalue = [0, 5]\"];\n",
      "10 -> 11;\n",
      "12 [label=\"X[8] <= 17.429\\ngini = 0.48\\nsamples = 5\\nvalue = [2, 3]\"];\n",
      "10 -> 12;\n",
      "13 [label=\"X[5] <= 25.5\\ngini = 0.375\\nsamples = 4\\nvalue = [1, 3]\"];\n",
      "12 -> 13;\n",
      "14 [label=\"gini = 0.5\\nsamples = 2\\nvalue = [1, 1]\"];\n",
      "13 -> 14;\n",
      "15 [label=\"gini = 0.0\\nsamples = 2\\nvalue = [0, 2]\"];\n",
      "13 -> 15;\n",
      "16 [label=\"gini = 0.0\\nsamples = 1\\nvalue = [1, 0]\"];\n",
      "12 -> 16;\n",
      "17 [label=\"gini = 0.0\\nsamples = 16\\nvalue = [0, 16]\"];\n",
      "9 -> 17;\n",
      "18 [label=\"X[5] <= 39.0\\ngini = 0.346\\nsamples = 9\\nvalue = [2, 7]\"];\n",
      "8 -> 18;\n",
      "19 [label=\"gini = 0.0\\nsamples = 1\\nvalue = [1, 0]\"];\n",
      "18 -> 19;\n",
      "20 [label=\"X[6] <= 0.5\\ngini = 0.219\\nsamples = 8\\nvalue = [1, 7]\"];\n",
      "18 -> 20;\n",
      "21 [label=\"gini = 0.0\\nsamples = 7\\nvalue = [0, 7]\"];\n",
      "20 -> 21;\n",
      "22 [label=\"gini = 0.0\\nsamples = 1\\nvalue = [1, 0]\"];\n",
      "20 -> 22;\n",
      "23 [label=\"gini = 0.0\\nsamples = 15\\nvalue = [0, 15]\"];\n",
      "7 -> 23;\n",
      "24 [label=\"X[5] <= 57.5\\ngini = 0.5\\nsamples = 2\\nvalue = [1, 1]\"];\n",
      "6 -> 24;\n",
      "25 [label=\"gini = 0.0\\nsamples = 1\\nvalue = [1, 0]\"];\n",
      "24 -> 25;\n",
      "26 [label=\"gini = 0.0\\nsamples = 1\\nvalue = [0, 1]\"];\n",
      "24 -> 26;\n",
      "27 [label=\"gini = 0.0\\nsamples = 1\\nvalue = [1, 0]\"];\n",
      "5 -> 27;\n",
      "28 [label=\"X[8] <= 149.035\\ngini = 0.025\\nsamples = 78\\nvalue = [1, 77]\"];\n",
      "4 -> 28;\n",
      "29 [label=\"gini = 0.0\\nsamples = 67\\nvalue = [0, 67]\"];\n",
      "28 -> 29;\n",
      "30 [label=\"X[8] <= 152.506\\ngini = 0.165\\nsamples = 11\\nvalue = [1, 10]\"];\n",
      "28 -> 30;\n",
      "31 [label=\"gini = 0.0\\nsamples = 1\\nvalue = [1, 0]\"];\n",
      "30 -> 31;\n",
      "32 [label=\"gini = 0.0\\nsamples = 10\\nvalue = [0, 10]\"];\n",
      "30 -> 32;\n",
      "33 [label=\"X[8] <= 23.35\\ngini = 0.499\\nsamples = 115\\nvalue = [55, 60]\"];\n",
      "1 -> 33;\n",
      "34 [label=\"X[5] <= 29.85\\ngini = 0.471\\nsamples = 92\\nvalue = [35, 57]\"];\n",
      "33 -> 34;\n",
      "35 [label=\"X[8] <= 7.888\\ngini = 0.444\\nsamples = 81\\nvalue = [27, 54]\"];\n",
      "34 -> 35;\n",
      "36 [label=\"X[7] <= 1.0\\ngini = 0.264\\nsamples = 32\\nvalue = [5, 27]\"];\n",
      "35 -> 36;\n",
      "37 [label=\"X[2] <= 0.5\\ngini = 0.225\\nsamples = 31\\nvalue = [4, 27]\"];\n",
      "36 -> 37;\n",
      "38 [label=\"X[8] <= 7.681\\ngini = 0.091\\nsamples = 21\\nvalue = [1, 20]\"];\n",
      "37 -> 38;\n",
      "39 [label=\"X[0] <= 0.5\\ngini = 0.444\\nsamples = 3\\nvalue = [1, 2]\"];\n",
      "38 -> 39;\n",
      "40 [label=\"gini = 0.0\\nsamples = 1\\nvalue = [1, 0]\"];\n",
      "39 -> 40;\n",
      "41 [label=\"gini = 0.0\\nsamples = 2\\nvalue = [0, 2]\"];\n",
      "39 -> 41;\n",
      "42 [label=\"gini = 0.0\\nsamples = 18\\nvalue = [0, 18]\"];\n",
      "38 -> 42;\n",
      "43 [label=\"X[5] <= 24.0\\ngini = 0.42\\nsamples = 10\\nvalue = [3, 7]\"];\n",
      "37 -> 43;\n",
      "44 [label=\"X[5] <= 18.5\\ngini = 0.245\\nsamples = 7\\nvalue = [1, 6]\"];\n",
      "43 -> 44;\n",
      "45 [label=\"X[8] <= 7.635\\ngini = 0.5\\nsamples = 2\\nvalue = [1, 1]\"];\n",
      "44 -> 45;\n",
      "46 [label=\"gini = 0.0\\nsamples = 1\\nvalue = [0, 1]\"];\n",
      "45 -> 46;\n",
      "47 [label=\"gini = 0.0\\nsamples = 1\\nvalue = [1, 0]\"];\n",
      "45 -> 47;\n",
      "48 [label=\"gini = 0.0\\nsamples = 5\\nvalue = [0, 5]\"];\n",
      "44 -> 48;\n",
      "49 [label=\"X[8] <= 7.815\\ngini = 0.444\\nsamples = 3\\nvalue = [2, 1]\"];\n",
      "43 -> 49;\n",
      "50 [label=\"gini = 0.0\\nsamples = 2\\nvalue = [2, 0]\"];\n",
      "49 -> 50;\n",
      "51 [label=\"gini = 0.0\\nsamples = 1\\nvalue = [0, 1]\"];\n",
      "49 -> 51;\n",
      "52 [label=\"gini = 0.0\\nsamples = 1\\nvalue = [1, 0]\"];\n",
      "36 -> 52;\n",
      "53 [label=\"X[8] <= 15.373\\ngini = 0.495\\nsamples = 49\\nvalue = [22, 27]\"];\n",
      "35 -> 53;\n",
      "54 [label=\"X[5] <= 27.5\\ngini = 0.491\\nsamples = 30\\nvalue = [17, 13]\"];\n",
      "53 -> 54;\n",
      "55 [label=\"X[8] <= 13.935\\ngini = 0.491\\nsamples = 23\\nvalue = [10, 13]\"];\n",
      "54 -> 55;\n",
      "56 [label=\"X[5] <= 19.0\\ngini = 0.444\\nsamples = 18\\nvalue = [6, 12]\"];\n",
      "55 -> 56;\n",
      "57 [label=\"X[5] <= 3.0\\ngini = 0.18\\nsamples = 10\\nvalue = [1, 9]\"];\n",
      "56 -> 57;\n",
      "58 [label=\"X[8] <= 10.798\\ngini = 0.444\\nsamples = 3\\nvalue = [1, 2]\"];\n",
      "57 -> 58;\n",
      "59 [label=\"gini = 0.0\\nsamples = 1\\nvalue = [1, 0]\"];\n",
      "58 -> 59;\n",
      "60 [label=\"gini = 0.0\\nsamples = 2\\nvalue = [0, 2]\"];\n",
      "58 -> 60;\n",
      "61 [label=\"gini = 0.0\\nsamples = 7\\nvalue = [0, 7]\"];\n",
      "57 -> 61;\n",
      "62 [label=\"X[5] <= 25.5\\ngini = 0.469\\nsamples = 8\\nvalue = [5, 3]\"];\n",
      "56 -> 62;\n",
      "63 [label=\"gini = 0.0\\nsamples = 5\\nvalue = [5, 0]\"];\n",
      "62 -> 63;\n",
      "64 [label=\"gini = 0.0\\nsamples = 3\\nvalue = [0, 3]\"];\n",
      "62 -> 64;\n",
      "65 [label=\"X[8] <= 14.456\\ngini = 0.32\\nsamples = 5\\nvalue = [4, 1]\"];\n",
      "55 -> 65;\n",
      "66 [label=\"X[7] <= 0.5\\ngini = 0.444\\nsamples = 3\\nvalue = [2, 1]\"];\n",
      "65 -> 66;\n",
      "67 [label=\"X[5] <= 14.75\\ngini = 0.5\\nsamples = 2\\nvalue = [1, 1]\"];\n",
      "66 -> 67;\n",
      "68 [label=\"gini = 0.0\\nsamples = 1\\nvalue = [1, 0]\"];\n",
      "67 -> 68;\n",
      "69 [label=\"gini = 0.0\\nsamples = 1\\nvalue = [0, 1]\"];\n",
      "67 -> 69;\n",
      "70 [label=\"gini = 0.0\\nsamples = 1\\nvalue = [1, 0]\"];\n",
      "66 -> 70;\n",
      "71 [label=\"gini = 0.0\\nsamples = 2\\nvalue = [2, 0]\"];\n",
      "65 -> 71;\n",
      "72 [label=\"gini = 0.0\\nsamples = 7\\nvalue = [7, 0]\"];\n",
      "54 -> 72;\n",
      "73 [label=\"X[6] <= 2.5\\ngini = 0.388\\nsamples = 19\\nvalue = [5, 14]\"];\n",
      "53 -> 73;\n",
      "74 [label=\"X[7] <= 0.5\\ngini = 0.291\\nsamples = 17\\nvalue = [3, 14]\"];\n",
      "73 -> 74;\n",
      "75 [label=\"X[5] <= 27.85\\ngini = 0.469\\nsamples = 8\\nvalue = [3, 5]\"];\n",
      "74 -> 75;\n",
      "76 [label=\"gini = 0.0\\nsamples = 3\\nvalue = [3, 0]\"];\n",
      "75 -> 76;\n",
      "77 [label=\"gini = 0.0\\nsamples = 5\\nvalue = [0, 5]\"];\n",
      "75 -> 77;\n",
      "78 [label=\"gini = 0.0\\nsamples = 9\\nvalue = [0, 9]\"];\n",
      "74 -> 78;\n",
      "79 [label=\"gini = 0.0\\nsamples = 2\\nvalue = [2, 0]\"];\n",
      "73 -> 79;\n",
      "80 [label=\"X[8] <= 20.369\\ngini = 0.397\\nsamples = 11\\nvalue = [8, 3]\"];\n",
      "34 -> 80;\n",
      "81 [label=\"X[8] <= 8.673\\ngini = 0.32\\nsamples = 10\\nvalue = [8, 2]\"];\n",
      "80 -> 81;\n",
      "82 [label=\"gini = 0.0\\nsamples = 4\\nvalue = [4, 0]\"];\n",
      "81 -> 82;\n",
      "83 [label=\"X[8] <= 11.592\\ngini = 0.444\\nsamples = 6\\nvalue = [4, 2]\"];\n",
      "81 -> 83;\n",
      "84 [label=\"gini = 0.0\\nsamples = 1\\nvalue = [0, 1]\"];\n",
      "83 -> 84;\n",
      "85 [label=\"X[7] <= 0.5\\ngini = 0.32\\nsamples = 5\\nvalue = [4, 1]\"];\n",
      "83 -> 85;\n",
      "86 [label=\"X[8] <= 15.95\\ngini = 0.444\\nsamples = 3\\nvalue = [2, 1]\"];\n",
      "85 -> 86;\n",
      "87 [label=\"gini = 0.0\\nsamples = 1\\nvalue = [1, 0]\"];\n",
      "86 -> 87;\n",
      "88 [label=\"X[8] <= 17.7\\ngini = 0.5\\nsamples = 2\\nvalue = [1, 1]\"];\n",
      "86 -> 88;\n",
      "89 [label=\"gini = 0.0\\nsamples = 1\\nvalue = [0, 1]\"];\n",
      "88 -> 89;\n",
      "90 [label=\"gini = 0.0\\nsamples = 1\\nvalue = [1, 0]\"];\n",
      "88 -> 90;\n",
      "91 [label=\"gini = 0.0\\nsamples = 2\\nvalue = [2, 0]\"];\n",
      "85 -> 91;\n",
      "92 [label=\"gini = 0.0\\nsamples = 1\\nvalue = [0, 1]\"];\n",
      "80 -> 92;\n",
      "93 [label=\"X[7] <= 0.5\\ngini = 0.227\\nsamples = 23\\nvalue = [20, 3]\"];\n",
      "33 -> 93;\n",
      "94 [label=\"gini = 0.0\\nsamples = 1\\nvalue = [0, 1]\"];\n",
      "93 -> 94;\n",
      "95 [label=\"X[5] <= 5.5\\ngini = 0.165\\nsamples = 22\\nvalue = [20, 2]\"];\n",
      "93 -> 95;\n",
      "96 [label=\"X[5] <= 3.5\\ngini = 0.5\\nsamples = 2\\nvalue = [1, 1]\"];\n",
      "95 -> 96;\n",
      "97 [label=\"gini = 0.0\\nsamples = 1\\nvalue = [1, 0]\"];\n",
      "96 -> 97;\n",
      "98 [label=\"gini = 0.0\\nsamples = 1\\nvalue = [0, 1]\"];\n",
      "96 -> 98;\n",
      "99 [label=\"X[7] <= 4.5\\ngini = 0.095\\nsamples = 20\\nvalue = [19, 1]\"];\n",
      "95 -> 99;\n",
      "100 [label=\"gini = 0.0\\nsamples = 16\\nvalue = [16, 0]\"];\n",
      "99 -> 100;\n",
      "101 [label=\"X[5] <= 38.5\\ngini = 0.375\\nsamples = 4\\nvalue = [3, 1]\"];\n",
      "99 -> 101;\n",
      "102 [label=\"gini = 0.0\\nsamples = 1\\nvalue = [0, 1]\"];\n",
      "101 -> 102;\n",
      "103 [label=\"gini = 0.0\\nsamples = 3\\nvalue = [3, 0]\"];\n",
      "101 -> 103;\n",
      "104 [label=\"X[5] <= 14.0\\ngini = 0.31\\nsamples = 465\\nvalue = [376, 89]\"];\n",
      "0 -> 104  [headlabel=\"False\", labelangle=\"-45\", labeldistance=\"2.5\"];\n",
      "105 [label=\"X[6] <= 2.5\\ngini = 0.492\\nsamples = 32\\nvalue = [14, 18]\"];\n",
      "104 -> 105;\n",
      "106 [label=\"X[7] <= 0.5\\ngini = 0.105\\nsamples = 18\\nvalue = [1, 17]\"];\n",
      "105 -> 106;\n",
      "107 [label=\"X[5] <= 11.5\\ngini = 0.5\\nsamples = 2\\nvalue = [1, 1]\"];\n",
      "106 -> 107;\n",
      "108 [label=\"gini = 0.0\\nsamples = 1\\nvalue = [1, 0]\"];\n",
      "107 -> 108;\n",
      "109 [label=\"gini = 0.0\\nsamples = 1\\nvalue = [0, 1]\"];\n",
      "107 -> 109;\n",
      "110 [label=\"gini = 0.0\\nsamples = 16\\nvalue = [0, 16]\"];\n",
      "106 -> 110;\n",
      "111 [label=\"X[5] <= 3.5\\ngini = 0.133\\nsamples = 14\\nvalue = [13, 1]\"];\n",
      "105 -> 111;\n",
      "112 [label=\"X[5] <= 2.5\\ngini = 0.278\\nsamples = 6\\nvalue = [5, 1]\"];\n",
      "111 -> 112;\n",
      "113 [label=\"gini = 0.0\\nsamples = 5\\nvalue = [5, 0]\"];\n",
      "112 -> 113;\n",
      "114 [label=\"gini = 0.0\\nsamples = 1\\nvalue = [0, 1]\"];\n",
      "112 -> 114;\n",
      "115 [label=\"gini = 0.0\\nsamples = 8\\nvalue = [8, 0]\"];\n",
      "111 -> 115;\n",
      "116 [label=\"X[3] <= 1.5\\ngini = 0.274\\nsamples = 433\\nvalue = [362, 71]\"];\n",
      "104 -> 116;\n",
      "117 [label=\"X[5] <= 53.0\\ngini = 0.442\\nsamples = 94\\nvalue = [63, 31]\"];\n",
      "116 -> 117;\n",
      "118 [label=\"X[8] <= 26.144\\ngini = 0.47\\nsamples = 77\\nvalue = [48, 29]\"];\n",
      "117 -> 118;\n",
      "119 [label=\"gini = 0.0\\nsamples = 7\\nvalue = [7, 0]\"];\n",
      "118 -> 119;\n",
      "120 [label=\"X[8] <= 27.135\\ngini = 0.485\\nsamples = 70\\nvalue = [41, 29]\"];\n",
      "118 -> 120;\n",
      "121 [label=\"X[8] <= 26.469\\ngini = 0.26\\nsamples = 13\\nvalue = [2, 11]\"];\n",
      "120 -> 121;\n",
      "122 [label=\"gini = 0.0\\nsamples = 4\\nvalue = [0, 4]\"];\n",
      "121 -> 122;\n",
      "123 [label=\"X[5] <= 46.5\\ngini = 0.346\\nsamples = 9\\nvalue = [2, 7]\"];\n",
      "121 -> 123;\n",
      "124 [label=\"X[5] <= 40.0\\ngini = 0.408\\nsamples = 7\\nvalue = [2, 5]\"];\n",
      "123 -> 124;\n",
      "125 [label=\"X[5] <= 31.85\\ngini = 0.32\\nsamples = 5\\nvalue = [1, 4]\"];\n",
      "124 -> 125;\n",
      "126 [label=\"X[5] <= 28.85\\ngini = 0.444\\nsamples = 3\\nvalue = [1, 2]\"];\n",
      "125 -> 126;\n",
      "127 [label=\"gini = 0.0\\nsamples = 1\\nvalue = [0, 1]\"];\n",
      "126 -> 127;\n",
      "128 [label=\"gini = 0.5\\nsamples = 2\\nvalue = [1, 1]\"];\n",
      "126 -> 128;\n",
      "129 [label=\"gini = 0.0\\nsamples = 2\\nvalue = [0, 2]\"];\n",
      "125 -> 129;\n",
      "130 [label=\"gini = 0.5\\nsamples = 2\\nvalue = [1, 1]\"];\n",
      "124 -> 130;\n",
      "131 [label=\"gini = 0.0\\nsamples = 2\\nvalue = [0, 2]\"];\n",
      "123 -> 131;\n",
      "132 [label=\"X[8] <= 379.925\\ngini = 0.432\\nsamples = 57\\nvalue = [39, 18]\"];\n",
      "120 -> 132;\n",
      "133 [label=\"X[6] <= 0.5\\ngini = 0.413\\nsamples = 55\\nvalue = [39, 16]\"];\n",
      "132 -> 133;\n",
      "134 [label=\"X[5] <= 28.5\\ngini = 0.291\\nsamples = 34\\nvalue = [28, 6]\"];\n",
      "133 -> 134;\n",
      "135 [label=\"X[8] <= 41.3\\ngini = 0.48\\nsamples = 10\\nvalue = [6, 4]\"];\n",
      "134 -> 135;\n",
      "136 [label=\"gini = 0.0\\nsamples = 3\\nvalue = [0, 3]\"];\n",
      "135 -> 136;\n",
      "137 [label=\"X[5] <= 19.0\\ngini = 0.245\\nsamples = 7\\nvalue = [6, 1]\"];\n",
      "135 -> 137;\n",
      "138 [label=\"gini = 0.0\\nsamples = 1\\nvalue = [0, 1]\"];\n",
      "137 -> 138;\n",
      "139 [label=\"gini = 0.0\\nsamples = 6\\nvalue = [6, 0]\"];\n",
      "137 -> 139;\n",
      "140 [label=\"X[5] <= 51.5\\ngini = 0.153\\nsamples = 24\\nvalue = [22, 2]\"];\n",
      "134 -> 140;\n",
      "141 [label=\"X[5] <= 39.0\\ngini = 0.083\\nsamples = 23\\nvalue = [22, 1]\"];\n",
      "140 -> 141;\n",
      "142 [label=\"gini = 0.0\\nsamples = 15\\nvalue = [15, 0]\"];\n",
      "141 -> 142;\n",
      "143 [label=\"X[5] <= 42.5\\ngini = 0.219\\nsamples = 8\\nvalue = [7, 1]\"];\n",
      "141 -> 143;\n",
      "144 [label=\"gini = 0.0\\nsamples = 1\\nvalue = [0, 1]\"];\n",
      "143 -> 144;\n",
      "145 [label=\"gini = 0.0\\nsamples = 7\\nvalue = [7, 0]\"];\n",
      "143 -> 145;\n",
      "146 [label=\"gini = 0.0\\nsamples = 1\\nvalue = [0, 1]\"];\n",
      "140 -> 146;\n",
      "147 [label=\"X[8] <= 52.277\\ngini = 0.499\\nsamples = 21\\nvalue = [11, 10]\"];\n",
      "133 -> 147;\n",
      "148 [label=\"gini = 0.0\\nsamples = 2\\nvalue = [2, 0]\"];\n",
      "147 -> 148;\n",
      "149 [label=\"X[8] <= 52.827\\ngini = 0.499\\nsamples = 19\\nvalue = [9, 10]\"];\n",
      "147 -> 149;\n",
      "150 [label=\"gini = 0.0\\nsamples = 2\\nvalue = [0, 2]\"];\n",
      "149 -> 150;\n",
      "151 [label=\"X[0] <= 0.5\\ngini = 0.498\\nsamples = 17\\nvalue = [9, 8]\"];\n",
      "149 -> 151;\n",
      "152 [label=\"X[8] <= 111.825\\ngini = 0.463\\nsamples = 11\\nvalue = [7, 4]\"];\n",
      "151 -> 152;\n",
      "153 [label=\"X[5] <= 41.0\\ngini = 0.42\\nsamples = 10\\nvalue = [7, 3]\"];\n",
      "152 -> 153;\n",
      "154 [label=\"X[8] <= 84.425\\ngini = 0.49\\nsamples = 7\\nvalue = [4, 3]\"];\n",
      "153 -> 154;\n",
      "155 [label=\"X[5] <= 33.5\\ngini = 0.444\\nsamples = 6\\nvalue = [4, 2]\"];\n",
      "154 -> 155;\n",
      "156 [label=\"X[8] <= 61.8\\ngini = 0.5\\nsamples = 4\\nvalue = [2, 2]\"];\n",
      "155 -> 156;\n",
      "157 [label=\"X[5] <= 23.0\\ngini = 0.444\\nsamples = 3\\nvalue = [1, 2]\"];\n",
      "156 -> 157;\n",
      "158 [label=\"gini = 0.0\\nsamples = 1\\nvalue = [1, 0]\"];\n",
      "157 -> 158;\n",
      "159 [label=\"gini = 0.0\\nsamples = 2\\nvalue = [0, 2]\"];\n",
      "157 -> 159;\n",
      "160 [label=\"gini = 0.0\\nsamples = 1\\nvalue = [1, 0]\"];\n",
      "156 -> 160;\n",
      "161 [label=\"gini = 0.0\\nsamples = 2\\nvalue = [2, 0]\"];\n",
      "155 -> 161;\n",
      "162 [label=\"gini = 0.0\\nsamples = 1\\nvalue = [0, 1]\"];\n",
      "154 -> 162;\n",
      "163 [label=\"gini = 0.0\\nsamples = 3\\nvalue = [3, 0]\"];\n",
      "153 -> 163;\n",
      "164 [label=\"gini = 0.0\\nsamples = 1\\nvalue = [0, 1]\"];\n",
      "152 -> 164;\n",
      "165 [label=\"X[8] <= 97.765\\ngini = 0.444\\nsamples = 6\\nvalue = [2, 4]\"];\n",
      "151 -> 165;\n",
      "166 [label=\"gini = 0.0\\nsamples = 4\\nvalue = [0, 4]\"];\n",
      "165 -> 166;\n",
      "167 [label=\"gini = 0.0\\nsamples = 2\\nvalue = [2, 0]\"];\n",
      "165 -> 167;\n",
      "168 [label=\"gini = 0.0\\nsamples = 2\\nvalue = [0, 2]\"];\n",
      "132 -> 168;\n",
      "169 [label=\"X[5] <= 75.5\\ngini = 0.208\\nsamples = 17\\nvalue = [15, 2]\"];\n",
      "117 -> 169;\n",
      "170 [label=\"X[5] <= 57.0\\ngini = 0.117\\nsamples = 16\\nvalue = [15, 1]\"];\n",
      "169 -> 170;\n",
      "171 [label=\"X[0] <= 0.5\\ngini = 0.278\\nsamples = 6\\nvalue = [5, 1]\"];\n",
      "170 -> 171;\n",
      "172 [label=\"gini = 0.0\\nsamples = 4\\nvalue = [4, 0]\"];\n",
      "171 -> 172;\n",
      "173 [label=\"X[8] <= 33.098\\ngini = 0.5\\nsamples = 2\\nvalue = [1, 1]\"];\n",
      "171 -> 173;\n",
      "174 [label=\"gini = 0.0\\nsamples = 1\\nvalue = [1, 0]\"];\n",
      "173 -> 174;\n",
      "175 [label=\"gini = 0.0\\nsamples = 1\\nvalue = [0, 1]\"];\n",
      "173 -> 175;\n",
      "176 [label=\"gini = 0.0\\nsamples = 10\\nvalue = [10, 0]\"];\n",
      "170 -> 176;\n",
      "177 [label=\"gini = 0.0\\nsamples = 1\\nvalue = [0, 1]\"];\n",
      "169 -> 177;\n",
      "178 [label=\"X[5] <= 32.25\\ngini = 0.208\\nsamples = 339\\nvalue = [299, 40]\"];\n",
      "116 -> 178;\n",
      "179 [label=\"X[5] <= 30.75\\ngini = 0.241\\nsamples = 250\\nvalue = [215, 35]\"];\n",
      "178 -> 179;\n",
      "180 [label=\"X[0] <= 0.5\\ngini = 0.212\\nsamples = 232\\nvalue = [204, 28]\"];\n",
      "179 -> 180;\n",
      "181 [label=\"X[6] <= 0.5\\ngini = 0.18\\nsamples = 200\\nvalue = [180, 20]\"];\n",
      "180 -> 181;\n",
      "182 [label=\"X[8] <= 41.248\\ngini = 0.201\\nsamples = 168\\nvalue = [149, 19]\"];\n",
      "181 -> 182;\n",
      "183 [label=\"X[8] <= 7.798\\ngini = 0.188\\nsamples = 162\\nvalue = [145, 17]\"];\n",
      "182 -> 183;\n",
      "184 [label=\"X[8] <= 7.785\\ngini = 0.245\\nsamples = 56\\nvalue = [48, 8]\"];\n",
      "183 -> 184;\n",
      "185 [label=\"X[5] <= 23.0\\ngini = 0.208\\nsamples = 51\\nvalue = [45, 6]\"];\n",
      "184 -> 185;\n",
      "186 [label=\"gini = 0.0\\nsamples = 15\\nvalue = [15, 0]\"];\n",
      "185 -> 186;\n",
      "187 [label=\"X[5] <= 29.35\\ngini = 0.278\\nsamples = 36\\nvalue = [30, 6]\"];\n",
      "185 -> 187;\n",
      "188 [label=\"X[8] <= 7.013\\ngini = 0.48\\nsamples = 10\\nvalue = [6, 4]\"];\n",
      "187 -> 188;\n",
      "189 [label=\"gini = 0.0\\nsamples = 2\\nvalue = [0, 2]\"];\n",
      "188 -> 189;\n",
      "190 [label=\"X[5] <= 27.5\\ngini = 0.375\\nsamples = 8\\nvalue = [6, 2]\"];\n",
      "188 -> 190;\n",
      "191 [label=\"X[8] <= 7.196\\ngini = 0.245\\nsamples = 7\\nvalue = [6, 1]\"];\n",
      "190 -> 191;\n",
      "192 [label=\"X[8] <= 7.096\\ngini = 0.444\\nsamples = 3\\nvalue = [2, 1]\"];\n",
      "191 -> 192;\n",
      "193 [label=\"gini = 0.0\\nsamples = 2\\nvalue = [2, 0]\"];\n",
      "192 -> 193;\n",
      "194 [label=\"gini = 0.0\\nsamples = 1\\nvalue = [0, 1]\"];\n",
      "192 -> 194;\n",
      "195 [label=\"gini = 0.0\\nsamples = 4\\nvalue = [4, 0]\"];\n",
      "191 -> 195;\n",
      "196 [label=\"gini = 0.0\\nsamples = 1\\nvalue = [0, 1]\"];\n",
      "190 -> 196;\n",
      "197 [label=\"X[8] <= 7.763\\ngini = 0.142\\nsamples = 26\\nvalue = [24, 2]\"];\n",
      "187 -> 197;\n",
      "198 [label=\"X[8] <= 7.742\\ngini = 0.08\\nsamples = 24\\nvalue = [23, 1]\"];\n",
      "197 -> 198;\n",
      "199 [label=\"gini = 0.0\\nsamples = 15\\nvalue = [15, 0]\"];\n",
      "198 -> 199;\n",
      "200 [label=\"gini = 0.198\\nsamples = 9\\nvalue = [8, 1]\"];\n",
      "198 -> 200;\n",
      "201 [label=\"gini = 0.5\\nsamples = 2\\nvalue = [1, 1]\"];\n",
      "197 -> 201;\n",
      "202 [label=\"X[5] <= 19.5\\ngini = 0.48\\nsamples = 5\\nvalue = [3, 2]\"];\n",
      "184 -> 202;\n",
      "203 [label=\"gini = 0.0\\nsamples = 1\\nvalue = [1, 0]\"];\n",
      "202 -> 203;\n",
      "204 [label=\"X[5] <= 22.5\\ngini = 0.5\\nsamples = 4\\nvalue = [2, 2]\"];\n",
      "202 -> 204;\n",
      "205 [label=\"gini = 0.0\\nsamples = 1\\nvalue = [0, 1]\"];\n",
      "204 -> 205;\n",
      "206 [label=\"X[5] <= 25.5\\ngini = 0.444\\nsamples = 3\\nvalue = [2, 1]\"];\n",
      "204 -> 206;\n",
      "207 [label=\"gini = 0.0\\nsamples = 1\\nvalue = [1, 0]\"];\n",
      "206 -> 207;\n",
      "208 [label=\"X[5] <= 27.5\\ngini = 0.5\\nsamples = 2\\nvalue = [1, 1]\"];\n",
      "206 -> 208;\n",
      "209 [label=\"gini = 0.0\\nsamples = 1\\nvalue = [0, 1]\"];\n",
      "208 -> 209;\n",
      "210 [label=\"gini = 0.0\\nsamples = 1\\nvalue = [1, 0]\"];\n",
      "208 -> 210;\n",
      "211 [label=\"X[8] <= 7.988\\ngini = 0.155\\nsamples = 106\\nvalue = [97, 9]\"];\n",
      "183 -> 211;\n",
      "212 [label=\"gini = 0.0\\nsamples = 32\\nvalue = [32, 0]\"];\n",
      "211 -> 212;\n",
      "213 [label=\"X[8] <= 11.0\\ngini = 0.214\\nsamples = 74\\nvalue = [65, 9]\"];\n",
      "211 -> 213;\n",
      "214 [label=\"X[5] <= 19.5\\ngini = 0.265\\nsamples = 51\\nvalue = [43, 8]\"];\n",
      "213 -> 214;\n",
      "215 [label=\"X[8] <= 8.104\\ngini = 0.408\\nsamples = 14\\nvalue = [10, 4]\"];\n",
      "214 -> 215;\n",
      "216 [label=\"X[5] <= 17.0\\ngini = 0.375\\nsamples = 4\\nvalue = [1, 3]\"];\n",
      "215 -> 216;\n",
      "217 [label=\"gini = 0.5\\nsamples = 2\\nvalue = [1, 1]\"];\n",
      "216 -> 217;\n",
      "218 [label=\"gini = 0.0\\nsamples = 2\\nvalue = [0, 2]\"];\n",
      "216 -> 218;\n",
      "219 [label=\"X[8] <= 10.335\\ngini = 0.18\\nsamples = 10\\nvalue = [9, 1]\"];\n",
      "215 -> 219;\n",
      "220 [label=\"gini = 0.0\\nsamples = 7\\nvalue = [7, 0]\"];\n",
      "219 -> 220;\n",
      "221 [label=\"X[5] <= 17.5\\ngini = 0.444\\nsamples = 3\\nvalue = [2, 1]\"];\n",
      "219 -> 221;\n",
      "222 [label=\"gini = 0.0\\nsamples = 1\\nvalue = [1, 0]\"];\n",
      "221 -> 222;\n",
      "223 [label=\"gini = 0.5\\nsamples = 2\\nvalue = [1, 1]\"];\n",
      "221 -> 223;\n",
      "224 [label=\"X[8] <= 8.081\\ngini = 0.193\\nsamples = 37\\nvalue = [33, 4]\"];\n",
      "214 -> 224;\n",
      "225 [label=\"gini = 0.0\\nsamples = 18\\nvalue = [18, 0]\"];\n",
      "224 -> 225;\n",
      "226 [label=\"X[5] <= 25.5\\ngini = 0.332\\nsamples = 19\\nvalue = [15, 4]\"];\n",
      "224 -> 226;\n",
      "227 [label=\"gini = 0.0\\nsamples = 10\\nvalue = [10, 0]\"];\n",
      "226 -> 227;\n",
      "228 [label=\"X[8] <= 9.073\\ngini = 0.494\\nsamples = 9\\nvalue = [5, 4]\"];\n",
      "226 -> 228;\n",
      "229 [label=\"gini = 0.0\\nsamples = 2\\nvalue = [0, 2]\"];\n",
      "228 -> 229;\n",
      "230 [label=\"X[3] <= 2.5\\ngini = 0.408\\nsamples = 7\\nvalue = [5, 2]\"];\n",
      "228 -> 230;\n",
      "231 [label=\"gini = 0.0\\nsamples = 2\\nvalue = [2, 0]\"];\n",
      "230 -> 231;\n",
      "232 [label=\"X[5] <= 29.85\\ngini = 0.48\\nsamples = 5\\nvalue = [3, 2]\"];\n",
      "230 -> 232;\n",
      "233 [label=\"X[5] <= 28.5\\ngini = 0.375\\nsamples = 4\\nvalue = [3, 1]\"];\n",
      "232 -> 233;\n",
      "234 [label=\"gini = 0.0\\nsamples = 1\\nvalue = [1, 0]\"];\n",
      "233 -> 234;\n",
      "235 [label=\"X[5] <= 29.35\\ngini = 0.444\\nsamples = 3\\nvalue = [2, 1]\"];\n",
      "233 -> 235;\n",
      "236 [label=\"X[8] <= 9.492\\ngini = 0.5\\nsamples = 2\\nvalue = [1, 1]\"];\n",
      "235 -> 236;\n",
      "237 [label=\"gini = 0.0\\nsamples = 1\\nvalue = [1, 0]\"];\n",
      "236 -> 237;\n",
      "238 [label=\"gini = 0.0\\nsamples = 1\\nvalue = [0, 1]\"];\n",
      "236 -> 238;\n",
      "239 [label=\"gini = 0.0\\nsamples = 1\\nvalue = [1, 0]\"];\n",
      "235 -> 239;\n",
      "240 [label=\"gini = 0.0\\nsamples = 1\\nvalue = [0, 1]\"];\n",
      "232 -> 240;\n",
      "241 [label=\"X[5] <= 29.1\\ngini = 0.083\\nsamples = 23\\nvalue = [22, 1]\"];\n",
      "213 -> 241;\n",
      "242 [label=\"gini = 0.0\\nsamples = 17\\nvalue = [17, 0]\"];\n",
      "241 -> 242;\n",
      "243 [label=\"X[3] <= 2.5\\ngini = 0.278\\nsamples = 6\\nvalue = [5, 1]\"];\n",
      "241 -> 243;\n",
      "244 [label=\"X[5] <= 29.85\\ngini = 0.444\\nsamples = 3\\nvalue = [2, 1]\"];\n",
      "243 -> 244;\n",
      "245 [label=\"gini = 0.0\\nsamples = 1\\nvalue = [0, 1]\"];\n",
      "244 -> 245;\n",
      "246 [label=\"gini = 0.0\\nsamples = 2\\nvalue = [2, 0]\"];\n",
      "244 -> 246;\n",
      "247 [label=\"gini = 0.0\\nsamples = 3\\nvalue = [3, 0]\"];\n",
      "243 -> 247;\n",
      "248 [label=\"X[5] <= 23.5\\ngini = 0.444\\nsamples = 6\\nvalue = [4, 2]\"];\n",
      "182 -> 248;\n",
      "249 [label=\"gini = 0.0\\nsamples = 2\\nvalue = [2, 0]\"];\n",
      "248 -> 249;\n",
      "250 [label=\"X[5] <= 27.0\\ngini = 0.5\\nsamples = 4\\nvalue = [2, 2]\"];\n",
      "248 -> 250;\n",
      "251 [label=\"gini = 0.0\\nsamples = 1\\nvalue = [0, 1]\"];\n",
      "250 -> 251;\n",
      "252 [label=\"X[5] <= 28.85\\ngini = 0.444\\nsamples = 3\\nvalue = [2, 1]\"];\n",
      "250 -> 252;\n",
      "253 [label=\"gini = 0.0\\nsamples = 1\\nvalue = [1, 0]\"];\n",
      "252 -> 253;\n",
      "254 [label=\"gini = 0.5\\nsamples = 2\\nvalue = [1, 1]\"];\n",
      "252 -> 254;\n",
      "255 [label=\"X[8] <= 8.294\\ngini = 0.061\\nsamples = 32\\nvalue = [31, 1]\"];\n",
      "181 -> 255;\n",
      "256 [label=\"X[8] <= 7.85\\ngini = 0.278\\nsamples = 6\\nvalue = [5, 1]\"];\n",
      "255 -> 256;\n",
      "257 [label=\"gini = 0.0\\nsamples = 4\\nvalue = [4, 0]\"];\n",
      "256 -> 257;\n",
      "258 [label=\"X[6] <= 1.5\\ngini = 0.5\\nsamples = 2\\nvalue = [1, 1]\"];\n",
      "256 -> 258;\n",
      "259 [label=\"gini = 0.0\\nsamples = 1\\nvalue = [0, 1]\"];\n",
      "258 -> 259;\n",
      "260 [label=\"gini = 0.0\\nsamples = 1\\nvalue = [1, 0]\"];\n",
      "258 -> 260;\n",
      "261 [label=\"gini = 0.0\\nsamples = 26\\nvalue = [26, 0]\"];\n",
      "255 -> 261;\n",
      "262 [label=\"X[7] <= 0.5\\ngini = 0.375\\nsamples = 32\\nvalue = [24, 8]\"];\n",
      "180 -> 262;\n",
      "263 [label=\"X[5] <= 22.5\\ngini = 0.302\\nsamples = 27\\nvalue = [22, 5]\"];\n",
      "262 -> 263;\n",
      "264 [label=\"X[5] <= 21.0\\ngini = 0.5\\nsamples = 2\\nvalue = [1, 1]\"];\n",
      "263 -> 264;\n",
      "265 [label=\"gini = 0.0\\nsamples = 1\\nvalue = [1, 0]\"];\n",
      "264 -> 265;\n",
      "266 [label=\"gini = 0.0\\nsamples = 1\\nvalue = [0, 1]\"];\n",
      "264 -> 266;\n",
      "267 [label=\"X[8] <= 7.562\\ngini = 0.269\\nsamples = 25\\nvalue = [21, 4]\"];\n",
      "263 -> 267;\n",
      "268 [label=\"X[8] <= 7.227\\ngini = 0.142\\nsamples = 13\\nvalue = [12, 1]\"];\n",
      "267 -> 268;\n",
      "269 [label=\"gini = 0.0\\nsamples = 5\\nvalue = [5, 0]\"];\n",
      "268 -> 269;\n",
      "270 [label=\"X[5] <= 29.1\\ngini = 0.219\\nsamples = 8\\nvalue = [7, 1]\"];\n",
      "268 -> 270;\n",
      "271 [label=\"gini = 0.0\\nsamples = 2\\nvalue = [2, 0]\"];\n",
      "270 -> 271;\n",
      "272 [label=\"X[5] <= 29.85\\ngini = 0.278\\nsamples = 6\\nvalue = [5, 1]\"];\n",
      "270 -> 272;\n",
      "273 [label=\"gini = 0.32\\nsamples = 5\\nvalue = [4, 1]\"];\n",
      "272 -> 273;\n",
      "274 [label=\"gini = 0.0\\nsamples = 1\\nvalue = [1, 0]\"];\n",
      "272 -> 274;\n",
      "275 [label=\"X[6] <= 0.5\\ngini = 0.375\\nsamples = 12\\nvalue = [9, 3]\"];\n",
      "267 -> 275;\n",
      "276 [label=\"X[8] <= 16.917\\ngini = 0.49\\nsamples = 7\\nvalue = [4, 3]\"];\n",
      "275 -> 276;\n",
      "277 [label=\"X[8] <= 14.454\\ngini = 0.444\\nsamples = 6\\nvalue = [4, 2]\"];\n",
      "276 -> 277;\n",
      "278 [label=\"X[5] <= 29.35\\ngini = 0.48\\nsamples = 5\\nvalue = [3, 2]\"];\n",
      "277 -> 278;\n",
      "279 [label=\"gini = 0.0\\nsamples = 1\\nvalue = [0, 1]\"];\n",
      "278 -> 279;\n",
      "280 [label=\"X[3] <= 2.5\\ngini = 0.375\\nsamples = 4\\nvalue = [3, 1]\"];\n",
      "278 -> 280;\n",
      "281 [label=\"gini = 0.0\\nsamples = 1\\nvalue = [0, 1]\"];\n",
      "280 -> 281;\n",
      "282 [label=\"gini = 0.0\\nsamples = 3\\nvalue = [3, 0]\"];\n",
      "280 -> 282;\n",
      "283 [label=\"gini = 0.0\\nsamples = 1\\nvalue = [1, 0]\"];\n",
      "277 -> 283;\n",
      "284 [label=\"gini = 0.0\\nsamples = 1\\nvalue = [0, 1]\"];\n",
      "276 -> 284;\n",
      "285 [label=\"gini = 0.0\\nsamples = 5\\nvalue = [5, 0]\"];\n",
      "275 -> 285;\n",
      "286 [label=\"X[5] <= 27.35\\ngini = 0.48\\nsamples = 5\\nvalue = [2, 3]\"];\n",
      "262 -> 286;\n",
      "287 [label=\"X[8] <= 11.485\\ngini = 0.444\\nsamples = 3\\nvalue = [2, 1]\"];\n",
      "286 -> 287;\n",
      "288 [label=\"gini = 0.0\\nsamples = 1\\nvalue = [1, 0]\"];\n",
      "287 -> 288;\n",
      "289 [label=\"X[8] <= 28.66\\ngini = 0.5\\nsamples = 2\\nvalue = [1, 1]\"];\n",
      "287 -> 289;\n",
      "290 [label=\"gini = 0.0\\nsamples = 1\\nvalue = [0, 1]\"];\n",
      "289 -> 290;\n",
      "291 [label=\"gini = 0.0\\nsamples = 1\\nvalue = [1, 0]\"];\n",
      "289 -> 291;\n",
      "292 [label=\"gini = 0.0\\nsamples = 2\\nvalue = [0, 2]\"];\n",
      "286 -> 292;\n",
      "293 [label=\"X[2] <= 0.5\\ngini = 0.475\\nsamples = 18\\nvalue = [11, 7]\"];\n",
      "179 -> 293;\n",
      "294 [label=\"gini = 0.0\\nsamples = 2\\nvalue = [2, 0]\"];\n",
      "293 -> 294;\n",
      "295 [label=\"X[8] <= 8.206\\ngini = 0.492\\nsamples = 16\\nvalue = [9, 7]\"];\n",
      "293 -> 295;\n",
      "296 [label=\"X[8] <= 7.815\\ngini = 0.49\\nsamples = 7\\nvalue = [3, 4]\"];\n",
      "295 -> 296;\n",
      "297 [label=\"gini = 0.0\\nsamples = 1\\nvalue = [1, 0]\"];\n",
      "296 -> 297;\n",
      "298 [label=\"X[8] <= 7.89\\ngini = 0.444\\nsamples = 6\\nvalue = [2, 4]\"];\n",
      "296 -> 298;\n",
      "299 [label=\"gini = 0.0\\nsamples = 1\\nvalue = [0, 1]\"];\n",
      "298 -> 299;\n",
      "300 [label=\"X[5] <= 31.5\\ngini = 0.48\\nsamples = 5\\nvalue = [2, 3]\"];\n",
      "298 -> 300;\n",
      "301 [label=\"gini = 0.0\\nsamples = 1\\nvalue = [0, 1]\"];\n",
      "300 -> 301;\n",
      "302 [label=\"X[8] <= 7.988\\ngini = 0.5\\nsamples = 4\\nvalue = [2, 2]\"];\n",
      "300 -> 302;\n",
      "303 [label=\"gini = 0.444\\nsamples = 3\\nvalue = [2, 1]\"];\n",
      "302 -> 303;\n",
      "304 [label=\"gini = 0.0\\nsamples = 1\\nvalue = [0, 1]\"];\n",
      "302 -> 304;\n",
      "305 [label=\"X[8] <= 11.75\\ngini = 0.444\\nsamples = 9\\nvalue = [6, 3]\"];\n",
      "295 -> 305;\n",
      "306 [label=\"gini = 0.0\\nsamples = 3\\nvalue = [3, 0]\"];\n",
      "305 -> 306;\n",
      "307 [label=\"X[6] <= 0.5\\ngini = 0.5\\nsamples = 6\\nvalue = [3, 3]\"];\n",
      "305 -> 307;\n",
      "308 [label=\"gini = 0.0\\nsamples = 2\\nvalue = [0, 2]\"];\n",
      "307 -> 308;\n",
      "309 [label=\"X[8] <= 26.125\\ngini = 0.375\\nsamples = 4\\nvalue = [3, 1]\"];\n",
      "307 -> 309;\n",
      "310 [label=\"X[3] <= 2.5\\ngini = 0.5\\nsamples = 2\\nvalue = [1, 1]\"];\n",
      "309 -> 310;\n",
      "311 [label=\"gini = 0.0\\nsamples = 1\\nvalue = [0, 1]\"];\n",
      "310 -> 311;\n",
      "312 [label=\"gini = 0.0\\nsamples = 1\\nvalue = [1, 0]\"];\n",
      "310 -> 312;\n",
      "313 [label=\"gini = 0.0\\nsamples = 2\\nvalue = [2, 0]\"];\n",
      "309 -> 313;\n",
      "314 [label=\"X[8] <= 7.91\\ngini = 0.106\\nsamples = 89\\nvalue = [84, 5]\"];\n",
      "178 -> 314;\n",
      "315 [label=\"gini = 0.0\\nsamples = 27\\nvalue = [27, 0]\"];\n",
      "314 -> 315;\n",
      "316 [label=\"X[8] <= 7.988\\ngini = 0.148\\nsamples = 62\\nvalue = [57, 5]\"];\n",
      "314 -> 316;\n",
      "317 [label=\"X[5] <= 38.0\\ngini = 0.5\\nsamples = 4\\nvalue = [2, 2]\"];\n",
      "316 -> 317;\n",
      "318 [label=\"gini = 0.0\\nsamples = 1\\nvalue = [1, 0]\"];\n",
      "317 -> 318;\n",
      "319 [label=\"X[5] <= 41.5\\ngini = 0.444\\nsamples = 3\\nvalue = [1, 2]\"];\n",
      "317 -> 319;\n",
      "320 [label=\"gini = 0.5\\nsamples = 2\\nvalue = [1, 1]\"];\n",
      "319 -> 320;\n",
      "321 [label=\"gini = 0.0\\nsamples = 1\\nvalue = [0, 1]\"];\n",
      "319 -> 321;\n",
      "322 [label=\"X[8] <= 13.25\\ngini = 0.098\\nsamples = 58\\nvalue = [55, 3]\"];\n",
      "316 -> 322;\n",
      "323 [label=\"X[8] <= 12.938\\ngini = 0.175\\nsamples = 31\\nvalue = [28, 3]\"];\n",
      "322 -> 323;\n",
      "324 [label=\"X[5] <= 44.5\\ngini = 0.091\\nsamples = 21\\nvalue = [20, 1]\"];\n",
      "323 -> 324;\n",
      "325 [label=\"gini = 0.0\\nsamples = 14\\nvalue = [14, 0]\"];\n",
      "324 -> 325;\n",
      "326 [label=\"X[5] <= 46.0\\ngini = 0.245\\nsamples = 7\\nvalue = [6, 1]\"];\n",
      "324 -> 326;\n",
      "327 [label=\"gini = 0.0\\nsamples = 1\\nvalue = [0, 1]\"];\n",
      "326 -> 327;\n",
      "328 [label=\"gini = 0.0\\nsamples = 6\\nvalue = [6, 0]\"];\n",
      "326 -> 328;\n",
      "329 [label=\"X[5] <= 45.0\\ngini = 0.32\\nsamples = 10\\nvalue = [8, 2]\"];\n",
      "323 -> 329;\n",
      "330 [label=\"X[5] <= 40.5\\ngini = 0.408\\nsamples = 7\\nvalue = [5, 2]\"];\n",
      "329 -> 330;\n",
      "331 [label=\"X[5] <= 35.0\\ngini = 0.32\\nsamples = 5\\nvalue = [4, 1]\"];\n",
      "330 -> 331;\n",
      "332 [label=\"gini = 0.444\\nsamples = 3\\nvalue = [2, 1]\"];\n",
      "331 -> 332;\n",
      "333 [label=\"gini = 0.0\\nsamples = 2\\nvalue = [2, 0]\"];\n",
      "331 -> 333;\n",
      "334 [label=\"gini = 0.5\\nsamples = 2\\nvalue = [1, 1]\"];\n",
      "330 -> 334;\n",
      "335 [label=\"gini = 0.0\\nsamples = 3\\nvalue = [3, 0]\"];\n",
      "329 -> 335;\n",
      "336 [label=\"gini = 0.0\\nsamples = 27\\nvalue = [27, 0]\"];\n",
      "322 -> 336;\n",
      "\"\\n\";\n",
      "}\n",
      "\n"
     ]
    }
   ],
   "source": [
    "dot_data = StringIO()\n",
    "tree.export_graphviz(DTclassifier, out_file=dot_data) \n",
    "graph = pydot.graph_from_dot_data(dot_data.getvalue()) \n",
    "print(graph[0])"
   ]
  },
  {
   "cell_type": "code",
   "execution_count": 46,
   "id": "cb7d9980",
   "metadata": {
    "execution": {
     "iopub.execute_input": "2022-10-18T02:59:38.004934Z",
     "iopub.status.busy": "2022-10-18T02:59:38.004083Z",
     "iopub.status.idle": "2022-10-18T02:59:59.119437Z",
     "shell.execute_reply": "2022-10-18T02:59:59.118232Z"
    },
    "id": "4e7e479a",
    "outputId": "cfb6db9b-c530-45cf-9f8d-a6688d31df40",
    "papermill": {
     "duration": 21.141137,
     "end_time": "2022-10-18T02:59:59.123213",
     "exception": false,
     "start_time": "2022-10-18T02:59:37.982076",
     "status": "completed"
    },
    "tags": []
   },
   "outputs": [
    {
     "data": {
      "image/png": "[encoded data removed]",
      "text/plain": [
       "<Figure size 2160x1080 with 1 Axes>"
      ]
     },
     "metadata": {
      "needs_background": "light"
     },
     "output_type": "display_data"
    }
   ],
   "source": [
    "Target = ['0','1']\n",
    "fig = plt.figure(figsize=(30,15))\n",
    "_ = tree.plot_tree(DTclassifier, feature_names= x, class_names= Target, filled=True)"
   ]
  },
  {
   "cell_type": "code",
   "execution_count": 47,
   "id": "cfff22c3",
   "metadata": {
    "execution": {
     "iopub.execute_input": "2022-10-18T02:59:59.169634Z",
     "iopub.status.busy": "2022-10-18T02:59:59.168756Z",
     "iopub.status.idle": "2022-10-18T02:59:59.371849Z",
     "shell.execute_reply": "2022-10-18T02:59:59.370576Z"
    },
    "id": "4b5f081d",
    "outputId": "316b121c-b0e8-4f3e-fa7c-81a99ed075f7",
    "papermill": {
     "duration": 0.229172,
     "end_time": "2022-10-18T02:59:59.374491",
     "exception": false,
     "start_time": "2022-10-18T02:59:59.145319",
     "status": "completed"
    },
    "tags": []
   },
   "outputs": [
    {
     "data": {
      "text/plain": [
       "RandomForestClassifier(random_state=0)"
      ]
     },
     "execution_count": 47,
     "metadata": {},
     "output_type": "execute_result"
    }
   ],
   "source": [
    "RFclassifier=RandomForestClassifier(n_estimators=100,random_state=0)\n",
    "RFclassifier.fit(x_train,y_train)"
   ]
  },
  {
   "cell_type": "code",
   "execution_count": 48,
   "id": "9f082754",
   "metadata": {
    "execution": {
     "iopub.execute_input": "2022-10-18T02:59:59.420569Z",
     "iopub.status.busy": "2022-10-18T02:59:59.420175Z",
     "iopub.status.idle": "2022-10-18T02:59:59.444225Z",
     "shell.execute_reply": "2022-10-18T02:59:59.443362Z"
    },
    "id": "ce8e6c05",
    "outputId": "8991a5e6-a8fe-4441-baaa-254f1e10b39c",
    "papermill": {
     "duration": 0.04971,
     "end_time": "2022-10-18T02:59:59.446501",
     "exception": false,
     "start_time": "2022-10-18T02:59:59.396791",
     "status": "completed"
    },
    "tags": []
   },
   "outputs": [
    {
     "data": {
      "text/plain": [
       "array([0, 0, 0, 1, 0, 0, 1, 1, 1, 1, 0, 0, 0, 1, 1, 1, 0, 0, 0, 1, 0, 1,\n",
       "       0, 0, 0, 1, 0, 1, 1, 0, 0, 1, 0, 0, 0, 0, 0, 0, 0, 0, 0, 0, 0, 0,\n",
       "       1, 0, 0, 1, 0, 0, 0, 0, 1, 0, 0, 0, 0, 0, 0, 0, 0, 0, 1, 0, 1, 0,\n",
       "       1, 0, 1, 1, 1, 0, 1, 0, 0, 1, 1, 0, 0, 0, 0, 1, 1, 0, 0, 1, 1, 0,\n",
       "       1, 0, 0, 0, 1, 1, 0, 0, 1, 0, 0, 0, 0, 0, 0, 0, 1, 1, 1, 0, 0, 1,\n",
       "       0, 1, 1, 0, 1, 1, 0, 1, 0, 1, 1, 0, 0, 0, 0, 0, 0, 0, 0, 0, 1, 0,\n",
       "       0, 0, 0, 0, 0, 0, 0, 0, 0, 1, 0, 1, 1, 0, 0, 1, 1, 1, 0, 1, 1, 0,\n",
       "       1, 0, 0, 0, 1, 1, 0, 0, 1, 0, 0, 0, 0, 0, 0, 0, 0, 1, 0, 0, 1, 0,\n",
       "       1, 0, 1])"
      ]
     },
     "execution_count": 48,
     "metadata": {},
     "output_type": "execute_result"
    }
   ],
   "source": [
    "RFpredictor=RFclassifier.predict(x_test)\n",
    "RFpredictor"
   ]
  },
  {
   "cell_type": "code",
   "execution_count": 49,
   "id": "c19bd9e6",
   "metadata": {
    "execution": {
     "iopub.execute_input": "2022-10-18T02:59:59.493101Z",
     "iopub.status.busy": "2022-10-18T02:59:59.492365Z",
     "iopub.status.idle": "2022-10-18T02:59:59.499132Z",
     "shell.execute_reply": "2022-10-18T02:59:59.498077Z"
    },
    "id": "da84aa94",
    "outputId": "6101a27a-cac6-4694-d433-82a33cad6304",
    "papermill": {
     "duration": 0.032495,
     "end_time": "2022-10-18T02:59:59.501278",
     "exception": false,
     "start_time": "2022-10-18T02:59:59.468783",
     "status": "completed"
    },
    "tags": []
   },
   "outputs": [
    {
     "data": {
      "text/plain": [
       "0.8379888268156425"
      ]
     },
     "execution_count": 49,
     "metadata": {},
     "output_type": "execute_result"
    }
   ],
   "source": [
    "RFaccuracy=accuracy_score(y_test,RFpredictor)\n",
    "RFaccuracy"
   ]
  },
  {
   "cell_type": "code",
   "execution_count": 50,
   "id": "84076de5",
   "metadata": {
    "execution": {
     "iopub.execute_input": "2022-10-18T02:59:59.546747Z",
     "iopub.status.busy": "2022-10-18T02:59:59.546126Z",
     "iopub.status.idle": "2022-10-18T02:59:59.570256Z",
     "shell.execute_reply": "2022-10-18T02:59:59.569331Z"
    },
    "id": "3af1b38d",
    "outputId": "314e574f-a3a3-4c17-94c7-ed91292b8352",
    "papermill": {
     "duration": 0.050106,
     "end_time": "2022-10-18T02:59:59.573086",
     "exception": false,
     "start_time": "2022-10-18T02:59:59.522980",
     "status": "completed"
    },
    "tags": []
   },
   "outputs": [
    {
     "name": "stdout",
     "output_type": "stream",
     "text": [
      "5 - fold Scores for Decision Trees: [0.74860335 0.76404494 0.79775281 0.74157303 0.80898876]\n",
      "Average Scores obtained for all the five Decision Trees: 0.7721925805034211\n"
     ]
    }
   ],
   "source": [
    "Decision_Tree_scores = cross_val_score(DTclassifier, x,y, cv=5, scoring = \"accuracy\")\n",
    "print(\"5 - fold Scores for Decision Trees:\", Decision_Tree_scores)\n",
    "print(\"Average Scores obtained for all the five Decision Trees:\", Decision_Tree_scores.mean())"
   ]
  },
  {
   "cell_type": "code",
   "execution_count": 51,
   "id": "00c3fc4a",
   "metadata": {
    "execution": {
     "iopub.execute_input": "2022-10-18T02:59:59.619483Z",
     "iopub.status.busy": "2022-10-18T02:59:59.618738Z",
     "iopub.status.idle": "2022-10-18T03:00:00.668213Z",
     "shell.execute_reply": "2022-10-18T03:00:00.666694Z"
    },
    "id": "175594ff",
    "outputId": "d1d9ce10-cd14-49dc-ca65-00264da7d9fd",
    "papermill": {
     "duration": 1.07596,
     "end_time": "2022-10-18T03:00:00.671060",
     "exception": false,
     "start_time": "2022-10-18T02:59:59.595100",
     "status": "completed"
    },
    "tags": []
   },
   "outputs": [
    {
     "name": "stdout",
     "output_type": "stream",
     "text": [
      "5 fold Scores for Random Forest:  [0.76536313 0.81460674 0.85955056 0.76966292 0.83707865]\n",
      "Average Scores obtained for 5 fold Random Forest:  0.809252400979223\n"
     ]
    }
   ],
   "source": [
    "Random_Forest_scores = cross_val_score(RFclassifier, x,y, cv=5, scoring = \"accuracy\")\n",
    "print(\"5 fold Scores for Random Forest: \", Random_Forest_scores)\n",
    "print(\"Average Scores obtained for 5 fold Random Forest: \", Random_Forest_scores.mean())"
   ]
  }
 ],
 "metadata": {
  "kernelspec": {
   "display_name": "Python 3",
   "language": "python",
   "name": "python3"
  },
  "language_info": {
   "codemirror_mode": {
    "name": "ipython",
    "version": 3
   },
   "file_extension": ".py",
   "mimetype": "text/x-python",
   "name": "python",
   "nbconvert_exporter": "python",
   "pygments_lexer": "ipython3",
   "version": "3.7.12"
  },
  "papermill": {
   "default_parameters": {},
   "duration": 40.061819,
   "end_time": "2022-10-18T03:00:01.716916",
   "environment_variables": {},
   "exception": null,
   "input_path": "__notebook__.ipynb",
   "output_path": "__notebook__.ipynb",
   "parameters": {},
   "start_time": "2022-10-18T02:59:21.655097",
   "version": "2.3.4"
  }
 },
 "nbformat": 4,
 "nbformat_minor": 5
}
